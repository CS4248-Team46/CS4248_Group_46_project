{
 "cells": [
  {
   "cell_type": "markdown",
   "id": "9e51d210-8f25-46f5-bbd1-e38173d6cd55",
   "metadata": {},
   "source": [
    "# Import Required Libraries"
   ]
  },
  {
   "cell_type": "code",
   "execution_count": 28,
   "id": "2b5a62ac-fffe-4c59-98b1-b8b79684d079",
   "metadata": {},
   "outputs": [
    {
     "name": "stderr",
     "output_type": "stream",
     "text": [
      "[nltk_data] Downloading package words to /Users/jonathan/nltk_data...\n",
      "[nltk_data]   Package words is already up-to-date!\n",
      "[nltk_data] Downloading package punkt to /Users/jonathan/nltk_data...\n",
      "[nltk_data]   Package punkt is already up-to-date!\n",
      "[nltk_data] Downloading package wordnet to\n",
      "[nltk_data]     /Users/jonathan/nltk_data...\n",
      "[nltk_data]   Package wordnet is already up-to-date!\n",
      "[nltk_data] Downloading package stopwords to\n",
      "[nltk_data]     /Users/jonathan/nltk_data...\n",
      "[nltk_data]   Package stopwords is already up-to-date!\n"
     ]
    },
    {
     "data": {
      "text/plain": [
       "True"
      ]
     },
     "execution_count": 28,
     "metadata": {},
     "output_type": "execute_result"
    }
   ],
   "source": [
    "import numpy as np\n",
    "import pandas as pd\n",
    "\n",
    "# Visualization libraries\n",
    "import matplotlib.pyplot as plt\n",
    "import seaborn as sns\n",
    "\n",
    "# To import overbalanced data\n",
    "from scipy.sparse import load_npz\n",
    "\n",
    "# Data balancing\n",
    "from imblearn.over_sampling import SMOTE\n",
    "\n",
    "# Sklearn libraries\n",
    "from sklearn.feature_extraction.text import CountVectorizer, TfidfVectorizer\n",
    "from sklearn.model_selection import train_test_split\n",
    "from sklearn.naive_bayes import MultinomialNB\n",
    "from sklearn.metrics import (\n",
    "    classification_report, confusion_matrix, ConfusionMatrixDisplay, f1_score\n",
    ")\n",
    "\n",
    "# NLTK libraries\n",
    "import nltk\n",
    "from nltk.corpus import stopwords, words\n",
    "from nltk.stem import WordNetLemmatizer\n",
    "from nltk.tokenize import RegexpTokenizer, word_tokenize\n",
    "import contractions\n",
    "\n",
    "# NLTK resource downloads\n",
    "nltk.download('words')\n",
    "nltk.download('punkt')\n",
    "nltk.download('wordnet')\n",
    "nltk.download('stopwords')\n"
   ]
  },
  {
   "cell_type": "markdown",
   "id": "3564275a-8234-4142-81f7-51434ea1c4a1",
   "metadata": {},
   "source": [
    "# Load in Datasets\n"
   ]
  },
  {
   "cell_type": "code",
   "execution_count": 31,
   "id": "f64efb66-c69a-4689-94cd-cbba3d746c92",
   "metadata": {},
   "outputs": [],
   "source": [
    "def load_file(filepath):\n",
    "    return pd.read_csv(filepath, header=None)"
   ]
  },
  {
   "cell_type": "code",
   "execution_count": 32,
   "id": "b72f3757-be85-4b18-b4d6-7db2fe386360",
   "metadata": {},
   "outputs": [],
   "source": [
    "# Training df\n",
    "df_train = load_file('raw_data/fulltrain.csv')\n",
    "df_train = df_train.set_axis(['label', 'text'], axis=1)\n",
    "\n",
    "# Testing df\n",
    "df_test = load_file('raw_data/balancedtest.csv')\n",
    "df_test = df_test.set_axis(['label', 'text'], axis=1)"
   ]
  },
  {
   "cell_type": "markdown",
   "id": "12707057-20af-4888-8e8c-a527bd3be230",
   "metadata": {},
   "source": [
    "# Map the labels"
   ]
  },
  {
   "cell_type": "code",
   "execution_count": 33,
   "id": "c5d4c827-6443-468e-ad0c-8a0b0372b00c",
   "metadata": {},
   "outputs": [],
   "source": [
    "label_mapping = {\n",
    "    1: \"Satire\",\n",
    "    2: \"Hoax\",\n",
    "    3: \"Propaganda\",\n",
    "    4: \"Reliable News\"\n",
    "}\n",
    "df_train['label'] = df_train['label'].map(label_mapping)\n",
    "df_test['label'] = df_test['label'].map(label_mapping)"
   ]
  },
  {
   "cell_type": "markdown",
   "id": "3ead0c54-caef-4922-b405-e0ff8cf59356",
   "metadata": {},
   "source": [
    "# Verify datasets loaded in correctly"
   ]
  },
  {
   "cell_type": "code",
   "execution_count": 34,
   "id": "75cb3203-c867-4371-a91a-53304ef92bc9",
   "metadata": {},
   "outputs": [
    {
     "data": {
      "text/html": [
       "<div>\n",
       "<style scoped>\n",
       "    .dataframe tbody tr th:only-of-type {\n",
       "        vertical-align: middle;\n",
       "    }\n",
       "\n",
       "    .dataframe tbody tr th {\n",
       "        vertical-align: top;\n",
       "    }\n",
       "\n",
       "    .dataframe thead th {\n",
       "        text-align: right;\n",
       "    }\n",
       "</style>\n",
       "<table border=\"1\" class=\"dataframe\">\n",
       "  <thead>\n",
       "    <tr style=\"text-align: right;\">\n",
       "      <th></th>\n",
       "      <th>label</th>\n",
       "      <th>text</th>\n",
       "    </tr>\n",
       "  </thead>\n",
       "  <tbody>\n",
       "    <tr>\n",
       "      <th>0</th>\n",
       "      <td>Satire</td>\n",
       "      <td>A little less than a decade ago, hockey fans w...</td>\n",
       "    </tr>\n",
       "    <tr>\n",
       "      <th>1</th>\n",
       "      <td>Satire</td>\n",
       "      <td>The writers of the HBO series The Sopranos too...</td>\n",
       "    </tr>\n",
       "    <tr>\n",
       "      <th>2</th>\n",
       "      <td>Satire</td>\n",
       "      <td>Despite claims from the TV news outlet to offe...</td>\n",
       "    </tr>\n",
       "    <tr>\n",
       "      <th>3</th>\n",
       "      <td>Satire</td>\n",
       "      <td>After receiving 'subpar' service and experienc...</td>\n",
       "    </tr>\n",
       "    <tr>\n",
       "      <th>4</th>\n",
       "      <td>Satire</td>\n",
       "      <td>After watching his beloved Seattle Mariners pr...</td>\n",
       "    </tr>\n",
       "    <tr>\n",
       "      <th>5</th>\n",
       "      <td>Satire</td>\n",
       "      <td>At a cafeteria-table press conference Monday, ...</td>\n",
       "    </tr>\n",
       "    <tr>\n",
       "      <th>6</th>\n",
       "      <td>Satire</td>\n",
       "      <td>Stunned shock and dismay were just a few of th...</td>\n",
       "    </tr>\n",
       "    <tr>\n",
       "      <th>7</th>\n",
       "      <td>Satire</td>\n",
       "      <td>Speaking with reporters before a game Monday, ...</td>\n",
       "    </tr>\n",
       "    <tr>\n",
       "      <th>8</th>\n",
       "      <td>Satire</td>\n",
       "      <td>Sports journalists and television crews were p...</td>\n",
       "    </tr>\n",
       "    <tr>\n",
       "      <th>9</th>\n",
       "      <td>Satire</td>\n",
       "      <td>SALEM, VAF;or the eighth straight world-histor...</td>\n",
       "    </tr>\n",
       "  </tbody>\n",
       "</table>\n",
       "</div>"
      ],
      "text/plain": [
       "    label                                               text\n",
       "0  Satire  A little less than a decade ago, hockey fans w...\n",
       "1  Satire  The writers of the HBO series The Sopranos too...\n",
       "2  Satire  Despite claims from the TV news outlet to offe...\n",
       "3  Satire  After receiving 'subpar' service and experienc...\n",
       "4  Satire  After watching his beloved Seattle Mariners pr...\n",
       "5  Satire  At a cafeteria-table press conference Monday, ...\n",
       "6  Satire  Stunned shock and dismay were just a few of th...\n",
       "7  Satire  Speaking with reporters before a game Monday, ...\n",
       "8  Satire  Sports journalists and television crews were p...\n",
       "9  Satire  SALEM, VAF;or the eighth straight world-histor..."
      ]
     },
     "execution_count": 34,
     "metadata": {},
     "output_type": "execute_result"
    }
   ],
   "source": [
    "df_train.head(10) # Training set"
   ]
  },
  {
   "cell_type": "code",
   "execution_count": 35,
   "id": "9c097546-1979-48da-a9e2-a4ce38bc657e",
   "metadata": {},
   "outputs": [
    {
     "data": {
      "text/html": [
       "<div>\n",
       "<style scoped>\n",
       "    .dataframe tbody tr th:only-of-type {\n",
       "        vertical-align: middle;\n",
       "    }\n",
       "\n",
       "    .dataframe tbody tr th {\n",
       "        vertical-align: top;\n",
       "    }\n",
       "\n",
       "    .dataframe thead th {\n",
       "        text-align: right;\n",
       "    }\n",
       "</style>\n",
       "<table border=\"1\" class=\"dataframe\">\n",
       "  <thead>\n",
       "    <tr style=\"text-align: right;\">\n",
       "      <th></th>\n",
       "      <th>label</th>\n",
       "      <th>text</th>\n",
       "    </tr>\n",
       "  </thead>\n",
       "  <tbody>\n",
       "    <tr>\n",
       "      <th>0</th>\n",
       "      <td>Satire</td>\n",
       "      <td>When so many actors seem content to churn out ...</td>\n",
       "    </tr>\n",
       "    <tr>\n",
       "      <th>1</th>\n",
       "      <td>Satire</td>\n",
       "      <td>In what football insiders are calling an unex...</td>\n",
       "    </tr>\n",
       "    <tr>\n",
       "      <th>2</th>\n",
       "      <td>Satire</td>\n",
       "      <td>In a freak accident following Game 3 of the N....</td>\n",
       "    </tr>\n",
       "    <tr>\n",
       "      <th>3</th>\n",
       "      <td>Satire</td>\n",
       "      <td>North Koreas official news agency announced to...</td>\n",
       "    </tr>\n",
       "    <tr>\n",
       "      <th>4</th>\n",
       "      <td>Satire</td>\n",
       "      <td>The former Alaska Governor Sarah Palin would b...</td>\n",
       "    </tr>\n",
       "    <tr>\n",
       "      <th>5</th>\n",
       "      <td>Satire</td>\n",
       "      <td>With the first Presidential debate just two da...</td>\n",
       "    </tr>\n",
       "    <tr>\n",
       "      <th>6</th>\n",
       "      <td>Satire</td>\n",
       "      <td>There are fans, and then there are super-fans....</td>\n",
       "    </tr>\n",
       "    <tr>\n",
       "      <th>7</th>\n",
       "      <td>Satire</td>\n",
       "      <td>With its landmark decisions this week, the Uni...</td>\n",
       "    </tr>\n",
       "    <tr>\n",
       "      <th>8</th>\n",
       "      <td>Satire</td>\n",
       "      <td>Koch Industries is defending its acquisition o...</td>\n",
       "    </tr>\n",
       "    <tr>\n",
       "      <th>9</th>\n",
       "      <td>Satire</td>\n",
       "      <td>Republican lawmakers asked increasingly tough ...</td>\n",
       "    </tr>\n",
       "  </tbody>\n",
       "</table>\n",
       "</div>"
      ],
      "text/plain": [
       "    label                                               text\n",
       "0  Satire  When so many actors seem content to churn out ...\n",
       "1  Satire   In what football insiders are calling an unex...\n",
       "2  Satire  In a freak accident following Game 3 of the N....\n",
       "3  Satire  North Koreas official news agency announced to...\n",
       "4  Satire  The former Alaska Governor Sarah Palin would b...\n",
       "5  Satire  With the first Presidential debate just two da...\n",
       "6  Satire  There are fans, and then there are super-fans....\n",
       "7  Satire  With its landmark decisions this week, the Uni...\n",
       "8  Satire  Koch Industries is defending its acquisition o...\n",
       "9  Satire  Republican lawmakers asked increasingly tough ..."
      ]
     },
     "execution_count": 35,
     "metadata": {},
     "output_type": "execute_result"
    }
   ],
   "source": [
    "df_test.head(10) # Test set"
   ]
  },
  {
   "cell_type": "markdown",
   "id": "f421818d-53c0-434d-8e8d-e6c225ebe20c",
   "metadata": {},
   "source": [
    "# Label distribution"
   ]
  },
  {
   "cell_type": "code",
   "execution_count": 36,
   "id": "e143c8e5-b9de-47e1-9144-48dfd7f79957",
   "metadata": {},
   "outputs": [
    {
     "data": {
      "image/png": "[encoded data removed]",
      "text/plain": [
       "<Figure size 640x480 with 1 Axes>"
      ]
     },
     "metadata": {},
     "output_type": "display_data"
    },
    {
     "data": {
      "text/plain": [
       "label\n",
       "Propaganda       17870\n",
       "Satire           14047\n",
       "Reliable News     9995\n",
       "Hoax              6942\n",
       "Name: count, dtype: int64"
      ]
     },
     "execution_count": 36,
     "metadata": {},
     "output_type": "execute_result"
    }
   ],
   "source": [
    "sns.countplot(x='label', data=df_train)\n",
    "plt.title('Training Label Distribution')\n",
    "plt.xlabel('Label')\n",
    "plt.ylabel('Frequency')\n",
    "plt.show()\n",
    "df_train[\"label\"].value_counts()"
   ]
  },
  {
   "cell_type": "code",
   "execution_count": 37,
   "id": "7d8988d0-ade3-43ec-a981-f7994fd2f031",
   "metadata": {},
   "outputs": [
    {
     "data": {
      "image/png": "[encoded data removed]",
      "text/plain": [
       "<Figure size 640x480 with 1 Axes>"
      ]
     },
     "metadata": {},
     "output_type": "display_data"
    },
    {
     "data": {
      "text/plain": [
       "label\n",
       "Satire           750\n",
       "Hoax             750\n",
       "Propaganda       750\n",
       "Reliable News    750\n",
       "Name: count, dtype: int64"
      ]
     },
     "execution_count": 37,
     "metadata": {},
     "output_type": "execute_result"
    }
   ],
   "source": [
    "sns.countplot(x='label', data=df_test)\n",
    "plt.title('Test Data Distribution')\n",
    "plt.xlabel('Label')\n",
    "plt.ylabel('Frequency')\n",
    "plt.show()\n",
    "df_test[\"label\"].value_counts()"
   ]
  },
  {
   "cell_type": "markdown",
   "id": "3c2b3027-ef1b-4669-aa6a-de9b10beea8a",
   "metadata": {},
   "source": [
    "# Basic Text Preprocessing"
   ]
  },
  {
   "cell_type": "markdown",
   "id": "571046ba-cd45-4cce-bf80-19d6d5ca3584",
   "metadata": {},
   "source": [
    "## Expand Contractions"
   ]
  },
  {
   "cell_type": "code",
   "execution_count": 38,
   "id": "2c137fdf-b142-4b28-ba96-916235dc124c",
   "metadata": {},
   "outputs": [],
   "source": [
    "def expand_contractions(corpus):\n",
    "    return contractions.fix(corpus)"
   ]
  },
  {
   "cell_type": "markdown",
   "id": "2bd5f9ba-1d14-4e92-8576-f0209f99010b",
   "metadata": {},
   "source": [
    "## Removal of Stop Words"
   ]
  },
  {
   "cell_type": "code",
   "execution_count": 39,
   "id": "19f323ce-89bb-417b-95d3-bdb993db2b09",
   "metadata": {},
   "outputs": [],
   "source": [
    "def remove_stopwords(corpus):\n",
    "    stop = nltk.corpus.stopwords.words('english')\n",
    "    sentence = \"\"\n",
    "    for word in corpus.split():\n",
    "        if word not in stop:\n",
    "            sentence += word\n",
    "            sentence += \" \"\n",
    "    return sentence.strip()"
   ]
  },
  {
   "cell_type": "markdown",
   "id": "5dc648e2-0f01-4c8e-8dc5-5666c545860f",
   "metadata": {},
   "source": [
    "## Lemmitization with WordNetLemmitizer"
   ]
  },
  {
   "cell_type": "code",
   "execution_count": 40,
   "id": "6dab770f-38a0-42fb-98f8-7c00796d9dd4",
   "metadata": {},
   "outputs": [],
   "source": [
    "def lemmatize_word(corpus):\n",
    "    lemma = WordNetLemmatizer()\n",
    "    sentence = \"\"\n",
    "    for word in corpus.split():\n",
    "        sentence += lemma.lemmatize(word)\n",
    "        sentence += \" \"\n",
    "    return sentence.strip()"
   ]
  },
  {
   "cell_type": "markdown",
   "id": "67d87076-dd12-41aa-ac78-c617cdcba512",
   "metadata": {},
   "source": [
    "## Preprocess the text"
   ]
  },
  {
   "cell_type": "code",
   "execution_count": 41,
   "id": "0f1c5679-63a8-491f-9dca-0a200474499f",
   "metadata": {},
   "outputs": [],
   "source": [
    "def preprocess_text(text):\n",
    "    text_contractions_expanded = expand_contractions(text)\n",
    "    text_no_stopwords = remove_stopwords(text_contractions_expanded)\n",
    "    text_processed = lemmatize_word(text_no_stopwords)\n",
    "    return text_processed"
   ]
  },
  {
   "cell_type": "code",
   "execution_count": 42,
   "id": "ed9c7294-ba99-4aee-8f40-c2d14165acf0",
   "metadata": {},
   "outputs": [
    {
     "name": "stdout",
     "output_type": "stream",
     "text": [
      "Processing dataset: df_train\n",
      "Finished processing dataset: df_train\n",
      "Processing dataset: df_test\n",
      "Finished processing dataset: df_test\n"
     ]
    }
   ],
   "source": [
    "# Processing datasets\n",
    "print(\"Processing dataset: df_train\")\n",
    "df_train['processed_text'] = df_train['text'].apply(preprocess_text)\n",
    "print(\"Finished processing dataset: df_train\")\n",
    "\n",
    "print(\"Processing dataset: df_test\")\n",
    "df_test['processed_text'] = df_test['text'].apply(preprocess_text)\n",
    "print(\"Finished processing dataset: df_test\")"
   ]
  },
  {
   "cell_type": "markdown",
   "id": "d85f061b-3749-4ef8-b875-958b505afe5d",
   "metadata": {},
   "source": [
    "# Model training and evaluation"
   ]
  },
  {
   "cell_type": "code",
   "execution_count": 17,
   "id": "4a3dd05b-2b3a-4fe0-93a2-8108316991a6",
   "metadata": {},
   "outputs": [],
   "source": [
    "# Training set\n",
    "X_train = df_train['processed_text']\n",
    "y_train = df_train['label']\n",
    "\n",
    "# Testing set\n",
    "X_test = df_test['processed_text']\n",
    "y_test = df_test['label']"
   ]
  },
  {
   "cell_type": "markdown",
   "id": "661f5a15-1d59-4ed2-b45e-1fa758e0be2a",
   "metadata": {},
   "source": [
    "## Choose a Vectorizer"
   ]
  },
  {
   "cell_type": "code",
   "execution_count": 52,
   "id": "f827932d-929d-42f8-836b-c3876d89925b",
   "metadata": {},
   "outputs": [],
   "source": [
    "# Choose the appropriate vectorizer here\n",
    "# vectorizer = CountVectorizer(max_features = 10000)\n",
    "# vectorizer = TfidfVectorizer(max_features = 10000)\n",
    "vectorizer = TfidfVectorizer(ngram_range = (1, 2), max_features = 10000)"
   ]
  },
  {
   "cell_type": "markdown",
   "id": "4d848f97-c7a9-4c3f-b123-d5ac4c37bdb1",
   "metadata": {},
   "source": [
    "## Vectorize"
   ]
  },
  {
   "cell_type": "code",
   "execution_count": 53,
   "id": "3ca33446-9fec-4768-af26-3edec30fa3c7",
   "metadata": {},
   "outputs": [],
   "source": [
    "X_train_counts = vectorizer.fit_transform(X_train)\n",
    "X_test_counts = vectorizer.transform(X_test)"
   ]
  },
  {
   "cell_type": "markdown",
   "id": "eddfcf79-f16b-4336-934b-ddd5c05ce47f",
   "metadata": {},
   "source": [
    "## Oversampling"
   ]
  },
  {
   "cell_type": "markdown",
   "id": "68307ca3-1ac1-41ea-9a89-0c5a7a073ed9",
   "metadata": {},
   "source": [
    "### For generating new files"
   ]
  },
  {
   "cell_type": "code",
   "execution_count": 27,
   "id": "f41c5802-7659-443e-98d1-8cd700873f26",
   "metadata": {},
   "outputs": [],
   "source": [
    "# Only use this when you need to generate new files\n",
    "\n",
    "# smote = SMOTE(random_state=42)\n",
    "# X_train_oversampled, y_train_oversampled = smote.fit_resample(X_train_counts, y_train)\n",
    "\n",
    "# Saving the sparse matrix (X_train_oversampled) to an NPZ file\n",
    "# save_npz('X_train_ioversampled_nsert_type_here.npz', X_train_oversampled)\n",
    "\n",
    "# # If y_train_oversampled is a pandas Series, convert it to a numpy array before saving\n",
    "# # This step ensures compatibility and space efficiency\n",
    "# y_train_oversampled_np = y_train_oversampled.to_numpy() if hasattr(y_train_oversampled, 'to_numpy') else y_train_oversampled\n",
    "\n",
    "# # Saving the labels (y_train_oversampled) to an NPY file\n",
    "# np.save('y_train_oversampled_insert_type_here.npy', y_train_oversampled_np)\n"
   ]
  },
  {
   "cell_type": "markdown",
   "id": "45470fa4-8dd3-4211-8706-315411346ed0",
   "metadata": {},
   "source": [
    "## Load in pre-oversampled data"
   ]
  },
  {
   "cell_type": "code",
   "execution_count": 54,
   "id": "c0674bc5-c8a4-4f96-8fa8-05c432ca44c0",
   "metadata": {},
   "outputs": [],
   "source": [
    "# Bow \n",
    "X_train_oversampled_bow = load_npz('raw_data/X_train_oversampled_bow.npz')\n",
    "y_train_oversampled_bow = np.load('raw_data/y_train_oversampled_bow.npy', allow_pickle=True)\n",
    "\n",
    "# TfIdf\n",
    "X_train_oversampled_tfidf = load_npz('raw_data/X_train_oversampled_tfidf.npz')\n",
    "y_train_oversampled_tfidf= np.load('raw_data/y_train_oversampled_tfidf.npy', allow_pickle=True)\n",
    "\n",
    "# # TfIdf with n_grams\n",
    "X_train_oversampled_tfidf_ngrams = load_npz('raw_data/X_train_oversampled_tfidf_ngrams.npz')\n",
    "y_train_oversampled_tfidf_ngrams = np.load('raw_data/y_train_oversampled_tfidf_ngrams.npy', allow_pickle=True)"
   ]
  },
  {
   "cell_type": "markdown",
   "id": "622acf47-dd25-456b-a1f6-01db258bca67",
   "metadata": {},
   "source": [
    "## Multinomial Naive Bayes baseline"
   ]
  },
  {
   "cell_type": "code",
   "execution_count": 55,
   "id": "b755b8e7-7f4a-4c9d-acac-3703b13e4120",
   "metadata": {},
   "outputs": [
    {
     "name": "stdout",
     "output_type": "stream",
     "text": [
      "               precision    recall  f1-score   support\n",
      "\n",
      "         Hoax       0.64      0.63      0.63       750\n",
      "   Propaganda       0.73      0.85      0.78       750\n",
      "Reliable News       0.84      0.77      0.80       750\n",
      "       Satire       0.63      0.59      0.61       750\n",
      "\n",
      "     accuracy                           0.71      3000\n",
      "    macro avg       0.71      0.71      0.71      3000\n",
      " weighted avg       0.71      0.71      0.71      3000\n",
      "\n",
      "Macro F1 Score: 0.707\n"
     ]
    }
   ],
   "source": [
    "# Naive Bayes classifier\n",
    "clf = MultinomialNB()\n",
    "\n",
    "# Fit the correct oversampled training set depending on your vectorizer\n",
    "clf.fit(X_train_oversampled_tfidf_ngrams, y_train_oversampled_tfidf_ngrams)\n",
    "\n",
    "# Predict\n",
    "y_pred = clf.predict(X_test_counts)\n",
    "\n",
    "# Score\n",
    "print(classification_report(y_test, y_pred))\n",
    "\n",
    "macro_f1 = f1_score(y_test, y_pred, average='macro')\n",
    "\n",
    "print(f'Macro F1 Score: {macro_f1:.3f}')"
   ]
  },
  {
   "cell_type": "markdown",
   "id": "2b32a40a-4a97-4419-ab2f-d96744f6e686",
   "metadata": {},
   "source": [
    "## Plot the confusion matrix "
   ]
  },
  {
   "cell_type": "code",
   "execution_count": 56,
   "id": "be0dc507-b030-4e4c-ab28-9745f4c4be4c",
   "metadata": {},
   "outputs": [
    {
     "data": {
      "image/png": "[encoded data removed]",
      "text/plain": [
       "<Figure size 640x480 with 2 Axes>"
      ]
     },
     "metadata": {},
     "output_type": "display_data"
    }
   ],
   "source": [
    "cm = confusion_matrix(y_test, y_pred)\n",
    "disp = ConfusionMatrixDisplay(confusion_matrix=cm)\n",
    "disp.plot(cmap=plt.cm.Blues)\n",
    "plt.title('Confusion Matrix')\n",
    "plt.show()"
   ]
  },
  {
   "cell_type": "markdown",
   "id": "95d7a76f-c770-43c1-ab9e-56f645dad089",
   "metadata": {},
   "source": [
    "## REPLACE WITH YOUR MODEL"
   ]
  },
  {
   "cell_type": "code",
   "execution_count": 46,
   "id": "cbbe77da-dc86-45a0-9652-91083b71a87d",
   "metadata": {},
   "outputs": [],
   "source": [
    "## TODO"
   ]
  }
 ],
 "metadata": {
  "kernelspec": {
   "display_name": "Python 3 (ipykernel)",
   "language": "python",
   "name": "python3"
  },
  "language_info": {
   "codemirror_mode": {
    "name": "ipython",
    "version": 3
   },
   "file_extension": ".py",
   "mimetype": "text/x-python",
   "name": "python",
   "nbconvert_exporter": "python",
   "pygments_lexer": "ipython3",
   "version": "3.10.13"
  }
 },
 "nbformat": 4,
 "nbformat_minor": 5
}
