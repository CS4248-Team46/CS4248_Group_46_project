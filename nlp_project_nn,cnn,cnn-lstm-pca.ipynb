{
 "cells": [
  {
   "cell_type": "markdown",
   "id": "9e51d210-8f25-46f5-bbd1-e38173d6cd55",
   "metadata": {
    "id": "9e51d210-8f25-46f5-bbd1-e38173d6cd55"
   },
   "source": [
    "# Import Required Libraries"
   ]
  },
  {
   "cell_type": "code",
   "execution_count": 3,
   "id": "ScAT_MD4cuc6",
   "metadata": {
    "colab": {
     "base_uri": "https://localhost:8080/"
    },
    "id": "ScAT_MD4cuc6",
    "outputId": "c1d7b777-3284-4d59-c811-2590af7fbb0e"
   },
   "outputs": [
    {
     "name": "stdout",
     "output_type": "stream",
     "text": [
      "Requirement already satisfied: contractions in ./anaconda3/lib/python3.11/site-packages (0.1.73)\n",
      "Requirement already satisfied: textsearch>=0.0.21 in ./anaconda3/lib/python3.11/site-packages (from contractions) (0.0.24)\n",
      "Requirement already satisfied: anyascii in ./anaconda3/lib/python3.11/site-packages (from textsearch>=0.0.21->contractions) (0.3.2)\n",
      "Requirement already satisfied: pyahocorasick in ./anaconda3/lib/python3.11/site-packages (from textsearch>=0.0.21->contractions) (2.1.0)\n",
      "Requirement already satisfied: imbalanced-learn in ./anaconda3/lib/python3.11/site-packages (0.12.2)\n",
      "Requirement already satisfied: scikit-learn in ./anaconda3/lib/python3.11/site-packages (1.4.2)\n",
      "Requirement already satisfied: numpy>=1.17.3 in ./anaconda3/lib/python3.11/site-packages (from imbalanced-learn) (1.24.3)\n",
      "Requirement already satisfied: scipy>=1.5.0 in ./anaconda3/lib/python3.11/site-packages (from imbalanced-learn) (1.10.1)\n",
      "Requirement already satisfied: joblib>=1.1.1 in ./anaconda3/lib/python3.11/site-packages (from imbalanced-learn) (1.2.0)\n",
      "Requirement already satisfied: threadpoolctl>=2.0.0 in ./anaconda3/lib/python3.11/site-packages (from imbalanced-learn) (2.2.0)\n",
      "Requirement already satisfied: shap in ./anaconda3/lib/python3.11/site-packages (0.45.0)\n",
      "Requirement already satisfied: numpy in ./anaconda3/lib/python3.11/site-packages (from shap) (1.24.3)\n",
      "Requirement already satisfied: scipy in ./anaconda3/lib/python3.11/site-packages (from shap) (1.10.1)\n",
      "Requirement already satisfied: scikit-learn in ./anaconda3/lib/python3.11/site-packages (from shap) (1.4.2)\n",
      "Requirement already satisfied: pandas in ./anaconda3/lib/python3.11/site-packages (from shap) (1.5.3)\n",
      "Requirement already satisfied: tqdm>=4.27.0 in ./anaconda3/lib/python3.11/site-packages (from shap) (4.65.0)\n",
      "Requirement already satisfied: packaging>20.9 in ./anaconda3/lib/python3.11/site-packages (from shap) (23.0)\n",
      "Requirement already satisfied: slicer==0.0.7 in ./anaconda3/lib/python3.11/site-packages (from shap) (0.0.7)\n",
      "Requirement already satisfied: numba in ./anaconda3/lib/python3.11/site-packages (from shap) (0.57.0)\n",
      "Requirement already satisfied: cloudpickle in ./anaconda3/lib/python3.11/site-packages (from shap) (2.2.1)\n",
      "Requirement already satisfied: llvmlite<0.41,>=0.40.0dev0 in ./anaconda3/lib/python3.11/site-packages (from numba->shap) (0.40.0)\n",
      "Requirement already satisfied: python-dateutil>=2.8.1 in ./anaconda3/lib/python3.11/site-packages (from pandas->shap) (2.8.2)\n",
      "Requirement already satisfied: pytz>=2020.1 in ./anaconda3/lib/python3.11/site-packages (from pandas->shap) (2022.7)\n",
      "Requirement already satisfied: joblib>=1.2.0 in ./anaconda3/lib/python3.11/site-packages (from scikit-learn->shap) (1.2.0)\n",
      "Requirement already satisfied: threadpoolctl>=2.0.0 in ./anaconda3/lib/python3.11/site-packages (from scikit-learn->shap) (2.2.0)\n",
      "Requirement already satisfied: six>=1.5 in ./anaconda3/lib/python3.11/site-packages (from python-dateutil>=2.8.1->pandas->shap) (1.16.0)\n",
      "Requirement already satisfied: spacy in ./anaconda3/lib/python3.11/site-packages (3.7.4)\n",
      "Requirement already satisfied: spacy-legacy<3.1.0,>=3.0.11 in ./anaconda3/lib/python3.11/site-packages (from spacy) (3.0.12)\n",
      "Requirement already satisfied: spacy-loggers<2.0.0,>=1.0.0 in ./anaconda3/lib/python3.11/site-packages (from spacy) (1.0.5)\n",
      "Requirement already satisfied: murmurhash<1.1.0,>=0.28.0 in ./anaconda3/lib/python3.11/site-packages (from spacy) (1.0.10)\n",
      "Requirement already satisfied: cymem<2.1.0,>=2.0.2 in ./anaconda3/lib/python3.11/site-packages (from spacy) (2.0.8)\n",
      "Requirement already satisfied: preshed<3.1.0,>=3.0.2 in ./anaconda3/lib/python3.11/site-packages (from spacy) (3.0.9)\n",
      "Requirement already satisfied: thinc<8.3.0,>=8.2.2 in ./anaconda3/lib/python3.11/site-packages (from spacy) (8.2.3)\n",
      "Requirement already satisfied: wasabi<1.2.0,>=0.9.1 in ./anaconda3/lib/python3.11/site-packages (from spacy) (1.1.2)\n",
      "Requirement already satisfied: srsly<3.0.0,>=2.4.3 in ./anaconda3/lib/python3.11/site-packages (from spacy) (2.4.8)\n",
      "Requirement already satisfied: catalogue<2.1.0,>=2.0.6 in ./anaconda3/lib/python3.11/site-packages (from spacy) (2.0.10)\n",
      "Requirement already satisfied: weasel<0.4.0,>=0.1.0 in ./anaconda3/lib/python3.11/site-packages (from spacy) (0.3.4)\n",
      "Requirement already satisfied: typer<0.10.0,>=0.3.0 in ./anaconda3/lib/python3.11/site-packages (from spacy) (0.9.4)\n",
      "Requirement already satisfied: smart-open<7.0.0,>=5.2.1 in ./anaconda3/lib/python3.11/site-packages (from spacy) (5.2.1)\n",
      "Requirement already satisfied: tqdm<5.0.0,>=4.38.0 in ./anaconda3/lib/python3.11/site-packages (from spacy) (4.65.0)\n",
      "Requirement already satisfied: requests<3.0.0,>=2.13.0 in ./anaconda3/lib/python3.11/site-packages (from spacy) (2.31.0)\n",
      "Requirement already satisfied: pydantic!=1.8,!=1.8.1,<3.0.0,>=1.7.4 in ./anaconda3/lib/python3.11/site-packages (from spacy) (1.10.12)\n",
      "Requirement already satisfied: jinja2 in ./anaconda3/lib/python3.11/site-packages (from spacy) (3.1.2)\n",
      "Requirement already satisfied: setuptools in ./anaconda3/lib/python3.11/site-packages (from spacy) (68.0.0)\n",
      "Requirement already satisfied: packaging>=20.0 in ./anaconda3/lib/python3.11/site-packages (from spacy) (23.0)\n",
      "Requirement already satisfied: langcodes<4.0.0,>=3.2.0 in ./anaconda3/lib/python3.11/site-packages (from spacy) (3.3.0)\n",
      "Requirement already satisfied: numpy>=1.19.0 in ./anaconda3/lib/python3.11/site-packages (from spacy) (1.24.3)\n",
      "Requirement already satisfied: typing-extensions>=4.2.0 in ./anaconda3/lib/python3.11/site-packages (from pydantic!=1.8,!=1.8.1,<3.0.0,>=1.7.4->spacy) (4.7.1)\n",
      "Requirement already satisfied: charset-normalizer<4,>=2 in ./anaconda3/lib/python3.11/site-packages (from requests<3.0.0,>=2.13.0->spacy) (2.0.4)\n",
      "Requirement already satisfied: idna<4,>=2.5 in ./anaconda3/lib/python3.11/site-packages (from requests<3.0.0,>=2.13.0->spacy) (3.4)\n",
      "Requirement already satisfied: urllib3<3,>=1.21.1 in ./anaconda3/lib/python3.11/site-packages (from requests<3.0.0,>=2.13.0->spacy) (1.26.16)\n",
      "Requirement already satisfied: certifi>=2017.4.17 in ./anaconda3/lib/python3.11/site-packages (from requests<3.0.0,>=2.13.0->spacy) (2024.2.2)\n",
      "Requirement already satisfied: blis<0.8.0,>=0.7.8 in ./anaconda3/lib/python3.11/site-packages (from thinc<8.3.0,>=8.2.2->spacy) (0.7.11)\n",
      "Requirement already satisfied: confection<1.0.0,>=0.0.1 in ./anaconda3/lib/python3.11/site-packages (from thinc<8.3.0,>=8.2.2->spacy) (0.1.4)\n",
      "Requirement already satisfied: click<9.0.0,>=7.1.1 in ./anaconda3/lib/python3.11/site-packages (from typer<0.10.0,>=0.3.0->spacy) (8.0.4)\n",
      "Requirement already satisfied: cloudpathlib<0.17.0,>=0.7.0 in ./anaconda3/lib/python3.11/site-packages (from weasel<0.4.0,>=0.1.0->spacy) (0.16.0)\n",
      "Requirement already satisfied: MarkupSafe>=2.0 in ./anaconda3/lib/python3.11/site-packages (from jinja2->spacy) (2.1.1)\n",
      "Collecting en-core-web-sm==3.7.1\n",
      "  Downloading https://github.com/explosion/spacy-models/releases/download/en_core_web_sm-3.7.1/en_core_web_sm-3.7.1-py3-none-any.whl (12.8 MB)\n",
      "\u001b[2K     \u001b[90m━━━━━━━━━━━━━━━━━━━━━━━━━━━━━━━━━━━━━━━━\u001b[0m \u001b[32m12.8/12.8 MB\u001b[0m \u001b[31m11.2 MB/s\u001b[0m eta \u001b[36m0:00:00\u001b[0m00:01\u001b[0m00:01\u001b[0m\n",
      "\u001b[?25hRequirement already satisfied: spacy<3.8.0,>=3.7.2 in ./anaconda3/lib/python3.11/site-packages (from en-core-web-sm==3.7.1) (3.7.4)\n",
      "Requirement already satisfied: spacy-legacy<3.1.0,>=3.0.11 in ./anaconda3/lib/python3.11/site-packages (from spacy<3.8.0,>=3.7.2->en-core-web-sm==3.7.1) (3.0.12)\n",
      "Requirement already satisfied: spacy-loggers<2.0.0,>=1.0.0 in ./anaconda3/lib/python3.11/site-packages (from spacy<3.8.0,>=3.7.2->en-core-web-sm==3.7.1) (1.0.5)\n",
      "Requirement already satisfied: murmurhash<1.1.0,>=0.28.0 in ./anaconda3/lib/python3.11/site-packages (from spacy<3.8.0,>=3.7.2->en-core-web-sm==3.7.1) (1.0.10)\n",
      "Requirement already satisfied: cymem<2.1.0,>=2.0.2 in ./anaconda3/lib/python3.11/site-packages (from spacy<3.8.0,>=3.7.2->en-core-web-sm==3.7.1) (2.0.8)\n",
      "Requirement already satisfied: preshed<3.1.0,>=3.0.2 in ./anaconda3/lib/python3.11/site-packages (from spacy<3.8.0,>=3.7.2->en-core-web-sm==3.7.1) (3.0.9)\n",
      "Requirement already satisfied: thinc<8.3.0,>=8.2.2 in ./anaconda3/lib/python3.11/site-packages (from spacy<3.8.0,>=3.7.2->en-core-web-sm==3.7.1) (8.2.3)\n",
      "Requirement already satisfied: wasabi<1.2.0,>=0.9.1 in ./anaconda3/lib/python3.11/site-packages (from spacy<3.8.0,>=3.7.2->en-core-web-sm==3.7.1) (1.1.2)\n",
      "Requirement already satisfied: srsly<3.0.0,>=2.4.3 in ./anaconda3/lib/python3.11/site-packages (from spacy<3.8.0,>=3.7.2->en-core-web-sm==3.7.1) (2.4.8)\n",
      "Requirement already satisfied: catalogue<2.1.0,>=2.0.6 in ./anaconda3/lib/python3.11/site-packages (from spacy<3.8.0,>=3.7.2->en-core-web-sm==3.7.1) (2.0.10)\n",
      "Requirement already satisfied: weasel<0.4.0,>=0.1.0 in ./anaconda3/lib/python3.11/site-packages (from spacy<3.8.0,>=3.7.2->en-core-web-sm==3.7.1) (0.3.4)\n",
      "Requirement already satisfied: typer<0.10.0,>=0.3.0 in ./anaconda3/lib/python3.11/site-packages (from spacy<3.8.0,>=3.7.2->en-core-web-sm==3.7.1) (0.9.4)\n",
      "Requirement already satisfied: smart-open<7.0.0,>=5.2.1 in ./anaconda3/lib/python3.11/site-packages (from spacy<3.8.0,>=3.7.2->en-core-web-sm==3.7.1) (5.2.1)\n",
      "Requirement already satisfied: tqdm<5.0.0,>=4.38.0 in ./anaconda3/lib/python3.11/site-packages (from spacy<3.8.0,>=3.7.2->en-core-web-sm==3.7.1) (4.65.0)\n",
      "Requirement already satisfied: requests<3.0.0,>=2.13.0 in ./anaconda3/lib/python3.11/site-packages (from spacy<3.8.0,>=3.7.2->en-core-web-sm==3.7.1) (2.31.0)\n",
      "Requirement already satisfied: pydantic!=1.8,!=1.8.1,<3.0.0,>=1.7.4 in ./anaconda3/lib/python3.11/site-packages (from spacy<3.8.0,>=3.7.2->en-core-web-sm==3.7.1) (1.10.12)\n",
      "Requirement already satisfied: jinja2 in ./anaconda3/lib/python3.11/site-packages (from spacy<3.8.0,>=3.7.2->en-core-web-sm==3.7.1) (3.1.2)\n",
      "Requirement already satisfied: setuptools in ./anaconda3/lib/python3.11/site-packages (from spacy<3.8.0,>=3.7.2->en-core-web-sm==3.7.1) (68.0.0)\n",
      "Requirement already satisfied: packaging>=20.0 in ./anaconda3/lib/python3.11/site-packages (from spacy<3.8.0,>=3.7.2->en-core-web-sm==3.7.1) (23.0)\n",
      "Requirement already satisfied: langcodes<4.0.0,>=3.2.0 in ./anaconda3/lib/python3.11/site-packages (from spacy<3.8.0,>=3.7.2->en-core-web-sm==3.7.1) (3.3.0)\n",
      "Requirement already satisfied: numpy>=1.19.0 in ./anaconda3/lib/python3.11/site-packages (from spacy<3.8.0,>=3.7.2->en-core-web-sm==3.7.1) (1.24.3)\n",
      "Requirement already satisfied: typing-extensions>=4.2.0 in ./anaconda3/lib/python3.11/site-packages (from pydantic!=1.8,!=1.8.1,<3.0.0,>=1.7.4->spacy<3.8.0,>=3.7.2->en-core-web-sm==3.7.1) (4.7.1)\n",
      "Requirement already satisfied: charset-normalizer<4,>=2 in ./anaconda3/lib/python3.11/site-packages (from requests<3.0.0,>=2.13.0->spacy<3.8.0,>=3.7.2->en-core-web-sm==3.7.1) (2.0.4)\n",
      "Requirement already satisfied: idna<4,>=2.5 in ./anaconda3/lib/python3.11/site-packages (from requests<3.0.0,>=2.13.0->spacy<3.8.0,>=3.7.2->en-core-web-sm==3.7.1) (3.4)\n",
      "Requirement already satisfied: urllib3<3,>=1.21.1 in ./anaconda3/lib/python3.11/site-packages (from requests<3.0.0,>=2.13.0->spacy<3.8.0,>=3.7.2->en-core-web-sm==3.7.1) (1.26.16)\n",
      "Requirement already satisfied: certifi>=2017.4.17 in ./anaconda3/lib/python3.11/site-packages (from requests<3.0.0,>=2.13.0->spacy<3.8.0,>=3.7.2->en-core-web-sm==3.7.1) (2024.2.2)\n",
      "Requirement already satisfied: blis<0.8.0,>=0.7.8 in ./anaconda3/lib/python3.11/site-packages (from thinc<8.3.0,>=8.2.2->spacy<3.8.0,>=3.7.2->en-core-web-sm==3.7.1) (0.7.11)\n",
      "Requirement already satisfied: confection<1.0.0,>=0.0.1 in ./anaconda3/lib/python3.11/site-packages (from thinc<8.3.0,>=8.2.2->spacy<3.8.0,>=3.7.2->en-core-web-sm==3.7.1) (0.1.4)\n",
      "Requirement already satisfied: click<9.0.0,>=7.1.1 in ./anaconda3/lib/python3.11/site-packages (from typer<0.10.0,>=0.3.0->spacy<3.8.0,>=3.7.2->en-core-web-sm==3.7.1) (8.0.4)\n",
      "Requirement already satisfied: cloudpathlib<0.17.0,>=0.7.0 in ./anaconda3/lib/python3.11/site-packages (from weasel<0.4.0,>=0.1.0->spacy<3.8.0,>=3.7.2->en-core-web-sm==3.7.1) (0.16.0)\n",
      "Requirement already satisfied: MarkupSafe>=2.0 in ./anaconda3/lib/python3.11/site-packages (from jinja2->spacy<3.8.0,>=3.7.2->en-core-web-sm==3.7.1) (2.1.1)\n",
      "\u001b[38;5;2m✔ Download and installation successful\u001b[0m\n",
      "You can now load the package via spacy.load('en_core_web_sm')\n",
      "Requirement already satisfied: tensorflow in ./anaconda3/lib/python3.11/site-packages (2.16.1)\n",
      "Requirement already satisfied: absl-py>=1.0.0 in ./anaconda3/lib/python3.11/site-packages (from tensorflow) (2.1.0)\n",
      "Requirement already satisfied: astunparse>=1.6.0 in ./anaconda3/lib/python3.11/site-packages (from tensorflow) (1.6.3)\n",
      "Requirement already satisfied: flatbuffers>=23.5.26 in ./anaconda3/lib/python3.11/site-packages (from tensorflow) (24.3.25)\n",
      "Requirement already satisfied: gast!=0.5.0,!=0.5.1,!=0.5.2,>=0.2.1 in ./anaconda3/lib/python3.11/site-packages (from tensorflow) (0.5.4)\n",
      "Requirement already satisfied: google-pasta>=0.1.1 in ./anaconda3/lib/python3.11/site-packages (from tensorflow) (0.2.0)\n",
      "Requirement already satisfied: h5py>=3.10.0 in ./anaconda3/lib/python3.11/site-packages (from tensorflow) (3.11.0)\n",
      "Requirement already satisfied: libclang>=13.0.0 in ./anaconda3/lib/python3.11/site-packages (from tensorflow) (18.1.1)\n",
      "Requirement already satisfied: ml-dtypes~=0.3.1 in ./anaconda3/lib/python3.11/site-packages (from tensorflow) (0.3.2)\n",
      "Requirement already satisfied: opt-einsum>=2.3.2 in ./anaconda3/lib/python3.11/site-packages (from tensorflow) (3.3.0)\n",
      "Requirement already satisfied: packaging in ./anaconda3/lib/python3.11/site-packages (from tensorflow) (23.0)\n",
      "Requirement already satisfied: protobuf!=4.21.0,!=4.21.1,!=4.21.2,!=4.21.3,!=4.21.4,!=4.21.5,<5.0.0dev,>=3.20.3 in ./anaconda3/lib/python3.11/site-packages (from tensorflow) (4.25.3)\n",
      "Requirement already satisfied: requests<3,>=2.21.0 in ./anaconda3/lib/python3.11/site-packages (from tensorflow) (2.31.0)\n",
      "Requirement already satisfied: setuptools in ./anaconda3/lib/python3.11/site-packages (from tensorflow) (68.0.0)\n",
      "Requirement already satisfied: six>=1.12.0 in ./anaconda3/lib/python3.11/site-packages (from tensorflow) (1.16.0)\n",
      "Requirement already satisfied: termcolor>=1.1.0 in ./anaconda3/lib/python3.11/site-packages (from tensorflow) (2.4.0)\n",
      "Requirement already satisfied: typing-extensions>=3.6.6 in ./anaconda3/lib/python3.11/site-packages (from tensorflow) (4.7.1)\n",
      "Requirement already satisfied: wrapt>=1.11.0 in ./anaconda3/lib/python3.11/site-packages (from tensorflow) (1.14.1)\n",
      "Requirement already satisfied: grpcio<2.0,>=1.24.3 in ./anaconda3/lib/python3.11/site-packages (from tensorflow) (1.62.1)\n",
      "Requirement already satisfied: tensorboard<2.17,>=2.16 in ./anaconda3/lib/python3.11/site-packages (from tensorflow) (2.16.2)\n",
      "Requirement already satisfied: keras>=3.0.0 in ./anaconda3/lib/python3.11/site-packages (from tensorflow) (3.2.1)\n",
      "Requirement already satisfied: tensorflow-io-gcs-filesystem>=0.23.1 in ./anaconda3/lib/python3.11/site-packages (from tensorflow) (0.36.0)\n",
      "Requirement already satisfied: numpy<2.0.0,>=1.23.5 in ./anaconda3/lib/python3.11/site-packages (from tensorflow) (1.24.3)\n",
      "Requirement already satisfied: wheel<1.0,>=0.23.0 in ./anaconda3/lib/python3.11/site-packages (from astunparse>=1.6.0->tensorflow) (0.38.4)\n",
      "Requirement already satisfied: rich in ./anaconda3/lib/python3.11/site-packages (from keras>=3.0.0->tensorflow) (13.7.1)\n",
      "Requirement already satisfied: namex in ./anaconda3/lib/python3.11/site-packages (from keras>=3.0.0->tensorflow) (0.0.7)\n",
      "Requirement already satisfied: optree in ./anaconda3/lib/python3.11/site-packages (from keras>=3.0.0->tensorflow) (0.11.0)\n",
      "Requirement already satisfied: charset-normalizer<4,>=2 in ./anaconda3/lib/python3.11/site-packages (from requests<3,>=2.21.0->tensorflow) (2.0.4)\n",
      "Requirement already satisfied: idna<4,>=2.5 in ./anaconda3/lib/python3.11/site-packages (from requests<3,>=2.21.0->tensorflow) (3.4)\n",
      "Requirement already satisfied: urllib3<3,>=1.21.1 in ./anaconda3/lib/python3.11/site-packages (from requests<3,>=2.21.0->tensorflow) (1.26.16)\n",
      "Requirement already satisfied: certifi>=2017.4.17 in ./anaconda3/lib/python3.11/site-packages (from requests<3,>=2.21.0->tensorflow) (2024.2.2)\n",
      "Requirement already satisfied: markdown>=2.6.8 in ./anaconda3/lib/python3.11/site-packages (from tensorboard<2.17,>=2.16->tensorflow) (3.4.1)\n",
      "Requirement already satisfied: tensorboard-data-server<0.8.0,>=0.7.0 in ./anaconda3/lib/python3.11/site-packages (from tensorboard<2.17,>=2.16->tensorflow) (0.7.2)\n",
      "Requirement already satisfied: werkzeug>=1.0.1 in ./anaconda3/lib/python3.11/site-packages (from tensorboard<2.17,>=2.16->tensorflow) (2.2.3)\n",
      "Requirement already satisfied: MarkupSafe>=2.1.1 in ./anaconda3/lib/python3.11/site-packages (from werkzeug>=1.0.1->tensorboard<2.17,>=2.16->tensorflow) (2.1.1)\n",
      "Requirement already satisfied: markdown-it-py>=2.2.0 in ./anaconda3/lib/python3.11/site-packages (from rich->keras>=3.0.0->tensorflow) (2.2.0)\n",
      "Requirement already satisfied: pygments<3.0.0,>=2.13.0 in ./anaconda3/lib/python3.11/site-packages (from rich->keras>=3.0.0->tensorflow) (2.15.1)\n",
      "Requirement already satisfied: mdurl~=0.1 in ./anaconda3/lib/python3.11/site-packages (from markdown-it-py>=2.2.0->rich->keras>=3.0.0->tensorflow) (0.1.0)\n"
     ]
    }
   ],
   "source": [
    "!pip install contractions\n",
    "!pip install --upgrade imbalanced-learn scikit-learn\n",
    "!pip install shap\n",
    "!pip install spacy\n",
    "\n",
    "!python -m spacy download en_core_web_sm\n",
    "!pip install tensorflow"
   ]
  },
  {
   "cell_type": "code",
   "execution_count": 4,
   "id": "2b5a62ac-fffe-4c59-98b1-b8b79684d079",
   "metadata": {
    "colab": {
     "base_uri": "https://localhost:8080/"
    },
    "id": "2b5a62ac-fffe-4c59-98b1-b8b79684d079",
    "outputId": "b46fffb7-6bce-4439-dd2e-e7c87c545bb3"
   },
   "outputs": [
    {
     "name": "stderr",
     "output_type": "stream",
     "text": [
      "[nltk_data] Downloading package words to\n",
      "[nltk_data]     /Users/sandhiyadhanasekaran/nltk_data...\n",
      "[nltk_data]   Package words is already up-to-date!\n",
      "[nltk_data] Downloading package punkt to\n",
      "[nltk_data]     /Users/sandhiyadhanasekaran/nltk_data...\n",
      "[nltk_data]   Package punkt is already up-to-date!\n",
      "[nltk_data] Downloading package wordnet to\n",
      "[nltk_data]     /Users/sandhiyadhanasekaran/nltk_data...\n",
      "[nltk_data]   Package wordnet is already up-to-date!\n",
      "[nltk_data] Downloading package stopwords to\n",
      "[nltk_data]     /Users/sandhiyadhanasekaran/nltk_data...\n",
      "[nltk_data]   Package stopwords is already up-to-date!\n",
      "[nltk_data] Downloading package vader_lexicon to\n",
      "[nltk_data]     /Users/sandhiyadhanasekaran/nltk_data...\n",
      "[nltk_data]   Package vader_lexicon is already up-to-date!\n"
     ]
    },
    {
     "data": {
      "text/plain": [
       "True"
      ]
     },
     "execution_count": 4,
     "metadata": {},
     "output_type": "execute_result"
    }
   ],
   "source": [
    "import numpy as np\n",
    "import pandas as pd\n",
    "\n",
    "# Visualization libraries\n",
    "import matplotlib.pyplot as plt\n",
    "import seaborn as sns\n",
    "import shap\n",
    "\n",
    "# Data balancing\n",
    "from imblearn.over_sampling import SMOTE\n",
    "\n",
    "# Sklearn libraries\n",
    "from sklearn.feature_extraction.text import CountVectorizer, TfidfVectorizer\n",
    "from sklearn.model_selection import train_test_split\n",
    "from sklearn.naive_bayes import MultinomialNB\n",
    "from sklearn.metrics import (\n",
    "    classification_report, confusion_matrix, ConfusionMatrixDisplay, f1_score\n",
    ")\n",
    "from sklearn.decomposition import PCA\n",
    "# NLTK libraries\n",
    "import nltk\n",
    "from nltk.corpus import stopwords, words\n",
    "from nltk.stem import WordNetLemmatizer\n",
    "from nltk.tokenize import RegexpTokenizer, word_tokenize\n",
    "import contractions\n",
    "from nltk.sentiment.vader import SentimentIntensityAnalyzer\n",
    "\n",
    "\n",
    "import spacy\n",
    "nlp = spacy.load(\"en_core_web_sm\")\n",
    "\n",
    "\n",
    "# NLTK resource downloads\n",
    "nltk.download('words')\n",
    "nltk.download('punkt')\n",
    "nltk.download('wordnet')\n",
    "nltk.download('stopwords')\n",
    "nltk.download('vader_lexicon')"
   ]
  },
  {
   "cell_type": "markdown",
   "id": "3564275a-8234-4142-81f7-51434ea1c4a1",
   "metadata": {
    "id": "3564275a-8234-4142-81f7-51434ea1c4a1"
   },
   "source": [
    "# Load in Datasets\n"
   ]
  },
  {
   "cell_type": "code",
   "execution_count": 5,
   "id": "f64efb66-c69a-4689-94cd-cbba3d746c92",
   "metadata": {
    "id": "f64efb66-c69a-4689-94cd-cbba3d746c92"
   },
   "outputs": [],
   "source": [
    "def load_file(filepath):\n",
    "    return pd.read_csv(filepath, header=None, names=['text'])"
   ]
  },
  {
   "cell_type": "code",
   "execution_count": 12,
   "id": "b72f3757-be85-4b18-b4d6-7db2fe386360",
   "metadata": {
    "colab": {
     "base_uri": "https://localhost:8080/"
    },
    "id": "b72f3757-be85-4b18-b4d6-7db2fe386360",
    "outputId": "e29d50a0-e003-428d-dc39-e0abbc7e5586"
   },
   "outputs": [],
   "source": [
    "\n",
    "# Training df\n",
    "df_train = load_file('/Users/sandhiyadhanasekaran/Downloads/raw_data/fulltrain.csv')\n",
    "df_train['label'] = df_train.index\n",
    "\n",
    "# Testing df\n",
    "df_test = load_file('/Users/sandhiyadhanasekaran/Downloads/raw_data/balancedtest.csv')\n",
    "df_test['label'] = df_test.index\n",
    "\n",
    "\n",
    "# X_train_features = load_file('/Users/sandhiyadhanasekaran/Downloads/raw_data/train_preprocess.csv')\n",
    "# X_test_features=load_file('/Users/sandhiyadhanasekaran/Downloads/raw_data/test_preprocess.csv')"
   ]
  },
  {
   "cell_type": "markdown",
   "id": "12707057-20af-4888-8e8c-a527bd3be230",
   "metadata": {
    "id": "12707057-20af-4888-8e8c-a527bd3be230"
   },
   "source": [
    "# Map the labels"
   ]
  },
  {
   "cell_type": "code",
   "execution_count": 13,
   "id": "c5d4c827-6443-468e-ad0c-8a0b0372b00c",
   "metadata": {
    "id": "c5d4c827-6443-468e-ad0c-8a0b0372b00c"
   },
   "outputs": [],
   "source": [
    "label_mapping = {\n",
    "    1: \"Satire\",\n",
    "    2: \"Hoax\",\n",
    "    3: \"Propaganda\",\n",
    "    4: \"Reliable News\"\n",
    "}\n",
    "df_train['label'] = df_train['label'].map(label_mapping)\n",
    "df_test['label'] = df_test['label'].map(label_mapping)\n"
   ]
  },
  {
   "cell_type": "markdown",
   "id": "3ead0c54-caef-4922-b405-e0ff8cf59356",
   "metadata": {
    "id": "3ead0c54-caef-4922-b405-e0ff8cf59356"
   },
   "source": [
    "# Verify datasets loaded in correctly"
   ]
  },
  {
   "cell_type": "code",
   "execution_count": 14,
   "id": "75cb3203-c867-4371-a91a-53304ef92bc9",
   "metadata": {
    "colab": {
     "base_uri": "https://localhost:8080/",
     "height": 352
    },
    "id": "75cb3203-c867-4371-a91a-53304ef92bc9",
    "outputId": "f77b4354-b2cb-43a0-8d1a-257937c20199"
   },
   "outputs": [
    {
     "data": {
      "text/html": [
       "<div>\n",
       "<style scoped>\n",
       "    .dataframe tbody tr th:only-of-type {\n",
       "        vertical-align: middle;\n",
       "    }\n",
       "\n",
       "    .dataframe tbody tr th {\n",
       "        vertical-align: top;\n",
       "    }\n",
       "\n",
       "    .dataframe thead th {\n",
       "        text-align: right;\n",
       "    }\n",
       "</style>\n",
       "<table border=\"1\" class=\"dataframe\">\n",
       "  <thead>\n",
       "    <tr style=\"text-align: right;\">\n",
       "      <th></th>\n",
       "      <th>text</th>\n",
       "      <th>label</th>\n",
       "    </tr>\n",
       "  </thead>\n",
       "  <tbody>\n",
       "    <tr>\n",
       "      <th>1</th>\n",
       "      <td>A little less than a decade ago, hockey fans w...</td>\n",
       "      <td>Satire</td>\n",
       "    </tr>\n",
       "    <tr>\n",
       "      <th>1</th>\n",
       "      <td>The writers of the HBO series The Sopranos too...</td>\n",
       "      <td>Satire</td>\n",
       "    </tr>\n",
       "    <tr>\n",
       "      <th>1</th>\n",
       "      <td>Despite claims from the TV news outlet to offe...</td>\n",
       "      <td>Satire</td>\n",
       "    </tr>\n",
       "    <tr>\n",
       "      <th>1</th>\n",
       "      <td>After receiving 'subpar' service and experienc...</td>\n",
       "      <td>Satire</td>\n",
       "    </tr>\n",
       "    <tr>\n",
       "      <th>1</th>\n",
       "      <td>After watching his beloved Seattle Mariners pr...</td>\n",
       "      <td>Satire</td>\n",
       "    </tr>\n",
       "    <tr>\n",
       "      <th>1</th>\n",
       "      <td>At a cafeteria-table press conference Monday, ...</td>\n",
       "      <td>Satire</td>\n",
       "    </tr>\n",
       "    <tr>\n",
       "      <th>1</th>\n",
       "      <td>Stunned shock and dismay were just a few of th...</td>\n",
       "      <td>Satire</td>\n",
       "    </tr>\n",
       "    <tr>\n",
       "      <th>1</th>\n",
       "      <td>Speaking with reporters before a game Monday, ...</td>\n",
       "      <td>Satire</td>\n",
       "    </tr>\n",
       "    <tr>\n",
       "      <th>1</th>\n",
       "      <td>Sports journalists and television crews were p...</td>\n",
       "      <td>Satire</td>\n",
       "    </tr>\n",
       "    <tr>\n",
       "      <th>1</th>\n",
       "      <td>SALEM, VAF;or the eighth straight world-histor...</td>\n",
       "      <td>Satire</td>\n",
       "    </tr>\n",
       "  </tbody>\n",
       "</table>\n",
       "</div>"
      ],
      "text/plain": [
       "                                                text   label\n",
       "1  A little less than a decade ago, hockey fans w...  Satire\n",
       "1  The writers of the HBO series The Sopranos too...  Satire\n",
       "1  Despite claims from the TV news outlet to offe...  Satire\n",
       "1  After receiving 'subpar' service and experienc...  Satire\n",
       "1  After watching his beloved Seattle Mariners pr...  Satire\n",
       "1  At a cafeteria-table press conference Monday, ...  Satire\n",
       "1  Stunned shock and dismay were just a few of th...  Satire\n",
       "1  Speaking with reporters before a game Monday, ...  Satire\n",
       "1  Sports journalists and television crews were p...  Satire\n",
       "1  SALEM, VAF;or the eighth straight world-histor...  Satire"
      ]
     },
     "execution_count": 14,
     "metadata": {},
     "output_type": "execute_result"
    }
   ],
   "source": [
    "\n",
    "df_train.head(10) # Training set"
   ]
  },
  {
   "cell_type": "code",
   "execution_count": 15,
   "id": "9c097546-1979-48da-a9e2-a4ce38bc657e",
   "metadata": {
    "colab": {
     "base_uri": "https://localhost:8080/",
     "height": 352
    },
    "id": "9c097546-1979-48da-a9e2-a4ce38bc657e",
    "outputId": "7f3affed-838f-4d86-98a5-e2cc3666e6e4"
   },
   "outputs": [
    {
     "data": {
      "text/html": [
       "<div>\n",
       "<style scoped>\n",
       "    .dataframe tbody tr th:only-of-type {\n",
       "        vertical-align: middle;\n",
       "    }\n",
       "\n",
       "    .dataframe tbody tr th {\n",
       "        vertical-align: top;\n",
       "    }\n",
       "\n",
       "    .dataframe thead th {\n",
       "        text-align: right;\n",
       "    }\n",
       "</style>\n",
       "<table border=\"1\" class=\"dataframe\">\n",
       "  <thead>\n",
       "    <tr style=\"text-align: right;\">\n",
       "      <th></th>\n",
       "      <th>text</th>\n",
       "      <th>label</th>\n",
       "    </tr>\n",
       "  </thead>\n",
       "  <tbody>\n",
       "    <tr>\n",
       "      <th>1</th>\n",
       "      <td>When so many actors seem content to churn out ...</td>\n",
       "      <td>Satire</td>\n",
       "    </tr>\n",
       "    <tr>\n",
       "      <th>1</th>\n",
       "      <td>In what football insiders are calling an unex...</td>\n",
       "      <td>Satire</td>\n",
       "    </tr>\n",
       "    <tr>\n",
       "      <th>1</th>\n",
       "      <td>In a freak accident following Game 3 of the N....</td>\n",
       "      <td>Satire</td>\n",
       "    </tr>\n",
       "    <tr>\n",
       "      <th>1</th>\n",
       "      <td>North Koreas official news agency announced to...</td>\n",
       "      <td>Satire</td>\n",
       "    </tr>\n",
       "    <tr>\n",
       "      <th>1</th>\n",
       "      <td>The former Alaska Governor Sarah Palin would b...</td>\n",
       "      <td>Satire</td>\n",
       "    </tr>\n",
       "    <tr>\n",
       "      <th>1</th>\n",
       "      <td>With the first Presidential debate just two da...</td>\n",
       "      <td>Satire</td>\n",
       "    </tr>\n",
       "    <tr>\n",
       "      <th>1</th>\n",
       "      <td>There are fans, and then there are super-fans....</td>\n",
       "      <td>Satire</td>\n",
       "    </tr>\n",
       "    <tr>\n",
       "      <th>1</th>\n",
       "      <td>With its landmark decisions this week, the Uni...</td>\n",
       "      <td>Satire</td>\n",
       "    </tr>\n",
       "    <tr>\n",
       "      <th>1</th>\n",
       "      <td>Koch Industries is defending its acquisition o...</td>\n",
       "      <td>Satire</td>\n",
       "    </tr>\n",
       "    <tr>\n",
       "      <th>1</th>\n",
       "      <td>Republican lawmakers asked increasingly tough ...</td>\n",
       "      <td>Satire</td>\n",
       "    </tr>\n",
       "  </tbody>\n",
       "</table>\n",
       "</div>"
      ],
      "text/plain": [
       "                                                text   label\n",
       "1  When so many actors seem content to churn out ...  Satire\n",
       "1   In what football insiders are calling an unex...  Satire\n",
       "1  In a freak accident following Game 3 of the N....  Satire\n",
       "1  North Koreas official news agency announced to...  Satire\n",
       "1  The former Alaska Governor Sarah Palin would b...  Satire\n",
       "1  With the first Presidential debate just two da...  Satire\n",
       "1  There are fans, and then there are super-fans....  Satire\n",
       "1  With its landmark decisions this week, the Uni...  Satire\n",
       "1  Koch Industries is defending its acquisition o...  Satire\n",
       "1  Republican lawmakers asked increasingly tough ...  Satire"
      ]
     },
     "execution_count": 15,
     "metadata": {},
     "output_type": "execute_result"
    }
   ],
   "source": [
    "df_test.head(10) # Test set"
   ]
  },
  {
   "cell_type": "markdown",
   "id": "f421818d-53c0-434d-8e8d-e6c225ebe20c",
   "metadata": {
    "id": "f421818d-53c0-434d-8e8d-e6c225ebe20c"
   },
   "source": [
    "# Label distribution"
   ]
  },
  {
   "cell_type": "code",
   "execution_count": 16,
   "id": "e143c8e5-b9de-47e1-9144-48dfd7f79957",
   "metadata": {
    "colab": {
     "base_uri": "https://localhost:8080/",
     "height": 554
    },
    "id": "e143c8e5-b9de-47e1-9144-48dfd7f79957",
    "outputId": "c83a9e65-c176-4d8b-f7b6-6c963e941d4d"
   },
   "outputs": [
    {
     "data": {
      "image/png": "[encoded data removed]",
      "text/plain": [
       "<Figure size 640x480 with 1 Axes>"
      ]
     },
     "metadata": {},
     "output_type": "display_data"
    },
    {
     "data": {
      "text/plain": [
       "Propaganda       17870\n",
       "Satire           14047\n",
       "Reliable News     9995\n",
       "Hoax              6942\n",
       "Name: label, dtype: int64"
      ]
     },
     "execution_count": 16,
     "metadata": {},
     "output_type": "execute_result"
    }
   ],
   "source": [
    "sns.countplot(x='label', data=df_train)\n",
    "plt.title('Training Label Distribution')\n",
    "plt.xlabel('Label')\n",
    "plt.ylabel('Frequency')\n",
    "plt.show()\n",
    "df_train[\"label\"].value_counts()"
   ]
  },
  {
   "cell_type": "code",
   "execution_count": 17,
   "id": "7d8988d0-ade3-43ec-a981-f7994fd2f031",
   "metadata": {
    "colab": {
     "base_uri": "https://localhost:8080/",
     "height": 554
    },
    "id": "7d8988d0-ade3-43ec-a981-f7994fd2f031",
    "outputId": "d61530e3-c6dd-49e1-915e-92b49b6dbb82"
   },
   "outputs": [
    {
     "data": {
      "image/png": "[encoded data removed]",
      "text/plain": [
       "<Figure size 640x480 with 1 Axes>"
      ]
     },
     "metadata": {},
     "output_type": "display_data"
    },
    {
     "data": {
      "text/plain": [
       "Satire           750\n",
       "Hoax             750\n",
       "Propaganda       750\n",
       "Reliable News    750\n",
       "Name: label, dtype: int64"
      ]
     },
     "execution_count": 17,
     "metadata": {},
     "output_type": "execute_result"
    }
   ],
   "source": [
    "sns.countplot(x='label', data=df_test)\n",
    "plt.title('Test Data Distribution')\n",
    "plt.xlabel('Label')\n",
    "plt.ylabel('Frequency')\n",
    "plt.show()\n",
    "df_test[\"label\"].value_counts()"
   ]
  },
  {
   "cell_type": "markdown",
   "id": "3c2b3027-ef1b-4669-aa6a-de9b10beea8a",
   "metadata": {
    "id": "3c2b3027-ef1b-4669-aa6a-de9b10beea8a"
   },
   "source": [
    "# Basic Text Preprocessing"
   ]
  },
  {
   "cell_type": "markdown",
   "id": "571046ba-cd45-4cce-bf80-19d6d5ca3584",
   "metadata": {
    "id": "571046ba-cd45-4cce-bf80-19d6d5ca3584"
   },
   "source": [
    "## Expand Contractions"
   ]
  },
  {
   "cell_type": "code",
   "execution_count": 18,
   "id": "2c137fdf-b142-4b28-ba96-916235dc124c",
   "metadata": {
    "id": "2c137fdf-b142-4b28-ba96-916235dc124c"
   },
   "outputs": [],
   "source": [
    "def expand_contractions(corpus):\n",
    "    return contractions.fix(corpus)"
   ]
  },
  {
   "cell_type": "markdown",
   "id": "2bd5f9ba-1d14-4e92-8576-f0209f99010b",
   "metadata": {
    "id": "2bd5f9ba-1d14-4e92-8576-f0209f99010b"
   },
   "source": [
    "## Removal of Stop Words"
   ]
  },
  {
   "cell_type": "code",
   "execution_count": 19,
   "id": "19f323ce-89bb-417b-95d3-bdb993db2b09",
   "metadata": {
    "id": "19f323ce-89bb-417b-95d3-bdb993db2b09"
   },
   "outputs": [],
   "source": [
    "def remove_stopwords(corpus):\n",
    "    stop = nltk.corpus.stopwords.words('english')\n",
    "    sentence = \"\"\n",
    "    for word in corpus.split():\n",
    "        if word not in stop:\n",
    "            sentence += word\n",
    "            sentence += \" \"\n",
    "    return sentence.strip()"
   ]
  },
  {
   "cell_type": "markdown",
   "id": "5dc648e2-0f01-4c8e-8dc5-5666c545860f",
   "metadata": {
    "id": "5dc648e2-0f01-4c8e-8dc5-5666c545860f"
   },
   "source": [
    "## Lemmitization with WordNetLemmitizer"
   ]
  },
  {
   "cell_type": "code",
   "execution_count": 20,
   "id": "6dab770f-38a0-42fb-98f8-7c00796d9dd4",
   "metadata": {
    "id": "6dab770f-38a0-42fb-98f8-7c00796d9dd4"
   },
   "outputs": [],
   "source": [
    "def lemmatize_word(corpus):\n",
    "    lemma = WordNetLemmatizer()\n",
    "    sentence = \"\"\n",
    "    for word in corpus.split():\n",
    "        sentence += lemma.lemmatize(word)\n",
    "        sentence += \" \"\n",
    "    return sentence.strip()"
   ]
  },
  {
   "cell_type": "markdown",
   "id": "67d87076-dd12-41aa-ac78-c617cdcba512",
   "metadata": {
    "id": "67d87076-dd12-41aa-ac78-c617cdcba512"
   },
   "source": [
    "## Preprocess the text"
   ]
  },
  {
   "cell_type": "code",
   "execution_count": 21,
   "id": "0f1c5679-63a8-491f-9dca-0a200474499f",
   "metadata": {
    "id": "0f1c5679-63a8-491f-9dca-0a200474499f"
   },
   "outputs": [],
   "source": [
    "def preprocess_text(text):\n",
    "    text_contractions_expanded = expand_contractions(text)\n",
    "    text_no_stopwords = remove_stopwords(text_contractions_expanded)\n",
    "    text_processed = lemmatize_word(text_no_stopwords)\n",
    "    return text_processed"
   ]
  },
  {
   "cell_type": "code",
   "execution_count": 22,
   "id": "ed9c7294-ba99-4aee-8f40-c2d14165acf0",
   "metadata": {
    "colab": {
     "base_uri": "https://localhost:8080/"
    },
    "id": "ed9c7294-ba99-4aee-8f40-c2d14165acf0",
    "outputId": "21bdc41d-8d4d-44ea-9523-eebe10820ff1"
   },
   "outputs": [
    {
     "name": "stdout",
     "output_type": "stream",
     "text": [
      "Processing dataset: df_train\n",
      "Finished processing dataset: df_train\n",
      "Processing dataset: df_test\n",
      "Finished processing dataset: df_test\n"
     ]
    }
   ],
   "source": [
    "# Processing datasets\n",
    "print(\"Processing dataset: df_train\")\n",
    "df_train['processed_text'] = df_train['text'].apply(preprocess_text)\n",
    "print(\"Finished processing dataset: df_train\")\n",
    "\n",
    "print(\"Processing dataset: df_test\")\n",
    "df_test['processed_text'] = df_test['text'].apply(preprocess_text)\n",
    "print(\"Finished processing dataset: df_test\")"
   ]
  },
  {
   "cell_type": "markdown",
   "id": "4d848f97-c7a9-4c3f-b123-d5ac4c37bdb1",
   "metadata": {
    "id": "4d848f97-c7a9-4c3f-b123-d5ac4c37bdb1"
   },
   "source": [
    "## Vectorizer- tfidf\n"
   ]
  },
  {
   "cell_type": "code",
   "execution_count": 23,
   "id": "e5c71c0d",
   "metadata": {},
   "outputs": [],
   "source": [
    "def extract_ner_pos(text):\n",
    "    doc = nlp(text)\n",
    "    ner_tags = [ent.label_ for ent in doc.ents]  # Extract NER labels\n",
    "    pos_tags = [token.pos_ for token in doc]      # Extract POS tags\n",
    "    return ner_tags, pos_tags\n",
    "\n",
    "# Add NER and POS features to the dataset\n",
    "df_train[['ner_tags', 'pos_tags']] = df_train['processed_text'].apply(lambda text: pd.Series(extract_ner_pos(text)))\n",
    "\n",
    "# Add sentiment scores and text lengths as additional features\n",
    "sid = SentimentIntensityAnalyzer()\n",
    "df_train['sentiment_score'] = df_train['processed_text'].apply(lambda text: sid.polarity_scores(text)['compound'])\n",
    "df_train['text_length'] = df_train['processed_text'].apply(len)\n",
    "\n",
    "# Concatenate NER and POS features with processed text for vectorization\n",
    "df_train['ner_tags'] = df_train['ner_tags'].apply(lambda tags: ' '.join(tags))\n",
    "df_train['pos_tags'] = df_train['pos_tags'].apply(lambda tags: ' '.join(tags))"
   ]
  },
  {
   "cell_type": "code",
   "execution_count": 24,
   "id": "4ef741ab",
   "metadata": {},
   "outputs": [],
   "source": [
    "df_train['sentiment_score'] = df_train['sentiment_score'].astype(str)\n",
    "df_train['text_length'] = df_train['text_length'].astype(str)\n",
    "\n",
    "# Concatenate features for vectorization\n",
    "X_train_features = df_train['processed_text'] + ' ' + df_train['sentiment_score'] + ' ' + df_train['text_length']"
   ]
  },
  {
   "cell_type": "code",
   "execution_count": 10,
   "id": "a8b5e9c6",
   "metadata": {},
   "outputs": [],
   "source": [
    "# with pd.option_context('display.max_colwidth', None):  # Ensure full column width is displayed\n",
    "#     for i in range(5):\n",
    "#         print(X_train_features.iloc[i])"
   ]
  },
  {
   "cell_type": "code",
   "execution_count": 25,
   "id": "44d2cf6f",
   "metadata": {},
   "outputs": [],
   "source": [
    "# Initialize TF-IDF vectorizer with desired parameters\n",
    "tfidf_vectorizer = TfidfVectorizer(max_features=3000)\n",
    "\n",
    "# Fit and transform the combined features using TF-IDF vectorizer\n",
    "X_train_counts = tfidf_vectorizer.fit_transform(X_train_features)\n",
    "\n",
    "# Perform PCA on the transformed data\n",
    "pca = PCA(n_components=100)\n",
    "X_train_pca = pca.fit_transform(X_train_counts.toarray())\n",
    "\n",
    "# Perform oversampling using SMOTE\n",
    "smote = SMOTE(random_state=42)\n",
    "X_train_oversampled, y_train_oversampled = smote.fit_resample(X_train_pca, df_train['label'])\n",
    "\n",
    "# # Add sentiment scores and text lengths to the oversampled dataset\n",
    "# additional_features = df_train[['sentiment_score', 'text_length']].values\n",
    "# X_train_oversampled = pd.concat([pd.DataFrame(X_train_oversampled), pd.DataFrame(additional_features)], axis=1)\n",
    "\n",
    "# Split the dataset into training and validation sets\n",
    "X_train, X_val, y_train, y_val = train_test_split(X_train_oversampled, y_train_oversampled, test_size=0.2, random_state=42)\n"
   ]
  },
  {
   "cell_type": "markdown",
   "id": "fe00010a",
   "metadata": {},
   "source": [
    "# simple neural network"
   ]
  },
  {
   "cell_type": "code",
   "execution_count": 26,
   "id": "BwVxiVEufYDa",
   "metadata": {
    "id": "BwVxiVEufYDa"
   },
   "outputs": [
    {
     "name": "stdout",
     "output_type": "stream",
     "text": [
      "Epoch 1/30\n"
     ]
    },
    {
     "name": "stderr",
     "output_type": "stream",
     "text": [
      "/Users/sandhiyadhanasekaran/anaconda3/lib/python3.11/site-packages/keras/src/layers/core/dense.py:86: UserWarning: Do not pass an `input_shape`/`input_dim` argument to a layer. When using Sequential models, prefer using an `Input(shape)` object as the first layer in the model instead.\n",
      "  super().__init__(activity_regularizer=activity_regularizer, **kwargs)\n"
     ]
    },
    {
     "name": "stdout",
     "output_type": "stream",
     "text": [
      "\u001b[1m1430/1430\u001b[0m \u001b[32m━━━━━━━━━━━━━━━━━━━━\u001b[0m\u001b[37m\u001b[0m \u001b[1m2s\u001b[0m 962us/step - accuracy: 0.8732 - loss: 0.3681 - val_accuracy: 0.9502 - val_loss: 0.1423\n",
      "Epoch 2/30\n",
      "\u001b[1m1430/1430\u001b[0m \u001b[32m━━━━━━━━━━━━━━━━━━━━\u001b[0m\u001b[37m\u001b[0m \u001b[1m1s\u001b[0m 911us/step - accuracy: 0.9564 - loss: 0.1258 - val_accuracy: 0.9585 - val_loss: 0.1168\n",
      "Epoch 3/30\n",
      "\u001b[1m1430/1430\u001b[0m \u001b[32m━━━━━━━━━━━━━━━━━━━━\u001b[0m\u001b[37m\u001b[0m \u001b[1m1s\u001b[0m 907us/step - accuracy: 0.9658 - loss: 0.0978 - val_accuracy: 0.9642 - val_loss: 0.1056\n",
      "Epoch 4/30\n",
      "\u001b[1m1430/1430\u001b[0m \u001b[32m━━━━━━━━━━━━━━━━━━━━\u001b[0m\u001b[37m\u001b[0m \u001b[1m1s\u001b[0m 914us/step - accuracy: 0.9710 - loss: 0.0824 - val_accuracy: 0.9632 - val_loss: 0.1105\n",
      "Epoch 5/30\n",
      "\u001b[1m1430/1430\u001b[0m \u001b[32m━━━━━━━━━━━━━━━━━━━━\u001b[0m\u001b[37m\u001b[0m \u001b[1m1s\u001b[0m 934us/step - accuracy: 0.9768 - loss: 0.0662 - val_accuracy: 0.9674 - val_loss: 0.1023\n",
      "Epoch 6/30\n",
      "\u001b[1m1430/1430\u001b[0m \u001b[32m━━━━━━━━━━━━━━━━━━━━\u001b[0m\u001b[37m\u001b[0m \u001b[1m1s\u001b[0m 991us/step - accuracy: 0.9816 - loss: 0.0562 - val_accuracy: 0.9646 - val_loss: 0.1108\n",
      "Epoch 7/30\n",
      "\u001b[1m1430/1430\u001b[0m \u001b[32m━━━━━━━━━━━━━━━━━━━━\u001b[0m\u001b[37m\u001b[0m \u001b[1m1s\u001b[0m 928us/step - accuracy: 0.9846 - loss: 0.0467 - val_accuracy: 0.9685 - val_loss: 0.1013\n",
      "Epoch 8/30\n",
      "\u001b[1m1430/1430\u001b[0m \u001b[32m━━━━━━━━━━━━━━━━━━━━\u001b[0m\u001b[37m\u001b[0m \u001b[1m1s\u001b[0m 930us/step - accuracy: 0.9861 - loss: 0.0408 - val_accuracy: 0.9676 - val_loss: 0.1105\n",
      "Epoch 9/30\n",
      "\u001b[1m1430/1430\u001b[0m \u001b[32m━━━━━━━━━━━━━━━━━━━━\u001b[0m\u001b[37m\u001b[0m \u001b[1m1s\u001b[0m 944us/step - accuracy: 0.9885 - loss: 0.0355 - val_accuracy: 0.9654 - val_loss: 0.1327\n",
      "Epoch 10/30\n",
      "\u001b[1m1430/1430\u001b[0m \u001b[32m━━━━━━━━━━━━━━━━━━━━\u001b[0m\u001b[37m\u001b[0m \u001b[1m1s\u001b[0m 928us/step - accuracy: 0.9896 - loss: 0.0307 - val_accuracy: 0.9670 - val_loss: 0.1212\n",
      "Epoch 11/30\n",
      "\u001b[1m1430/1430\u001b[0m \u001b[32m━━━━━━━━━━━━━━━━━━━━\u001b[0m\u001b[37m\u001b[0m \u001b[1m1s\u001b[0m 921us/step - accuracy: 0.9900 - loss: 0.0302 - val_accuracy: 0.9696 - val_loss: 0.1185\n",
      "Epoch 12/30\n",
      "\u001b[1m1430/1430\u001b[0m \u001b[32m━━━━━━━━━━━━━━━━━━━━\u001b[0m\u001b[37m\u001b[0m \u001b[1m1s\u001b[0m 923us/step - accuracy: 0.9916 - loss: 0.0249 - val_accuracy: 0.9690 - val_loss: 0.1258\n",
      "Epoch 13/30\n",
      "\u001b[1m1430/1430\u001b[0m \u001b[32m━━━━━━━━━━━━━━━━━━━━\u001b[0m\u001b[37m\u001b[0m \u001b[1m1s\u001b[0m 923us/step - accuracy: 0.9926 - loss: 0.0215 - val_accuracy: 0.9676 - val_loss: 0.1295\n",
      "Epoch 14/30\n",
      "\u001b[1m1430/1430\u001b[0m \u001b[32m━━━━━━━━━━━━━━━━━━━━\u001b[0m\u001b[37m\u001b[0m \u001b[1m1s\u001b[0m 929us/step - accuracy: 0.9936 - loss: 0.0179 - val_accuracy: 0.9668 - val_loss: 0.1390\n",
      "Epoch 15/30\n",
      "\u001b[1m1430/1430\u001b[0m \u001b[32m━━━━━━━━━━━━━━━━━━━━\u001b[0m\u001b[37m\u001b[0m \u001b[1m1s\u001b[0m 930us/step - accuracy: 0.9935 - loss: 0.0192 - val_accuracy: 0.9649 - val_loss: 0.1480\n",
      "Epoch 16/30\n",
      "\u001b[1m1430/1430\u001b[0m \u001b[32m━━━━━━━━━━━━━━━━━━━━\u001b[0m\u001b[37m\u001b[0m \u001b[1m1s\u001b[0m 935us/step - accuracy: 0.9932 - loss: 0.0188 - val_accuracy: 0.9706 - val_loss: 0.1377\n",
      "Epoch 17/30\n",
      "\u001b[1m1430/1430\u001b[0m \u001b[32m━━━━━━━━━━━━━━━━━━━━\u001b[0m\u001b[37m\u001b[0m \u001b[1m1s\u001b[0m 916us/step - accuracy: 0.9943 - loss: 0.0165 - val_accuracy: 0.9714 - val_loss: 0.1375\n",
      "Epoch 18/30\n",
      "\u001b[1m1430/1430\u001b[0m \u001b[32m━━━━━━━━━━━━━━━━━━━━\u001b[0m\u001b[37m\u001b[0m \u001b[1m1s\u001b[0m 972us/step - accuracy: 0.9949 - loss: 0.0149 - val_accuracy: 0.9669 - val_loss: 0.1419\n",
      "Epoch 19/30\n",
      "\u001b[1m1430/1430\u001b[0m \u001b[32m━━━━━━━━━━━━━━━━━━━━\u001b[0m\u001b[37m\u001b[0m \u001b[1m1s\u001b[0m 931us/step - accuracy: 0.9958 - loss: 0.0134 - val_accuracy: 0.9691 - val_loss: 0.1392\n",
      "Epoch 20/30\n",
      "\u001b[1m1430/1430\u001b[0m \u001b[32m━━━━━━━━━━━━━━━━━━━━\u001b[0m\u001b[37m\u001b[0m \u001b[1m1s\u001b[0m 920us/step - accuracy: 0.9944 - loss: 0.0154 - val_accuracy: 0.9621 - val_loss: 0.1837\n",
      "Epoch 21/30\n",
      "\u001b[1m1430/1430\u001b[0m \u001b[32m━━━━━━━━━━━━━━━━━━━━\u001b[0m\u001b[37m\u001b[0m \u001b[1m1s\u001b[0m 936us/step - accuracy: 0.9959 - loss: 0.0122 - val_accuracy: 0.9669 - val_loss: 0.1585\n",
      "Epoch 22/30\n",
      "\u001b[1m1430/1430\u001b[0m \u001b[32m━━━━━━━━━━━━━━━━━━━━\u001b[0m\u001b[37m\u001b[0m \u001b[1m1s\u001b[0m 929us/step - accuracy: 0.9963 - loss: 0.0112 - val_accuracy: 0.9668 - val_loss: 0.1812\n",
      "Epoch 23/30\n",
      "\u001b[1m1430/1430\u001b[0m \u001b[32m━━━━━━━━━━━━━━━━━━━━\u001b[0m\u001b[37m\u001b[0m \u001b[1m1s\u001b[0m 910us/step - accuracy: 0.9963 - loss: 0.0112 - val_accuracy: 0.9710 - val_loss: 0.1640\n",
      "Epoch 24/30\n",
      "\u001b[1m1430/1430\u001b[0m \u001b[32m━━━━━━━━━━━━━━━━━━━━\u001b[0m\u001b[37m\u001b[0m \u001b[1m1s\u001b[0m 928us/step - accuracy: 0.9954 - loss: 0.0141 - val_accuracy: 0.9681 - val_loss: 0.1531\n",
      "Epoch 25/30\n",
      "\u001b[1m1430/1430\u001b[0m \u001b[32m━━━━━━━━━━━━━━━━━━━━\u001b[0m\u001b[37m\u001b[0m \u001b[1m1s\u001b[0m 909us/step - accuracy: 0.9970 - loss: 0.0097 - val_accuracy: 0.9698 - val_loss: 0.1674\n",
      "Epoch 26/30\n",
      "\u001b[1m1430/1430\u001b[0m \u001b[32m━━━━━━━━━━━━━━━━━━━━\u001b[0m\u001b[37m\u001b[0m \u001b[1m1s\u001b[0m 923us/step - accuracy: 0.9966 - loss: 0.0103 - val_accuracy: 0.9663 - val_loss: 0.1634\n",
      "Epoch 27/30\n",
      "\u001b[1m1430/1430\u001b[0m \u001b[32m━━━━━━━━━━━━━━━━━━━━\u001b[0m\u001b[37m\u001b[0m \u001b[1m1s\u001b[0m 910us/step - accuracy: 0.9961 - loss: 0.0113 - val_accuracy: 0.9691 - val_loss: 0.1534\n",
      "Epoch 28/30\n",
      "\u001b[1m1430/1430\u001b[0m \u001b[32m━━━━━━━━━━━━━━━━━━━━\u001b[0m\u001b[37m\u001b[0m \u001b[1m1s\u001b[0m 908us/step - accuracy: 0.9972 - loss: 0.0092 - val_accuracy: 0.9676 - val_loss: 0.1818\n",
      "Epoch 29/30\n",
      "\u001b[1m1430/1430\u001b[0m \u001b[32m━━━━━━━━━━━━━━━━━━━━\u001b[0m\u001b[37m\u001b[0m \u001b[1m1s\u001b[0m 929us/step - accuracy: 0.9971 - loss: 0.0094 - val_accuracy: 0.9663 - val_loss: 0.1618\n",
      "Epoch 30/30\n",
      "\u001b[1m1430/1430\u001b[0m \u001b[32m━━━━━━━━━━━━━━━━━━━━\u001b[0m\u001b[37m\u001b[0m \u001b[1m1s\u001b[0m 1ms/step - accuracy: 0.9967 - loss: 0.0096 - val_accuracy: 0.9710 - val_loss: 0.1635\n",
      "\u001b[1m1787/1787\u001b[0m \u001b[32m━━━━━━━━━━━━━━━━━━━━\u001b[0m\u001b[37m\u001b[0m \u001b[1m1s\u001b[0m 376us/step\n",
      "Train Accuracy: 0.9923929770565193\n"
     ]
    }
   ],
   "source": [
    "import pandas as pd\n",
    "import numpy as np\n",
    "from sklearn.model_selection import train_test_split\n",
    "from sklearn.preprocessing import LabelEncoder\n",
    "from sklearn.metrics import accuracy_score\n",
    "import tensorflow as tf\n",
    "\n",
    "# Encode the target variable\n",
    "label_encoder = LabelEncoder()\n",
    "y_train_encoded = label_encoder.fit_transform(y_train)\n",
    "\n",
    "# Build a simple feedforward neural network\n",
    "model = tf.keras.Sequential([\n",
    "    tf.keras.layers.Dense(256, activation='relu', input_shape=(X_train.shape[1],)),\n",
    "    tf.keras.layers.Dense(128, activation='relu'),\n",
    "    tf.keras.layers.Dense(64, activation='relu'),\n",
    "    tf.keras.layers.Dense(32, activation='relu'),\n",
    "    tf.keras.layers.Dense(4, activation='softmax')  # Assuming 4 classes for classification\n",
    "])\n",
    "\n",
    "# Compile the model\n",
    "model.compile(optimizer='adam', loss='sparse_categorical_crossentropy', metrics=['accuracy'])\n",
    "\n",
    "# Train the neural network\n",
    "model.fit(X_train, y_train_encoded, epochs=30, batch_size=32, validation_split=0.2)\n",
    "\n",
    "\n",
    "y_train_pred = np.argmax(model.predict(X_train), axis=1)\n",
    "# y_test_pred = np.argmax(model.predict(X_test_processed), axis=1)\n",
    "\n",
    "# Calculate accuracy for training and test datasets\n",
    "train_accuracy = accuracy_score(y_train_encoded, y_train_pred)\n",
    "print(\"Train Accuracy:\", train_accuracy)\n"
   ]
  },
  {
   "cell_type": "code",
   "execution_count": 27,
   "id": "f2dcd430",
   "metadata": {},
   "outputs": [],
   "source": [
    "# # snn Evaluate the model\n",
    "\n",
    "df_test[['ner_tags', 'pos_tags']] = df_test['processed_text'].apply(lambda text: pd.Series(extract_ner_pos(text)))\n",
    "\n",
    "# Add sentiment scores and text lengths as additional features for the test dataset\n",
    "test_sentiment_scores = df_test['processed_text'].apply(lambda text: sid.polarity_scores(text)['compound'])\n",
    "test_text_lengths = df_test['processed_text'].apply(len)\n",
    "\n",
    "test_additional_features = pd.DataFrame({'sentiment_score': test_sentiment_scores, 'text_length': test_text_lengths})\n",
    "\n",
    "# Concatenate NER and POS features with processed text for vectorization\n",
    "df_test['ner_tags'] = df_test['ner_tags'].apply(lambda tags: ' '.join(tags))\n",
    "df_test['pos_tags'] = df_test['pos_tags'].apply(lambda tags: ' '.join(tags))\n",
    "df_test['sentiment_score'] = test_additional_features['sentiment_score'].astype(str)\n",
    "df_test['text_length'] = test_additional_features['text_length'].astype(str)\n",
    "\n",
    "# Concatenate features for vectorization in the test dataset\n",
    "X_test_features = df_test['processed_text'] + ' ' + df_test['sentiment_score'] + ' ' + df_test['text_length']\n",
    "\n"
   ]
  },
  {
   "cell_type": "code",
   "execution_count": 28,
   "id": "a7e0e1ec",
   "metadata": {},
   "outputs": [
    {
     "name": "stdout",
     "output_type": "stream",
     "text": [
      "\u001b[1m94/94\u001b[0m \u001b[32m━━━━━━━━━━━━━━━━━━━━\u001b[0m\u001b[37m\u001b[0m \u001b[1m0s\u001b[0m 945us/step\n",
      "Test Accuracy: 0.726\n"
     ]
    }
   ],
   "source": [
    "# Vectorize the text in the test dataset using the same vectorizer as used for training\n",
    "X_test_vectorized = tfidf_vectorizer.transform(X_test_features)\n",
    "X_test_pca = pca.transform(X_test_vectorized.toarray())\n",
    "\n",
    "# Predict labels for the test dataset\n",
    "y_test_pred =np.argmax(model.predict(X_test_pca),axis=1)\n",
    "\n",
    "# Encode the actual labels in the test dataset\n",
    "y_test_encoded = label_encoder.transform(df_test['label'])\n",
    "\n",
    "# Calculate accuracy for the test dataset\n",
    "test_accuracy = accuracy_score(y_test_encoded, y_test_pred)\n",
    "\n",
    "print(\"Test Accuracy:\", test_accuracy)"
   ]
  },
  {
   "cell_type": "code",
   "execution_count": 29,
   "id": "d79716db",
   "metadata": {},
   "outputs": [
    {
     "data": {
      "image/png": "[encoded data removed]",
      "text/plain": [
       "<Figure size 800x600 with 2 Axes>"
      ]
     },
     "metadata": {},
     "output_type": "display_data"
    }
   ],
   "source": [
    "from sklearn.metrics import confusion_matrix\n",
    "import seaborn as sns\n",
    "\n",
    "# Compute the confusion matrix\n",
    "conf_matrix = confusion_matrix(y_test_encoded, y_test_pred)\n",
    "\n",
    "# Plot the confusion matrix as a heatmap\n",
    "plt.figure(figsize=(8, 6))\n",
    "sns.heatmap(conf_matrix, annot=True, fmt='d', cmap='Blues', xticklabels=label_encoder.classes_, yticklabels=label_encoder.classes_)\n",
    "plt.xlabel('Predicted Labels')\n",
    "plt.ylabel('True Labels')\n",
    "plt.title('Confusion Matrix')\n",
    "plt.show()"
   ]
  },
  {
   "cell_type": "code",
   "execution_count": 30,
   "id": "c08df30b",
   "metadata": {},
   "outputs": [
    {
     "name": "stdout",
     "output_type": "stream",
     "text": [
      "Classification Report:\n",
      "               precision    recall  f1-score   support\n",
      "\n",
      "         Hoax       0.80      0.43      0.56       750\n",
      "   Propaganda       0.62      0.82      0.71       750\n",
      "Reliable News       0.73      0.90      0.81       750\n",
      "       Satire       0.83      0.75      0.79       750\n",
      "\n",
      "     accuracy                           0.73      3000\n",
      "    macro avg       0.75      0.73      0.72      3000\n",
      " weighted avg       0.75      0.73      0.72      3000\n",
      "\n"
     ]
    }
   ],
   "source": [
    "from sklearn.metrics import classification_report\n",
    "\n",
    "# Calculate the classification report\n",
    "report = classification_report(y_test_encoded, y_test_pred, target_names=label_encoder.classes_)\n",
    "\n",
    "# Print the classification report\n",
    "print(\"Classification Report:\")\n",
    "print(report)"
   ]
  },
  {
   "cell_type": "markdown",
   "id": "c171ff91",
   "metadata": {},
   "source": [
    "# Cnn"
   ]
  },
  {
   "cell_type": "code",
   "execution_count": 32,
   "id": "597f6c82",
   "metadata": {},
   "outputs": [
    {
     "name": "stdout",
     "output_type": "stream",
     "text": [
      "Epoch 1/30\n"
     ]
    },
    {
     "name": "stderr",
     "output_type": "stream",
     "text": [
      "/Users/sandhiyadhanasekaran/anaconda3/lib/python3.11/site-packages/keras/src/layers/convolutional/base_conv.py:99: UserWarning: Do not pass an `input_shape`/`input_dim` argument to a layer. When using Sequential models, prefer using an `Input(shape)` object as the first layer in the model instead.\n",
      "  super().__init__(\n"
     ]
    },
    {
     "name": "stdout",
     "output_type": "stream",
     "text": [
      "\u001b[1m1430/1430\u001b[0m \u001b[32m━━━━━━━━━━━━━━━━━━━━\u001b[0m\u001b[37m\u001b[0m \u001b[1m12s\u001b[0m 8ms/step - accuracy: 0.4182 - loss: 1.2353 - val_accuracy: 0.6017 - val_loss: 0.9780\n",
      "Epoch 2/30\n",
      "\u001b[1m1430/1430\u001b[0m \u001b[32m━━━━━━━━━━━━━━━━━━━━\u001b[0m\u001b[37m\u001b[0m \u001b[1m12s\u001b[0m 8ms/step - accuracy: 0.6275 - loss: 0.8975 - val_accuracy: 0.6957 - val_loss: 0.7577\n",
      "Epoch 3/30\n",
      "\u001b[1m1430/1430\u001b[0m \u001b[32m━━━━━━━━━━━━━━━━━━━━\u001b[0m\u001b[37m\u001b[0m \u001b[1m12s\u001b[0m 8ms/step - accuracy: 0.7056 - loss: 0.7368 - val_accuracy: 0.7394 - val_loss: 0.6628\n",
      "Epoch 4/30\n",
      "\u001b[1m1430/1430\u001b[0m \u001b[32m━━━━━━━━━━━━━━━━━━━━\u001b[0m\u001b[37m\u001b[0m \u001b[1m11s\u001b[0m 8ms/step - accuracy: 0.7474 - loss: 0.6545 - val_accuracy: 0.7665 - val_loss: 0.6062\n",
      "Epoch 5/30\n",
      "\u001b[1m1430/1430\u001b[0m \u001b[32m━━━━━━━━━━━━━━━━━━━━\u001b[0m\u001b[37m\u001b[0m \u001b[1m13s\u001b[0m 9ms/step - accuracy: 0.7682 - loss: 0.6036 - val_accuracy: 0.7700 - val_loss: 0.5778\n",
      "Epoch 6/30\n",
      "\u001b[1m1430/1430\u001b[0m \u001b[32m━━━━━━━━━━━━━━━━━━━━\u001b[0m\u001b[37m\u001b[0m \u001b[1m11s\u001b[0m 8ms/step - accuracy: 0.7842 - loss: 0.5608 - val_accuracy: 0.7965 - val_loss: 0.5399\n",
      "Epoch 7/30\n",
      "\u001b[1m1430/1430\u001b[0m \u001b[32m━━━━━━━━━━━━━━━━━━━━\u001b[0m\u001b[37m\u001b[0m \u001b[1m12s\u001b[0m 8ms/step - accuracy: 0.7954 - loss: 0.5334 - val_accuracy: 0.8007 - val_loss: 0.5047\n",
      "Epoch 8/30\n",
      "\u001b[1m1430/1430\u001b[0m \u001b[32m━━━━━━━━━━━━━━━━━━━━\u001b[0m\u001b[37m\u001b[0m \u001b[1m11s\u001b[0m 8ms/step - accuracy: 0.8070 - loss: 0.5084 - val_accuracy: 0.8134 - val_loss: 0.4959\n",
      "Epoch 9/30\n",
      "\u001b[1m1430/1430\u001b[0m \u001b[32m━━━━━━━━━━━━━━━━━━━━\u001b[0m\u001b[37m\u001b[0m \u001b[1m10s\u001b[0m 7ms/step - accuracy: 0.8160 - loss: 0.4845 - val_accuracy: 0.8222 - val_loss: 0.4614\n",
      "Epoch 10/30\n",
      "\u001b[1m1430/1430\u001b[0m \u001b[32m━━━━━━━━━━━━━━━━━━━━\u001b[0m\u001b[37m\u001b[0m \u001b[1m11s\u001b[0m 8ms/step - accuracy: 0.8255 - loss: 0.4656 - val_accuracy: 0.8152 - val_loss: 0.4841\n",
      "Epoch 11/30\n",
      "\u001b[1m1430/1430\u001b[0m \u001b[32m━━━━━━━━━━━━━━━━━━━━\u001b[0m\u001b[37m\u001b[0m \u001b[1m10s\u001b[0m 7ms/step - accuracy: 0.8349 - loss: 0.4430 - val_accuracy: 0.8459 - val_loss: 0.4305\n",
      "Epoch 12/30\n",
      "\u001b[1m1430/1430\u001b[0m \u001b[32m━━━━━━━━━━━━━━━━━━━━\u001b[0m\u001b[37m\u001b[0m \u001b[1m11s\u001b[0m 8ms/step - accuracy: 0.8375 - loss: 0.4313 - val_accuracy: 0.8430 - val_loss: 0.4273\n",
      "Epoch 13/30\n",
      "\u001b[1m1430/1430\u001b[0m \u001b[32m━━━━━━━━━━━━━━━━━━━━\u001b[0m\u001b[37m\u001b[0m \u001b[1m11s\u001b[0m 8ms/step - accuracy: 0.8461 - loss: 0.4184 - val_accuracy: 0.8624 - val_loss: 0.3900\n",
      "Epoch 14/30\n",
      "\u001b[1m1430/1430\u001b[0m \u001b[32m━━━━━━━━━━━━━━━━━━━━\u001b[0m\u001b[37m\u001b[0m \u001b[1m10s\u001b[0m 7ms/step - accuracy: 0.8502 - loss: 0.4072 - val_accuracy: 0.8515 - val_loss: 0.4179\n",
      "Epoch 15/30\n",
      "\u001b[1m1430/1430\u001b[0m \u001b[32m━━━━━━━━━━━━━━━━━━━━\u001b[0m\u001b[37m\u001b[0m \u001b[1m10s\u001b[0m 7ms/step - accuracy: 0.8541 - loss: 0.3961 - val_accuracy: 0.8522 - val_loss: 0.3912\n",
      "Epoch 16/30\n",
      "\u001b[1m1430/1430\u001b[0m \u001b[32m━━━━━━━━━━━━━━━━━━━━\u001b[0m\u001b[37m\u001b[0m \u001b[1m11s\u001b[0m 8ms/step - accuracy: 0.8586 - loss: 0.3880 - val_accuracy: 0.8612 - val_loss: 0.3846\n",
      "Epoch 17/30\n",
      "\u001b[1m1430/1430\u001b[0m \u001b[32m━━━━━━━━━━━━━━━━━━━━\u001b[0m\u001b[37m\u001b[0m \u001b[1m10s\u001b[0m 7ms/step - accuracy: 0.8664 - loss: 0.3736 - val_accuracy: 0.8709 - val_loss: 0.3603\n",
      "Epoch 18/30\n",
      "\u001b[1m1430/1430\u001b[0m \u001b[32m━━━━━━━━━━━━━━━━━━━━\u001b[0m\u001b[37m\u001b[0m \u001b[1m10s\u001b[0m 7ms/step - accuracy: 0.8675 - loss: 0.3662 - val_accuracy: 0.8544 - val_loss: 0.3875\n",
      "Epoch 19/30\n",
      "\u001b[1m1430/1430\u001b[0m \u001b[32m━━━━━━━━━━━━━━━━━━━━\u001b[0m\u001b[37m\u001b[0m \u001b[1m12s\u001b[0m 8ms/step - accuracy: 0.8705 - loss: 0.3573 - val_accuracy: 0.8764 - val_loss: 0.3453\n",
      "Epoch 20/30\n",
      "\u001b[1m1430/1430\u001b[0m \u001b[32m━━━━━━━━━━━━━━━━━━━━\u001b[0m\u001b[37m\u001b[0m \u001b[1m12s\u001b[0m 8ms/step - accuracy: 0.8713 - loss: 0.3581 - val_accuracy: 0.8547 - val_loss: 0.3959\n",
      "Epoch 21/30\n",
      "\u001b[1m1430/1430\u001b[0m \u001b[32m━━━━━━━━━━━━━━━━━━━━\u001b[0m\u001b[37m\u001b[0m \u001b[1m11s\u001b[0m 7ms/step - accuracy: 0.8767 - loss: 0.3446 - val_accuracy: 0.8804 - val_loss: 0.3372\n",
      "Epoch 22/30\n",
      "\u001b[1m1430/1430\u001b[0m \u001b[32m━━━━━━━━━━━━━━━━━━━━\u001b[0m\u001b[37m\u001b[0m \u001b[1m11s\u001b[0m 7ms/step - accuracy: 0.8761 - loss: 0.3439 - val_accuracy: 0.8763 - val_loss: 0.3475\n",
      "Epoch 23/30\n",
      "\u001b[1m1430/1430\u001b[0m \u001b[32m━━━━━━━━━━━━━━━━━━━━\u001b[0m\u001b[37m\u001b[0m \u001b[1m12s\u001b[0m 9ms/step - accuracy: 0.8782 - loss: 0.3363 - val_accuracy: 0.8721 - val_loss: 0.3438\n",
      "Epoch 24/30\n",
      "\u001b[1m1430/1430\u001b[0m \u001b[32m━━━━━━━━━━━━━━━━━━━━\u001b[0m\u001b[37m\u001b[0m \u001b[1m11s\u001b[0m 8ms/step - accuracy: 0.8829 - loss: 0.3283 - val_accuracy: 0.8808 - val_loss: 0.3292\n",
      "Epoch 25/30\n",
      "\u001b[1m1430/1430\u001b[0m \u001b[32m━━━━━━━━━━━━━━━━━━━━\u001b[0m\u001b[37m\u001b[0m \u001b[1m11s\u001b[0m 7ms/step - accuracy: 0.8811 - loss: 0.3273 - val_accuracy: 0.8672 - val_loss: 0.3623\n",
      "Epoch 26/30\n",
      "\u001b[1m1430/1430\u001b[0m \u001b[32m━━━━━━━━━━━━━━━━━━━━\u001b[0m\u001b[37m\u001b[0m \u001b[1m11s\u001b[0m 8ms/step - accuracy: 0.8873 - loss: 0.3176 - val_accuracy: 0.8591 - val_loss: 0.3890\n",
      "Epoch 27/30\n",
      "\u001b[1m1430/1430\u001b[0m \u001b[32m━━━━━━━━━━━━━━━━━━━━\u001b[0m\u001b[37m\u001b[0m \u001b[1m11s\u001b[0m 8ms/step - accuracy: 0.8876 - loss: 0.3132 - val_accuracy: 0.8873 - val_loss: 0.3140\n",
      "Epoch 28/30\n",
      "\u001b[1m1430/1430\u001b[0m \u001b[32m━━━━━━━━━━━━━━━━━━━━\u001b[0m\u001b[37m\u001b[0m \u001b[1m11s\u001b[0m 7ms/step - accuracy: 0.8867 - loss: 0.3105 - val_accuracy: 0.8760 - val_loss: 0.3428\n",
      "Epoch 29/30\n",
      "\u001b[1m1430/1430\u001b[0m \u001b[32m━━━━━━━━━━━━━━━━━━━━\u001b[0m\u001b[37m\u001b[0m \u001b[1m11s\u001b[0m 8ms/step - accuracy: 0.8854 - loss: 0.3158 - val_accuracy: 0.8920 - val_loss: 0.3058\n",
      "Epoch 30/30\n",
      "\u001b[1m1430/1430\u001b[0m \u001b[32m━━━━━━━━━━━━━━━━━━━━\u001b[0m\u001b[37m\u001b[0m \u001b[1m11s\u001b[0m 8ms/step - accuracy: 0.8868 - loss: 0.3129 - val_accuracy: 0.8886 - val_loss: 0.3044\n",
      "\u001b[1m1787/1787\u001b[0m \u001b[32m━━━━━━━━━━━━━━━━━━━━\u001b[0m\u001b[37m\u001b[0m \u001b[1m4s\u001b[0m 2ms/step\n",
      "Train Accuracy: 0.8995523223279239\n"
     ]
    }
   ],
   "source": [
    "import pandas as pd\n",
    "import numpy as np\n",
    "from sklearn.model_selection import train_test_split\n",
    "from sklearn.preprocessing import LabelEncoder\n",
    "from sklearn.metrics import accuracy_score\n",
    "import tensorflow as tf\n",
    "from tensorflow.keras.preprocessing.sequence import pad_sequences\n",
    "from tensorflow.keras.models import Sequential\n",
    "from tensorflow.keras.layers import Conv1D, MaxPooling1D, LSTM, Dense\n",
    "\n",
    "maxlen = 100  # Maximum sequence length\n",
    "X_train_padded = pad_sequences(X_train, maxlen=maxlen, padding='post')\n",
    "\n",
    "\n",
    "# Encode the target variable\n",
    "label_encoder = LabelEncoder()\n",
    "y_train_encoded = label_encoder.fit_transform(y_train)\n",
    "\n",
    "\n",
    "# Reshape data for 1D CNN input\n",
    "X_train_padded = X_train_padded.reshape(X_train_padded.shape[0], X_train_padded.shape[1], 1)\n",
    "\n",
    "\n",
    "\n",
    "# Build a simple feedforward neural network\n",
    "model = tf.keras.Sequential([\n",
    "    tf.keras.layers.Conv1D(128, 5, activation='relu', input_shape=(maxlen, 1)),\n",
    "    tf.keras.layers.MaxPooling1D(2),\n",
    "    tf.keras.layers.Conv1D(64, 5, activation='relu'),\n",
    "    tf.keras.layers.GlobalAveragePooling1D(),\n",
    "    tf.keras.layers.Dense(64, activation='relu'),\n",
    "    tf.keras.layers.Dense(4, activation='softmax')  # Assuming 4 classes for classification\n",
    "])\n",
    "\n",
    "\n",
    "# Compile the model\n",
    "model.compile(optimizer='adam', loss='sparse_categorical_crossentropy', metrics=['accuracy'])\n",
    "\n",
    "# Train the neural network\n",
    "model.fit(X_train, y_train_encoded, epochs=30, batch_size=32, validation_split=0.2)\n",
    "\n",
    "\n",
    "y_train_pred = np.argmax(model.predict(X_train), axis=1)\n",
    "# y_test_pred = np.argmax(model.predict(X_test_processed), axis=1)\n",
    "\n",
    "# Calculate accuracy for training and test datasets\n",
    "train_accuracy = accuracy_score(y_train_encoded, y_train_pred)\n",
    "print(\"Train Accuracy:\", train_accuracy)\n"
   ]
  },
  {
   "cell_type": "code",
   "execution_count": 33,
   "id": "082aad94",
   "metadata": {},
   "outputs": [
    {
     "name": "stdout",
     "output_type": "stream",
     "text": [
      "\u001b[1m94/94\u001b[0m \u001b[32m━━━━━━━━━━━━━━━━━━━━\u001b[0m\u001b[37m\u001b[0m \u001b[1m0s\u001b[0m 3ms/step\n",
      "Test Accuracy: 0.6763333333333333\n"
     ]
    }
   ],
   "source": [
    "# # cnnEvaluate the model\n",
    "\n",
    "df_test[['ner_tags', 'pos_tags']] = df_test['processed_text'].apply(lambda text: pd.Series(extract_ner_pos(text)))\n",
    "\n",
    "# Add sentiment scores and text lengths as additional features for the test dataset\n",
    "test_sentiment_scores = df_test['processed_text'].apply(lambda text: sid.polarity_scores(text)['compound'])\n",
    "test_text_lengths = df_test['processed_text'].apply(len)\n",
    "\n",
    "test_additional_features = pd.DataFrame({'sentiment_score': test_sentiment_scores, 'text_length': test_text_lengths})\n",
    "\n",
    "# Concatenate NER and POS features with processed text for vectorization\n",
    "df_test['ner_tags'] = df_test['ner_tags'].apply(lambda tags: ' '.join(tags))\n",
    "df_test['pos_tags'] = df_test['pos_tags'].apply(lambda tags: ' '.join(tags))\n",
    "df_test['sentiment_score'] = test_additional_features['sentiment_score'].astype(str)\n",
    "df_test['text_length'] = test_additional_features['text_length'].astype(str)\n",
    "\n",
    "# Concatenate features for vectorization in the test dataset\n",
    "X_test_features = df_test['processed_text'] + ' ' + df_test['sentiment_score'] + ' ' + df_test['text_length']\n",
    "\n",
    "# Vectorize the text in the test dataset using the same vectorizer as used for training\n",
    "X_test_vectorized = tfidf_vectorizer.transform(X_test_features)\n",
    "X_test_pca = pca.transform(X_test_vectorized.toarray())\n",
    "\n",
    "# Predict labels for the test dataset\n",
    "y_test_pred =np.argmax(model.predict(X_test_pca),axis=1)\n",
    "\n",
    "# Encode the actual labels in the test dataset\n",
    "y_test_encoded = label_encoder.transform(df_test['label'])\n",
    "\n",
    "# Calculate accuracy for the test dataset\n",
    "test_accuracy = accuracy_score(y_test_encoded, y_test_pred)\n",
    "\n",
    "print(\"Test Accuracy:\", test_accuracy)"
   ]
  },
  {
   "cell_type": "code",
   "execution_count": 34,
   "id": "42e3ffce",
   "metadata": {},
   "outputs": [
    {
     "data": {
      "image/png": "[encoded data removed]",
      "text/plain": [
       "<Figure size 800x600 with 2 Axes>"
      ]
     },
     "metadata": {},
     "output_type": "display_data"
    }
   ],
   "source": [
    "from sklearn.metrics import confusion_matrix\n",
    "import seaborn as sns\n",
    "\n",
    "# Compute the confusion matrix\n",
    "conf_matrix = confusion_matrix(y_test_encoded, y_test_pred)\n",
    "\n",
    "# Plot the confusion matrix as a heatmap\n",
    "plt.figure(figsize=(8, 6))\n",
    "sns.heatmap(conf_matrix, annot=True, fmt='d', cmap='Blues', xticklabels=label_encoder.classes_, yticklabels=label_encoder.classes_)\n",
    "plt.xlabel('Predicted Labels')\n",
    "plt.ylabel('True Labels')\n",
    "plt.title('Confusion Matrix')\n",
    "plt.show()"
   ]
  },
  {
   "cell_type": "markdown",
   "id": "0d7e31dd",
   "metadata": {},
   "source": [
    "# CNN-LSTM"
   ]
  },
  {
   "cell_type": "code",
   "execution_count": 35,
   "id": "ea4abd64",
   "metadata": {},
   "outputs": [
    {
     "name": "stdout",
     "output_type": "stream",
     "text": [
      "Epoch 1/30\n"
     ]
    },
    {
     "name": "stderr",
     "output_type": "stream",
     "text": [
      "/Users/sandhiyadhanasekaran/anaconda3/lib/python3.11/site-packages/keras/src/layers/convolutional/base_conv.py:99: UserWarning: Do not pass an `input_shape`/`input_dim` argument to a layer. When using Sequential models, prefer using an `Input(shape)` object as the first layer in the model instead.\n",
      "  super().__init__(\n"
     ]
    },
    {
     "name": "stdout",
     "output_type": "stream",
     "text": [
      "\u001b[1m1430/1430\u001b[0m \u001b[32m━━━━━━━━━━━━━━━━━━━━\u001b[0m\u001b[37m\u001b[0m \u001b[1m21s\u001b[0m 13ms/step - accuracy: 0.4930 - loss: 1.0503 - val_accuracy: 0.8335 - val_loss: 0.4472\n",
      "Epoch 2/30\n",
      "\u001b[1m1430/1430\u001b[0m \u001b[32m━━━━━━━━━━━━━━━━━━━━\u001b[0m\u001b[37m\u001b[0m \u001b[1m18s\u001b[0m 12ms/step - accuracy: 0.8386 - loss: 0.4372 - val_accuracy: 0.8492 - val_loss: 0.4137\n",
      "Epoch 3/30\n",
      "\u001b[1m1430/1430\u001b[0m \u001b[32m━━━━━━━━━━━━━━━━━━━━\u001b[0m\u001b[37m\u001b[0m \u001b[1m18s\u001b[0m 13ms/step - accuracy: 0.8686 - loss: 0.3580 - val_accuracy: 0.8832 - val_loss: 0.3238\n",
      "Epoch 4/30\n",
      "\u001b[1m1430/1430\u001b[0m \u001b[32m━━━━━━━━━━━━━━━━━━━━\u001b[0m\u001b[37m\u001b[0m \u001b[1m18s\u001b[0m 12ms/step - accuracy: 0.8850 - loss: 0.3202 - val_accuracy: 0.8894 - val_loss: 0.2906\n",
      "Epoch 5/30\n",
      "\u001b[1m1430/1430\u001b[0m \u001b[32m━━━━━━━━━━━━━━━━━━━━\u001b[0m\u001b[37m\u001b[0m \u001b[1m18s\u001b[0m 13ms/step - accuracy: 0.8916 - loss: 0.2976 - val_accuracy: 0.8976 - val_loss: 0.2849\n",
      "Epoch 6/30\n",
      "\u001b[1m1430/1430\u001b[0m \u001b[32m━━━━━━━━━━━━━━━━━━━━\u001b[0m\u001b[37m\u001b[0m \u001b[1m18s\u001b[0m 13ms/step - accuracy: 0.8965 - loss: 0.2905 - val_accuracy: 0.9042 - val_loss: 0.2628\n",
      "Epoch 7/30\n",
      "\u001b[1m1430/1430\u001b[0m \u001b[32m━━━━━━━━━━━━━━━━━━━━\u001b[0m\u001b[37m\u001b[0m \u001b[1m18s\u001b[0m 13ms/step - accuracy: 0.9009 - loss: 0.2756 - val_accuracy: 0.8997 - val_loss: 0.2925\n",
      "Epoch 8/30\n",
      "\u001b[1m1430/1430\u001b[0m \u001b[32m━━━━━━━━━━━━━━━━━━━━\u001b[0m\u001b[37m\u001b[0m \u001b[1m19s\u001b[0m 13ms/step - accuracy: 0.9078 - loss: 0.2581 - val_accuracy: 0.9106 - val_loss: 0.2561\n",
      "Epoch 9/30\n",
      "\u001b[1m1430/1430\u001b[0m \u001b[32m━━━━━━━━━━━━━━━━━━━━\u001b[0m\u001b[37m\u001b[0m \u001b[1m18s\u001b[0m 12ms/step - accuracy: 0.9066 - loss: 0.2565 - val_accuracy: 0.9148 - val_loss: 0.2631\n",
      "Epoch 10/30\n",
      "\u001b[1m1430/1430\u001b[0m \u001b[32m━━━━━━━━━━━━━━━━━━━━\u001b[0m\u001b[37m\u001b[0m \u001b[1m18s\u001b[0m 12ms/step - accuracy: 0.9116 - loss: 0.2480 - val_accuracy: 0.8953 - val_loss: 0.2958\n",
      "Epoch 11/30\n",
      "\u001b[1m1430/1430\u001b[0m \u001b[32m━━━━━━━━━━━━━━━━━━━━\u001b[0m\u001b[37m\u001b[0m \u001b[1m18s\u001b[0m 12ms/step - accuracy: 0.9148 - loss: 0.2379 - val_accuracy: 0.9117 - val_loss: 0.2544\n",
      "Epoch 12/30\n",
      "\u001b[1m1430/1430\u001b[0m \u001b[32m━━━━━━━━━━━━━━━━━━━━\u001b[0m\u001b[37m\u001b[0m \u001b[1m18s\u001b[0m 12ms/step - accuracy: 0.9157 - loss: 0.2371 - val_accuracy: 0.8991 - val_loss: 0.2923\n",
      "Epoch 13/30\n",
      "\u001b[1m1430/1430\u001b[0m \u001b[32m━━━━━━━━━━━━━━━━━━━━\u001b[0m\u001b[37m\u001b[0m \u001b[1m18s\u001b[0m 13ms/step - accuracy: 0.9202 - loss: 0.2238 - val_accuracy: 0.9185 - val_loss: 0.2344\n",
      "Epoch 14/30\n",
      "\u001b[1m1430/1430\u001b[0m \u001b[32m━━━━━━━━━━━━━━━━━━━━\u001b[0m\u001b[37m\u001b[0m \u001b[1m18s\u001b[0m 13ms/step - accuracy: 0.9225 - loss: 0.2200 - val_accuracy: 0.9168 - val_loss: 0.2396\n",
      "Epoch 15/30\n",
      "\u001b[1m1430/1430\u001b[0m \u001b[32m━━━━━━━━━━━━━━━━━━━━\u001b[0m\u001b[37m\u001b[0m \u001b[1m18s\u001b[0m 13ms/step - accuracy: 0.9253 - loss: 0.2124 - val_accuracy: 0.9238 - val_loss: 0.2241\n",
      "Epoch 16/30\n",
      "\u001b[1m1430/1430\u001b[0m \u001b[32m━━━━━━━━━━━━━━━━━━━━\u001b[0m\u001b[37m\u001b[0m \u001b[1m19s\u001b[0m 13ms/step - accuracy: 0.9271 - loss: 0.2054 - val_accuracy: 0.9226 - val_loss: 0.2324\n",
      "Epoch 17/30\n",
      "\u001b[1m1430/1430\u001b[0m \u001b[32m━━━━━━━━━━━━━━━━━━━━\u001b[0m\u001b[37m\u001b[0m \u001b[1m18s\u001b[0m 13ms/step - accuracy: 0.9279 - loss: 0.2001 - val_accuracy: 0.9189 - val_loss: 0.2308\n",
      "Epoch 18/30\n",
      "\u001b[1m1430/1430\u001b[0m \u001b[32m━━━━━━━━━━━━━━━━━━━━\u001b[0m\u001b[37m\u001b[0m \u001b[1m19s\u001b[0m 13ms/step - accuracy: 0.9305 - loss: 0.1938 - val_accuracy: 0.9148 - val_loss: 0.2504\n",
      "Epoch 19/30\n",
      "\u001b[1m1430/1430\u001b[0m \u001b[32m━━━━━━━━━━━━━━━━━━━━\u001b[0m\u001b[37m\u001b[0m \u001b[1m18s\u001b[0m 13ms/step - accuracy: 0.9351 - loss: 0.1908 - val_accuracy: 0.9161 - val_loss: 0.2409\n",
      "Epoch 20/30\n",
      "\u001b[1m1430/1430\u001b[0m \u001b[32m━━━━━━━━━━━━━━━━━━━━\u001b[0m\u001b[37m\u001b[0m \u001b[1m18s\u001b[0m 13ms/step - accuracy: 0.9317 - loss: 0.1890 - val_accuracy: 0.9176 - val_loss: 0.2335\n",
      "Epoch 21/30\n",
      "\u001b[1m1430/1430\u001b[0m \u001b[32m━━━━━━━━━━━━━━━━━━━━\u001b[0m\u001b[37m\u001b[0m \u001b[1m19s\u001b[0m 13ms/step - accuracy: 0.9357 - loss: 0.1814 - val_accuracy: 0.9278 - val_loss: 0.2182\n",
      "Epoch 22/30\n",
      "\u001b[1m1430/1430\u001b[0m \u001b[32m━━━━━━━━━━━━━━━━━━━━\u001b[0m\u001b[37m\u001b[0m \u001b[1m19s\u001b[0m 13ms/step - accuracy: 0.9382 - loss: 0.1739 - val_accuracy: 0.9242 - val_loss: 0.2299\n",
      "Epoch 23/30\n",
      "\u001b[1m1430/1430\u001b[0m \u001b[32m━━━━━━━━━━━━━━━━━━━━\u001b[0m\u001b[37m\u001b[0m \u001b[1m19s\u001b[0m 13ms/step - accuracy: 0.9398 - loss: 0.1728 - val_accuracy: 0.9074 - val_loss: 0.2809\n",
      "Epoch 24/30\n",
      "\u001b[1m1430/1430\u001b[0m \u001b[32m━━━━━━━━━━━━━━━━━━━━\u001b[0m\u001b[37m\u001b[0m \u001b[1m19s\u001b[0m 13ms/step - accuracy: 0.9348 - loss: 0.1924 - val_accuracy: 0.9215 - val_loss: 0.2379\n",
      "Epoch 25/30\n",
      "\u001b[1m1430/1430\u001b[0m \u001b[32m━━━━━━━━━━━━━━━━━━━━\u001b[0m\u001b[37m\u001b[0m \u001b[1m19s\u001b[0m 13ms/step - accuracy: 0.9419 - loss: 0.1654 - val_accuracy: 0.9259 - val_loss: 0.2163\n",
      "Epoch 26/30\n",
      "\u001b[1m1430/1430\u001b[0m \u001b[32m━━━━━━━━━━━━━━━━━━━━\u001b[0m\u001b[37m\u001b[0m \u001b[1m19s\u001b[0m 13ms/step - accuracy: 0.9443 - loss: 0.1627 - val_accuracy: 0.9229 - val_loss: 0.2218\n",
      "Epoch 27/30\n",
      "\u001b[1m1430/1430\u001b[0m \u001b[32m━━━━━━━━━━━━━━━━━━━━\u001b[0m\u001b[37m\u001b[0m \u001b[1m19s\u001b[0m 13ms/step - accuracy: 0.9390 - loss: 0.1748 - val_accuracy: 0.9228 - val_loss: 0.2237\n",
      "Epoch 28/30\n",
      "\u001b[1m1430/1430\u001b[0m \u001b[32m━━━━━━━━━━━━━━━━━━━━\u001b[0m\u001b[37m\u001b[0m \u001b[1m19s\u001b[0m 14ms/step - accuracy: 0.9459 - loss: 0.1518 - val_accuracy: 0.9309 - val_loss: 0.2048\n",
      "Epoch 29/30\n",
      "\u001b[1m1430/1430\u001b[0m \u001b[32m━━━━━━━━━━━━━━━━━━━━\u001b[0m\u001b[37m\u001b[0m \u001b[1m19s\u001b[0m 13ms/step - accuracy: 0.9492 - loss: 0.1430 - val_accuracy: 0.9328 - val_loss: 0.2034\n",
      "Epoch 30/30\n",
      "\u001b[1m1430/1430\u001b[0m \u001b[32m━━━━━━━━━━━━━━━━━━━━\u001b[0m\u001b[37m\u001b[0m \u001b[1m19s\u001b[0m 13ms/step - accuracy: 0.9503 - loss: 0.1411 - val_accuracy: 0.9350 - val_loss: 0.1957\n",
      "\u001b[1m1787/1787\u001b[0m \u001b[32m━━━━━━━━━━━━━━━━━━━━\u001b[0m\u001b[37m\u001b[0m \u001b[1m7s\u001b[0m 4ms/step\n",
      "Train Accuracy: 0.9514549524342474\n"
     ]
    }
   ],
   "source": [
    "import pandas as pd\n",
    "import numpy as np\n",
    "from sklearn.model_selection import train_test_split\n",
    "from sklearn.preprocessing import LabelEncoder\n",
    "from sklearn.metrics import accuracy_score\n",
    "import tensorflow as tf\n",
    "from tensorflow.keras.preprocessing.sequence import pad_sequences\n",
    "from tensorflow.keras.models import Sequential\n",
    "from tensorflow.keras.layers import Conv1D, MaxPooling1D, LSTM, Dense\n",
    "\n",
    "maxlen = 100  # Maximum sequence length\n",
    "X_train_padded = pad_sequences(X_train, maxlen=maxlen, padding='post')\n",
    "\n",
    "\n",
    "# Encode the target variable\n",
    "label_encoder = LabelEncoder()\n",
    "y_train_encoded = label_encoder.fit_transform(y_train)\n",
    "\n",
    "\n",
    "# Reshape data for 1D CNN input\n",
    "X_train_padded = X_train_padded.reshape(X_train_padded.shape[0], X_train_padded.shape[1], 1)\n",
    "\n",
    "\n",
    "model = Sequential()\n",
    "model.add(Conv1D(128, 5, activation='relu', input_shape=(maxlen, 1)))\n",
    "model.add(MaxPooling1D(2))\n",
    "model.add(Conv1D(64, 5, activation='relu'))\n",
    "model.add(MaxPooling1D(2))\n",
    "model.add(LSTM(64))  # LSTM layer after CNN layers\n",
    "model.add(Dense(64, activation='relu'))\n",
    "model.add(Dense(4, activation='softmax'))  # Assuming 4 classes for classification\n",
    "\n",
    "\n",
    "# Compile the model\n",
    "model.compile(optimizer='adam', loss='sparse_categorical_crossentropy', metrics=['accuracy'])\n",
    "\n",
    "# Train the neural network\n",
    "model.fit(X_train, y_train_encoded, epochs=30, batch_size=32, validation_split=0.2)\n",
    "\n",
    "\n",
    "y_train_pred = np.argmax(model.predict(X_train), axis=1)\n",
    "# y_test_pred = np.argmax(model.predict(X_test_processed), axis=1)\n",
    "\n",
    "# Calculate accuracy for training and test datasets\n",
    "train_accuracy = accuracy_score(y_train_encoded, y_train_pred)\n",
    "print(\"Train Accuracy:\", train_accuracy)\n"
   ]
  },
  {
   "cell_type": "code",
   "execution_count": 36,
   "id": "579002e4",
   "metadata": {},
   "outputs": [
    {
     "name": "stdout",
     "output_type": "stream",
     "text": [
      "\u001b[1m94/94\u001b[0m \u001b[32m━━━━━━━━━━━━━━━━━━━━\u001b[0m\u001b[37m\u001b[0m \u001b[1m1s\u001b[0m 6ms/step\n",
      "Test Accuracy: 0.709\n"
     ]
    }
   ],
   "source": [
    "# # # cnnEvaluate the model\n",
    "\n",
    "df_test[['ner_tags', 'pos_tags']] = df_test['processed_text'].apply(lambda text: pd.Series(extract_ner_pos(text)))\n",
    "\n",
    "# Add sentiment scores and text lengths as additional features for the test dataset\n",
    "test_sentiment_scores = df_test['processed_text'].apply(lambda text: sid.polarity_scores(text)['compound'])\n",
    "test_text_lengths = df_test['processed_text'].apply(len)\n",
    "\n",
    "test_additional_features = pd.DataFrame({'sentiment_score': test_sentiment_scores, 'text_length': test_text_lengths})\n",
    "\n",
    "# Concatenate NER and POS features with processed text for vectorization\n",
    "df_test['ner_tags'] = df_test['ner_tags'].apply(lambda tags: ' '.join(tags))\n",
    "df_test['pos_tags'] = df_test['pos_tags'].apply(lambda tags: ' '.join(tags))\n",
    "df_test['sentiment_score'] = test_additional_features['sentiment_score'].astype(str)\n",
    "df_test['text_length'] = test_additional_features['text_length'].astype(str)\n",
    "\n",
    "# Concatenate features for vectorization in the test dataset\n",
    "X_test_features = df_test['processed_text'] + ' ' + df_test['sentiment_score'] + ' ' + df_test['text_length']\n",
    "\n",
    "# Vectorize the text in the test dataset using the same vectorizer as used for training\n",
    "X_test_vectorized = tfidf_vectorizer.transform(X_test_features)\n",
    "X_test_pca = pca.transform(X_test_vectorized.toarray())\n",
    "\n",
    "# Predict labels for the test dataset\n",
    "y_test_pred =np.argmax(model.predict(X_test_pca),axis=1)\n",
    "\n",
    "# Encode the actual labels in the test dataset\n",
    "y_test_encoded = label_encoder.transform(df_test['label'])\n",
    "\n",
    "# Calculate accuracy for the test dataset\n",
    "test_accuracy = accuracy_score(y_test_encoded, y_test_pred)\n",
    "\n",
    "print(\"Test Accuracy:\", test_accuracy)"
   ]
  },
  {
   "cell_type": "code",
   "execution_count": 37,
   "id": "b0efbaf0",
   "metadata": {},
   "outputs": [
    {
     "data": {
      "image/png": "[encoded data removed]",
      "text/plain": [
       "<Figure size 800x600 with 2 Axes>"
      ]
     },
     "metadata": {},
     "output_type": "display_data"
    }
   ],
   "source": [
    "from sklearn.metrics import confusion_matrix\n",
    "import seaborn as sns\n",
    "\n",
    "# Compute the confusion matrix\n",
    "conf_matrix = confusion_matrix(y_test_encoded, y_test_pred)\n",
    "\n",
    "# Plot the confusion matrix as a heatmap\n",
    "plt.figure(figsize=(8, 6))\n",
    "sns.heatmap(conf_matrix, annot=True, fmt='d', cmap='Blues', xticklabels=label_encoder.classes_, yticklabels=label_encoder.classes_)\n",
    "plt.xlabel('Predicted Labels')\n",
    "plt.ylabel('True Labels')\n",
    "plt.title('Confusion Matrix')\n",
    "plt.show()"
   ]
  },
  {
   "cell_type": "code",
   "execution_count": null,
   "id": "6aedf28f",
   "metadata": {},
   "outputs": [],
   "source": []
  }
 ],
 "metadata": {
  "colab": {
   "provenance": []
  },
  "kernelspec": {
   "display_name": "Python 3 (ipykernel)",
   "language": "python",
   "name": "python3"
  },
  "language_info": {
   "codemirror_mode": {
    "name": "ipython",
    "version": 3
   },
   "file_extension": ".py",
   "mimetype": "text/x-python",
   "name": "python",
   "nbconvert_exporter": "python",
   "pygments_lexer": "ipython3",
   "version": "3.11.4"
  }
 },
 "nbformat": 4,
 "nbformat_minor": 5
}
