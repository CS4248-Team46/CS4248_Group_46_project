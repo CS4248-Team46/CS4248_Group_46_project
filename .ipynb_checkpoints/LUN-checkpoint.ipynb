{
 "cells": [
  {
   "cell_type": "markdown",
   "id": "9e51d210-8f25-46f5-bbd1-e38173d6cd55",
   "metadata": {},
   "source": [
    "# Import Required Libraries"
   ]
  },
  {
   "cell_type": "code",
   "execution_count": 43,
   "id": "2b5a62ac-fffe-4c59-98b1-b8b79684d079",
   "metadata": {},
   "outputs": [
    {
     "name": "stderr",
     "output_type": "stream",
     "text": [
      "[nltk_data] Downloading package words to /Users/jonathan/nltk_data...\n",
      "[nltk_data]   Package words is already up-to-date!\n",
      "[nltk_data] Downloading package punkt to /Users/jonathan/nltk_data...\n",
      "[nltk_data]   Package punkt is already up-to-date!\n",
      "[nltk_data] Downloading package wordnet to\n",
      "[nltk_data]     /Users/jonathan/nltk_data...\n",
      "[nltk_data]   Package wordnet is already up-to-date!\n",
      "[nltk_data] Downloading package omw-1.4 to\n",
      "[nltk_data]     /Users/jonathan/nltk_data...\n",
      "[nltk_data]   Package omw-1.4 is already up-to-date!\n",
      "[nltk_data] Downloading package stopwords to\n",
      "[nltk_data]     /Users/jonathan/nltk_data...\n",
      "[nltk_data]   Package stopwords is already up-to-date!\n"
     ]
    },
    {
     "data": {
      "text/plain": [
       "True"
      ]
     },
     "execution_count": 43,
     "metadata": {},
     "output_type": "execute_result"
    }
   ],
   "source": [
    "# Standard library imports\n",
    "import nltk\n",
    "import random\n",
    "import numpy as np\n",
    "\n",
    "# Third-party imports\n",
    "import pandas as pd\n",
    "import matplotlib.pyplot as plt\n",
    "\n",
    "\n",
    "import seaborn as sns\n",
    "from sklearn.feature_extraction.text import CountVectorizer\n",
    "from sklearn.feature_extraction.text import TfidfVectorizer\n",
    "from sklearn.model_selection import train_test_split\n",
    "from sklearn.naive_bayes import MultinomialNB\n",
    "from sklearn.metrics import classification_report, f1_score\n",
    "from sklearn.metrics import confusion_matrix, ConfusionMatrixDisplay\n",
    "\n",
    "# NLTK specific imports and downloads\n",
    "from nltk.corpus import words, stopwords\n",
    "from nltk.tokenize import word_tokenize\n",
    "from nltk.stem import WordNetLemmatizer\n",
    "from nltk.tokenize import RegexpTokenizer\n",
    "import contractions\n",
    "\n",
    "# NLTK resource download (this only needs to be run once; consider running it separately)\n",
    "nltk.download('words')\n",
    "nltk.download('punkt')\n",
    "nltk.download('wordnet')\n",
    "nltk.download('omw-1.4')\n",
    "nltk.download('stopwords')\n"
   ]
  },
  {
   "cell_type": "markdown",
   "id": "3564275a-8234-4142-81f7-51434ea1c4a1",
   "metadata": {},
   "source": [
    "# Load in Datasets\n"
   ]
  },
  {
   "cell_type": "code",
   "execution_count": 44,
   "id": "f64efb66-c69a-4689-94cd-cbba3d746c92",
   "metadata": {},
   "outputs": [],
   "source": [
    "def load_file(filepath):\n",
    "    return pd.read_csv(filepath, header=None, names=['text'])"
   ]
  },
  {
   "cell_type": "code",
   "execution_count": 45,
   "id": "b72f3757-be85-4b18-b4d6-7db2fe386360",
   "metadata": {},
   "outputs": [],
   "source": [
    "# Training df\n",
    "df_train = load_file('raw_data/fulltrain.csv')\n",
    "df_train['label'] = df_train.index\n",
    "\n",
    "# Testing df\n",
    "df_test = load_file('raw_data/balancedtest.csv')\n",
    "df_test['label'] = df_test.index\n"
   ]
  },
  {
   "cell_type": "markdown",
   "id": "12707057-20af-4888-8e8c-a527bd3be230",
   "metadata": {},
   "source": [
    "# Map the labels"
   ]
  },
  {
   "cell_type": "code",
   "execution_count": 46,
   "id": "c5d4c827-6443-468e-ad0c-8a0b0372b00c",
   "metadata": {},
   "outputs": [],
   "source": [
    "label_mapping = {\n",
    "    1: \"Satire\",\n",
    "    2: \"Hoax\",\n",
    "    3: \"Propaganda\",\n",
    "    4: \"Reliable News\"\n",
    "}\n",
    "df_train['label'] = df_train['label'].map(label_mapping)\n",
    "df_test['label'] = df_test['label'].map(label_mapping)"
   ]
  },
  {
   "cell_type": "markdown",
   "id": "3ead0c54-caef-4922-b405-e0ff8cf59356",
   "metadata": {},
   "source": [
    "# Verify datasets loaded in correctly"
   ]
  },
  {
   "cell_type": "code",
   "execution_count": 47,
   "id": "75cb3203-c867-4371-a91a-53304ef92bc9",
   "metadata": {},
   "outputs": [
    {
     "data": {
      "text/html": [
       "<div>\n",
       "<style scoped>\n",
       "    .dataframe tbody tr th:only-of-type {\n",
       "        vertical-align: middle;\n",
       "    }\n",
       "\n",
       "    .dataframe tbody tr th {\n",
       "        vertical-align: top;\n",
       "    }\n",
       "\n",
       "    .dataframe thead th {\n",
       "        text-align: right;\n",
       "    }\n",
       "</style>\n",
       "<table border=\"1\" class=\"dataframe\">\n",
       "  <thead>\n",
       "    <tr style=\"text-align: right;\">\n",
       "      <th></th>\n",
       "      <th>text</th>\n",
       "      <th>label</th>\n",
       "    </tr>\n",
       "  </thead>\n",
       "  <tbody>\n",
       "    <tr>\n",
       "      <th>1</th>\n",
       "      <td>A little less than a decade ago, hockey fans w...</td>\n",
       "      <td>Satire</td>\n",
       "    </tr>\n",
       "    <tr>\n",
       "      <th>1</th>\n",
       "      <td>The writers of the HBO series The Sopranos too...</td>\n",
       "      <td>Satire</td>\n",
       "    </tr>\n",
       "    <tr>\n",
       "      <th>1</th>\n",
       "      <td>Despite claims from the TV news outlet to offe...</td>\n",
       "      <td>Satire</td>\n",
       "    </tr>\n",
       "    <tr>\n",
       "      <th>1</th>\n",
       "      <td>After receiving 'subpar' service and experienc...</td>\n",
       "      <td>Satire</td>\n",
       "    </tr>\n",
       "    <tr>\n",
       "      <th>1</th>\n",
       "      <td>After watching his beloved Seattle Mariners pr...</td>\n",
       "      <td>Satire</td>\n",
       "    </tr>\n",
       "    <tr>\n",
       "      <th>1</th>\n",
       "      <td>At a cafeteria-table press conference Monday, ...</td>\n",
       "      <td>Satire</td>\n",
       "    </tr>\n",
       "    <tr>\n",
       "      <th>1</th>\n",
       "      <td>Stunned shock and dismay were just a few of th...</td>\n",
       "      <td>Satire</td>\n",
       "    </tr>\n",
       "    <tr>\n",
       "      <th>1</th>\n",
       "      <td>Speaking with reporters before a game Monday, ...</td>\n",
       "      <td>Satire</td>\n",
       "    </tr>\n",
       "    <tr>\n",
       "      <th>1</th>\n",
       "      <td>Sports journalists and television crews were p...</td>\n",
       "      <td>Satire</td>\n",
       "    </tr>\n",
       "    <tr>\n",
       "      <th>1</th>\n",
       "      <td>SALEM, VAF;or the eighth straight world-histor...</td>\n",
       "      <td>Satire</td>\n",
       "    </tr>\n",
       "  </tbody>\n",
       "</table>\n",
       "</div>"
      ],
      "text/plain": [
       "                                                text   label\n",
       "1  A little less than a decade ago, hockey fans w...  Satire\n",
       "1  The writers of the HBO series The Sopranos too...  Satire\n",
       "1  Despite claims from the TV news outlet to offe...  Satire\n",
       "1  After receiving 'subpar' service and experienc...  Satire\n",
       "1  After watching his beloved Seattle Mariners pr...  Satire\n",
       "1  At a cafeteria-table press conference Monday, ...  Satire\n",
       "1  Stunned shock and dismay were just a few of th...  Satire\n",
       "1  Speaking with reporters before a game Monday, ...  Satire\n",
       "1  Sports journalists and television crews were p...  Satire\n",
       "1  SALEM, VAF;or the eighth straight world-histor...  Satire"
      ]
     },
     "execution_count": 47,
     "metadata": {},
     "output_type": "execute_result"
    }
   ],
   "source": [
    "df_train.head(10) # Training set"
   ]
  },
  {
   "cell_type": "code",
   "execution_count": 51,
   "id": "9c097546-1979-48da-a9e2-a4ce38bc657e",
   "metadata": {},
   "outputs": [
    {
     "data": {
      "text/html": [
       "<div>\n",
       "<style scoped>\n",
       "    .dataframe tbody tr th:only-of-type {\n",
       "        vertical-align: middle;\n",
       "    }\n",
       "\n",
       "    .dataframe tbody tr th {\n",
       "        vertical-align: top;\n",
       "    }\n",
       "\n",
       "    .dataframe thead th {\n",
       "        text-align: right;\n",
       "    }\n",
       "</style>\n",
       "<table border=\"1\" class=\"dataframe\">\n",
       "  <thead>\n",
       "    <tr style=\"text-align: right;\">\n",
       "      <th></th>\n",
       "      <th>text</th>\n",
       "      <th>label</th>\n",
       "    </tr>\n",
       "  </thead>\n",
       "  <tbody>\n",
       "    <tr>\n",
       "      <th>1</th>\n",
       "      <td>When so many actors seem content to churn out ...</td>\n",
       "      <td>Satire</td>\n",
       "    </tr>\n",
       "    <tr>\n",
       "      <th>1</th>\n",
       "      <td>In what football insiders are calling an unex...</td>\n",
       "      <td>Satire</td>\n",
       "    </tr>\n",
       "    <tr>\n",
       "      <th>1</th>\n",
       "      <td>In a freak accident following Game 3 of the N....</td>\n",
       "      <td>Satire</td>\n",
       "    </tr>\n",
       "    <tr>\n",
       "      <th>1</th>\n",
       "      <td>North Koreas official news agency announced to...</td>\n",
       "      <td>Satire</td>\n",
       "    </tr>\n",
       "    <tr>\n",
       "      <th>1</th>\n",
       "      <td>The former Alaska Governor Sarah Palin would b...</td>\n",
       "      <td>Satire</td>\n",
       "    </tr>\n",
       "    <tr>\n",
       "      <th>1</th>\n",
       "      <td>With the first Presidential debate just two da...</td>\n",
       "      <td>Satire</td>\n",
       "    </tr>\n",
       "    <tr>\n",
       "      <th>1</th>\n",
       "      <td>There are fans, and then there are super-fans....</td>\n",
       "      <td>Satire</td>\n",
       "    </tr>\n",
       "    <tr>\n",
       "      <th>1</th>\n",
       "      <td>With its landmark decisions this week, the Uni...</td>\n",
       "      <td>Satire</td>\n",
       "    </tr>\n",
       "    <tr>\n",
       "      <th>1</th>\n",
       "      <td>Koch Industries is defending its acquisition o...</td>\n",
       "      <td>Satire</td>\n",
       "    </tr>\n",
       "    <tr>\n",
       "      <th>1</th>\n",
       "      <td>Republican lawmakers asked increasingly tough ...</td>\n",
       "      <td>Satire</td>\n",
       "    </tr>\n",
       "  </tbody>\n",
       "</table>\n",
       "</div>"
      ],
      "text/plain": [
       "                                                text   label\n",
       "1  When so many actors seem content to churn out ...  Satire\n",
       "1   In what football insiders are calling an unex...  Satire\n",
       "1  In a freak accident following Game 3 of the N....  Satire\n",
       "1  North Koreas official news agency announced to...  Satire\n",
       "1  The former Alaska Governor Sarah Palin would b...  Satire\n",
       "1  With the first Presidential debate just two da...  Satire\n",
       "1  There are fans, and then there are super-fans....  Satire\n",
       "1  With its landmark decisions this week, the Uni...  Satire\n",
       "1  Koch Industries is defending its acquisition o...  Satire\n",
       "1  Republican lawmakers asked increasingly tough ...  Satire"
      ]
     },
     "execution_count": 51,
     "metadata": {},
     "output_type": "execute_result"
    }
   ],
   "source": [
    "df_test.head(10) # Test set"
   ]
  },
  {
   "cell_type": "markdown",
   "id": "f421818d-53c0-434d-8e8d-e6c225ebe20c",
   "metadata": {},
   "source": [
    "# Label distribution"
   ]
  },
  {
   "cell_type": "code",
   "execution_count": 52,
   "id": "e143c8e5-b9de-47e1-9144-48dfd7f79957",
   "metadata": {},
   "outputs": [
    {
     "data": {
      "image/png": "[encoded data removed]",
      "text/plain": [
       "<Figure size 640x480 with 1 Axes>"
      ]
     },
     "metadata": {},
     "output_type": "display_data"
    },
    {
     "data": {
      "text/plain": [
       "label\n",
       "Propaganda       17870\n",
       "Satire           14047\n",
       "Reliable News     9995\n",
       "Hoax              6942\n",
       "Name: count, dtype: int64"
      ]
     },
     "execution_count": 52,
     "metadata": {},
     "output_type": "execute_result"
    }
   ],
   "source": [
    "sns.countplot(x='label', data=df_train)\n",
    "plt.title('Training Label Distribution')\n",
    "plt.xlabel('Label')\n",
    "plt.ylabel('Frequency')\n",
    "plt.show()\n",
    "df_train[\"label\"].value_counts()\n"
   ]
  },
  {
   "cell_type": "code",
   "execution_count": 53,
   "id": "7d8988d0-ade3-43ec-a981-f7994fd2f031",
   "metadata": {},
   "outputs": [
    {
     "data": {
      "image/png": "[encoded data removed]",
      "text/plain": [
       "<Figure size 640x480 with 1 Axes>"
      ]
     },
     "metadata": {},
     "output_type": "display_data"
    },
    {
     "data": {
      "text/plain": [
       "label\n",
       "Satire           750\n",
       "Hoax             750\n",
       "Propaganda       750\n",
       "Reliable News    750\n",
       "Name: count, dtype: int64"
      ]
     },
     "execution_count": 53,
     "metadata": {},
     "output_type": "execute_result"
    }
   ],
   "source": [
    "sns.countplot(x='label', data=df_test)\n",
    "plt.title('Test Data Distribution')\n",
    "plt.xlabel('Label')\n",
    "plt.ylabel('Frequency')\n",
    "plt.show()\n",
    "df_test[\"label\"].value_counts()\n"
   ]
  },
  {
   "cell_type": "markdown",
   "id": "3c2b3027-ef1b-4669-aa6a-de9b10beea8a",
   "metadata": {},
   "source": [
    "# Basic Text Preprocessing"
   ]
  },
  {
   "cell_type": "markdown",
   "id": "571046ba-cd45-4cce-bf80-19d6d5ca3584",
   "metadata": {},
   "source": [
    "## Expand Contractions"
   ]
  },
  {
   "cell_type": "code",
   "execution_count": 55,
   "id": "2c137fdf-b142-4b28-ba96-916235dc124c",
   "metadata": {},
   "outputs": [],
   "source": [
    "def expand_contractions(corpus):\n",
    "    return contractions.fix(corpus)"
   ]
  },
  {
   "cell_type": "markdown",
   "id": "2bd5f9ba-1d14-4e92-8576-f0209f99010b",
   "metadata": {},
   "source": [
    "## Removal of Stop Words"
   ]
  },
  {
   "cell_type": "code",
   "execution_count": 60,
   "id": "19f323ce-89bb-417b-95d3-bdb993db2b09",
   "metadata": {},
   "outputs": [],
   "source": [
    "def remove_stopwords(corpus):\n",
    "    stop = nltk.corpus.stopwords.words('english')\n",
    "    sentence = \"\"\n",
    "    for word in corpus.split():\n",
    "        if word not in stop:\n",
    "            sentence += word\n",
    "            sentence += \" \"\n",
    "    return sentence.strip()"
   ]
  },
  {
   "cell_type": "markdown",
   "id": "5dc648e2-0f01-4c8e-8dc5-5666c545860f",
   "metadata": {},
   "source": [
    "## Lemmitization with WordNetLemmitizer"
   ]
  },
  {
   "cell_type": "code",
   "execution_count": 61,
   "id": "6dab770f-38a0-42fb-98f8-7c00796d9dd4",
   "metadata": {},
   "outputs": [],
   "source": [
    "def lemmatize_word(corpus):\n",
    "    lemma = WordNetLemmatizer()\n",
    "    sentence = \"\"\n",
    "    for word in corpus.split():\n",
    "        sentence += lemma.lemmatize(word)\n",
    "        sentence += \" \"\n",
    "    return sentence.strip()"
   ]
  },
  {
   "cell_type": "markdown",
   "id": "67d87076-dd12-41aa-ac78-c617cdcba512",
   "metadata": {},
   "source": [
    "## Preprocess the data"
   ]
  },
  {
   "cell_type": "code",
   "execution_count": 75,
   "id": "0f1c5679-63a8-491f-9dca-0a200474499f",
   "metadata": {},
   "outputs": [],
   "source": [
    "def preprocess_text(text):\n",
    "    text_contractions_expanded = expand_contractions(text)\n",
    "    text_no_stopwords = remove_stopwords(text_contractions_expanded)\n",
    "    text_processed = lemmatize_word(text_no_stopwords)\n",
    "    return text_processed"
   ]
  },
  {
   "cell_type": "code",
   "execution_count": 76,
   "id": "ed9c7294-ba99-4aee-8f40-c2d14165acf0",
   "metadata": {},
   "outputs": [
    {
     "name": "stdout",
     "output_type": "stream",
     "text": [
      "Processing dataset: df_train\n",
      "Finished processing dataset: df_train\n",
      "Processing dataset: df_test\n",
      "Finished processing dataset: df_test\n"
     ]
    }
   ],
   "source": [
    "\n",
    "# Processing datasets\n",
    "print(\"Processing dataset: df_train\")\n",
    "df_train['processed_text'] = df_train['text'].apply(preprocess_text)\n",
    "print(\"Finished processing dataset: df_train\")\n",
    "\n",
    "print(\"Processing dataset: df_test\")\n",
    "df_test['processed_text'] = df_test['text'].apply(preprocess_text)\n",
    "print(\"Finished processing dataset: df_test\")"
   ]
  },
  {
   "cell_type": "markdown",
   "id": "d85f061b-3749-4ef8-b875-958b505afe5d",
   "metadata": {},
   "source": [
    "# Model training and evaluation"
   ]
  },
  {
   "cell_type": "code",
   "execution_count": 65,
   "id": "4a3dd05b-2b3a-4fe0-93a2-8108316991a6",
   "metadata": {},
   "outputs": [],
   "source": [
    "# Training set\n",
    "X_train = df_train['processed_text']\n",
    "y_train = df_train['label']\n",
    "\n",
    "# Testing set\n",
    "X_test = df_test['processed_text']\n",
    "y_test = df_test['label']"
   ]
  },
  {
   "cell_type": "markdown",
   "id": "622acf47-dd25-456b-a1f6-01db258bca67",
   "metadata": {},
   "source": [
    "## Multinomial Naive Bayes baseline"
   ]
  },
  {
   "cell_type": "code",
   "execution_count": 70,
   "id": "b755b8e7-7f4a-4c9d-acac-3703b13e4120",
   "metadata": {},
   "outputs": [
    {
     "name": "stdout",
     "output_type": "stream",
     "text": [
      "               precision    recall  f1-score   support\n",
      "\n",
      "         Hoax       0.71      0.34      0.46       750\n",
      "   Propaganda       0.57      0.94      0.71       750\n",
      "Reliable News       0.85      0.80      0.82       750\n",
      "       Satire       0.71      0.64      0.67       750\n",
      "\n",
      "     accuracy                           0.68      3000\n",
      "    macro avg       0.71      0.68      0.67      3000\n",
      " weighted avg       0.71      0.68      0.67      3000\n",
      "\n",
      "Macro F1 Score: 0.666\n"
     ]
    }
   ],
   "source": [
    "# Baseline using bag of words\n",
    "vectorizer = CountVectorizer()\n",
    "X_train_counts = vectorizer.fit_transform(X_train)\n",
    "X_test_counts = vectorizer.transform(X_test)\n",
    "\n",
    "# Naive Bayes classifier\n",
    "clf = MultinomialNB()\n",
    "clf.fit(X_train_counts, y_train)\n",
    "\n",
    "# Predict\n",
    "y_pred = clf.predict(X_test_counts)\n",
    "\n",
    "# Score\n",
    "print(classification_report(y_test, y_pred))\n",
    "\n",
    "macro_f1 = f1_score(y_test, y_pred, average='macro')\n",
    "\n",
    "print(f'Macro F1 Score: {macro_f1:.3f}')"
   ]
  },
  {
   "cell_type": "markdown",
   "id": "2b32a40a-4a97-4419-ab2f-d96744f6e686",
   "metadata": {},
   "source": [
    "## Plot the confusion matrix "
   ]
  },
  {
   "cell_type": "code",
   "execution_count": 71,
   "id": "be0dc507-b030-4e4c-ab28-9745f4c4be4c",
   "metadata": {},
   "outputs": [
    {
     "data": {
      "image/png": "[encoded data removed]",
      "text/plain": [
       "<Figure size 640x480 with 2 Axes>"
      ]
     },
     "metadata": {},
     "output_type": "display_data"
    }
   ],
   "source": [
    "cm = confusion_matrix(y_test, y_pred)\n",
    "disp = ConfusionMatrixDisplay(confusion_matrix=cm)\n",
    "disp.plot(cmap=plt.cm.Blues)\n",
    "plt.title('Confusion Matrix')\n",
    "plt.show()"
   ]
  },
  {
   "cell_type": "markdown",
   "id": "95d7a76f-c770-43c1-ab9e-56f645dad089",
   "metadata": {},
   "source": [
    "## REPLACE WITH YOUR MODEL"
   ]
  },
  {
   "cell_type": "code",
   "execution_count": null,
   "id": "cbbe77da-dc86-45a0-9652-91083b71a87d",
   "metadata": {},
   "outputs": [],
   "source": [
    "## TODO"
   ]
  }
 ],
 "metadata": {
  "kernelspec": {
   "display_name": "Python 3 (ipykernel)",
   "language": "python",
   "name": "python3"
  },
  "language_info": {
   "codemirror_mode": {
    "name": "ipython",
    "version": 3
   },
   "file_extension": ".py",
   "mimetype": "text/x-python",
   "name": "python",
   "nbconvert_exporter": "python",
   "pygments_lexer": "ipython3",
   "version": "3.10.13"
  }
 },
 "nbformat": 4,
 "nbformat_minor": 5
}
