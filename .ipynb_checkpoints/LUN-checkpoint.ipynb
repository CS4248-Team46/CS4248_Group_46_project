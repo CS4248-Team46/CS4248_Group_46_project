{
 "cells": [
  {
   "cell_type": "markdown",
   "id": "9e51d210-8f25-46f5-bbd1-e38173d6cd55",
   "metadata": {},
   "source": [
    "# Import Required Libraries"
   ]
  },
  {
   "cell_type": "code",
   "execution_count": 108,
   "id": "2b5a62ac-fffe-4c59-98b1-b8b79684d079",
   "metadata": {},
   "outputs": [
    {
     "name": "stderr",
     "output_type": "stream",
     "text": [
      "[nltk_data] Downloading package words to C:\\Users\\Aaron\n",
      "[nltk_data]     Liew\\AppData\\Roaming\\nltk_data...\n",
      "[nltk_data]   Package words is already up-to-date!\n",
      "[nltk_data] Downloading package punkt to C:\\Users\\Aaron\n",
      "[nltk_data]     Liew\\AppData\\Roaming\\nltk_data...\n",
      "[nltk_data]   Package punkt is already up-to-date!\n",
      "[nltk_data] Downloading package wordnet to C:\\Users\\Aaron\n",
      "[nltk_data]     Liew\\AppData\\Roaming\\nltk_data...\n",
      "[nltk_data]   Package wordnet is already up-to-date!\n",
      "[nltk_data] Downloading package stopwords to C:\\Users\\Aaron\n",
      "[nltk_data]     Liew\\AppData\\Roaming\\nltk_data...\n",
      "[nltk_data]   Package stopwords is already up-to-date!\n",
      "[nltk_data] Downloading package maxent_ne_chunker to C:\\Users\\Aaron\n",
      "[nltk_data]     Liew\\AppData\\Roaming\\nltk_data...\n",
      "[nltk_data]   Unzipping chunkers\\maxent_ne_chunker.zip.\n"
     ]
    }
   ],
   "source": [
    "import numpy as np\n",
    "import pandas as pd\n",
    "\n",
    "# Visualization libraries\n",
    "import matplotlib.pyplot as plt\n",
    "import seaborn as sns\n",
    "\n",
    "# To import overbalanced data\n",
    "from scipy.sparse import load_npz\n",
    "\n",
    "# Data balancing\n",
    "from imblearn.over_sampling import SMOTE\n",
    "\n",
    "# Sklearn libraries\n",
    "from sklearn.feature_extraction.text import CountVectorizer, TfidfVectorizer\n",
    "from sklearn.model_selection import train_test_split\n",
    "from sklearn.naive_bayes import MultinomialNB\n",
    "from sklearn.linear_model import LogisticRegression\n",
    "from sklearn.metrics import (\n",
    "    classification_report, confusion_matrix, ConfusionMatrixDisplay, f1_score\n",
    ")\n",
    "\n",
    "# NLTK libraries\n",
    "import nltk\n",
    "from nltk.corpus import stopwords, words\n",
    "from nltk.stem import WordNetLemmatizer\n",
    "from nltk.tokenize import RegexpTokenizer, word_tokenize\n",
    "from nltk.tag import pos_tag\n",
    "from nltk.chunk import ne_chunk\n",
    "import contractions\n",
    "\n",
    "# NLTK resource downloads\n",
    "nltk.download('words')\n",
    "nltk.download('punkt')\n",
    "nltk.download('wordnet')\n",
    "nltk.download('stopwords')\n",
    "nltk.download('maxent_ne_chunker')\n",
    "\n",
    "\n",
    "from textblob import TextBlob"
   ]
  },
  {
   "cell_type": "markdown",
   "id": "3564275a-8234-4142-81f7-51434ea1c4a1",
   "metadata": {},
   "source": [
    "# Load in Datasets\n"
   ]
  },
  {
   "cell_type": "code",
   "execution_count": 82,
   "id": "f64efb66-c69a-4689-94cd-cbba3d746c92",
   "metadata": {},
   "outputs": [],
   "source": [
    "def load_file(filepath):\n",
    "    return pd.read_csv(filepath, header=None)"
   ]
  },
  {
   "cell_type": "code",
   "execution_count": 83,
   "id": "b72f3757-be85-4b18-b4d6-7db2fe386360",
   "metadata": {},
   "outputs": [],
   "source": [
    "# Training df\n",
    "df_train = load_file('raw_data/fulltrain.csv')\n",
    "df_train = df_train.set_axis(['label', 'text'], axis=1)\n",
    "\n",
    "# Testing df\n",
    "df_test = load_file('raw_data/balancedtest.csv')\n",
    "df_test = df_test.set_axis(['label', 'text'], axis=1)"
   ]
  },
  {
   "cell_type": "markdown",
   "id": "12707057-20af-4888-8e8c-a527bd3be230",
   "metadata": {},
   "source": [
    "# Map the labels"
   ]
  },
  {
   "cell_type": "code",
   "execution_count": 84,
   "id": "c5d4c827-6443-468e-ad0c-8a0b0372b00c",
   "metadata": {},
   "outputs": [],
   "source": [
    "label_mapping = {\n",
    "    1: \"Satire\",\n",
    "    2: \"Hoax\",\n",
    "    3: \"Propaganda\",\n",
    "    4: \"Reliable News\"\n",
    "}\n",
    "df_train['label'] = df_train['label'].map(label_mapping)\n",
    "df_test['label'] = df_test['label'].map(label_mapping)"
   ]
  },
  {
   "cell_type": "markdown",
   "id": "3ead0c54-caef-4922-b405-e0ff8cf59356",
   "metadata": {},
   "source": [
    "# Verify datasets loaded in correctly"
   ]
  },
  {
   "cell_type": "code",
   "execution_count": 85,
   "id": "75cb3203-c867-4371-a91a-53304ef92bc9",
   "metadata": {},
   "outputs": [
    {
     "data": {
      "text/html": [
       "<div>\n",
       "<style scoped>\n",
       "    .dataframe tbody tr th:only-of-type {\n",
       "        vertical-align: middle;\n",
       "    }\n",
       "\n",
       "    .dataframe tbody tr th {\n",
       "        vertical-align: top;\n",
       "    }\n",
       "\n",
       "    .dataframe thead th {\n",
       "        text-align: right;\n",
       "    }\n",
       "</style>\n",
       "<table border=\"1\" class=\"dataframe\">\n",
       "  <thead>\n",
       "    <tr style=\"text-align: right;\">\n",
       "      <th></th>\n",
       "      <th>label</th>\n",
       "      <th>text</th>\n",
       "    </tr>\n",
       "  </thead>\n",
       "  <tbody>\n",
       "    <tr>\n",
       "      <th>0</th>\n",
       "      <td>Satire</td>\n",
       "      <td>A little less than a decade ago, hockey fans w...</td>\n",
       "    </tr>\n",
       "    <tr>\n",
       "      <th>1</th>\n",
       "      <td>Satire</td>\n",
       "      <td>The writers of the HBO series The Sopranos too...</td>\n",
       "    </tr>\n",
       "    <tr>\n",
       "      <th>2</th>\n",
       "      <td>Satire</td>\n",
       "      <td>Despite claims from the TV news outlet to offe...</td>\n",
       "    </tr>\n",
       "    <tr>\n",
       "      <th>3</th>\n",
       "      <td>Satire</td>\n",
       "      <td>After receiving 'subpar' service and experienc...</td>\n",
       "    </tr>\n",
       "    <tr>\n",
       "      <th>4</th>\n",
       "      <td>Satire</td>\n",
       "      <td>After watching his beloved Seattle Mariners pr...</td>\n",
       "    </tr>\n",
       "    <tr>\n",
       "      <th>5</th>\n",
       "      <td>Satire</td>\n",
       "      <td>At a cafeteria-table press conference Monday, ...</td>\n",
       "    </tr>\n",
       "    <tr>\n",
       "      <th>6</th>\n",
       "      <td>Satire</td>\n",
       "      <td>Stunned shock and dismay were just a few of th...</td>\n",
       "    </tr>\n",
       "    <tr>\n",
       "      <th>7</th>\n",
       "      <td>Satire</td>\n",
       "      <td>Speaking with reporters before a game Monday, ...</td>\n",
       "    </tr>\n",
       "    <tr>\n",
       "      <th>8</th>\n",
       "      <td>Satire</td>\n",
       "      <td>Sports journalists and television crews were p...</td>\n",
       "    </tr>\n",
       "    <tr>\n",
       "      <th>9</th>\n",
       "      <td>Satire</td>\n",
       "      <td>SALEM, VAF;or the eighth straight world-histor...</td>\n",
       "    </tr>\n",
       "  </tbody>\n",
       "</table>\n",
       "</div>"
      ],
      "text/plain": [
       "    label                                               text\n",
       "0  Satire  A little less than a decade ago, hockey fans w...\n",
       "1  Satire  The writers of the HBO series The Sopranos too...\n",
       "2  Satire  Despite claims from the TV news outlet to offe...\n",
       "3  Satire  After receiving 'subpar' service and experienc...\n",
       "4  Satire  After watching his beloved Seattle Mariners pr...\n",
       "5  Satire  At a cafeteria-table press conference Monday, ...\n",
       "6  Satire  Stunned shock and dismay were just a few of th...\n",
       "7  Satire  Speaking with reporters before a game Monday, ...\n",
       "8  Satire  Sports journalists and television crews were p...\n",
       "9  Satire  SALEM, VAF;or the eighth straight world-histor..."
      ]
     },
     "execution_count": 85,
     "metadata": {},
     "output_type": "execute_result"
    }
   ],
   "source": [
    "df_train.head(10) # Training set"
   ]
  },
  {
   "cell_type": "code",
   "execution_count": 86,
   "id": "9c097546-1979-48da-a9e2-a4ce38bc657e",
   "metadata": {},
   "outputs": [
    {
     "data": {
      "text/html": [
       "<div>\n",
       "<style scoped>\n",
       "    .dataframe tbody tr th:only-of-type {\n",
       "        vertical-align: middle;\n",
       "    }\n",
       "\n",
       "    .dataframe tbody tr th {\n",
       "        vertical-align: top;\n",
       "    }\n",
       "\n",
       "    .dataframe thead th {\n",
       "        text-align: right;\n",
       "    }\n",
       "</style>\n",
       "<table border=\"1\" class=\"dataframe\">\n",
       "  <thead>\n",
       "    <tr style=\"text-align: right;\">\n",
       "      <th></th>\n",
       "      <th>label</th>\n",
       "      <th>text</th>\n",
       "    </tr>\n",
       "  </thead>\n",
       "  <tbody>\n",
       "    <tr>\n",
       "      <th>0</th>\n",
       "      <td>Satire</td>\n",
       "      <td>When so many actors seem content to churn out ...</td>\n",
       "    </tr>\n",
       "    <tr>\n",
       "      <th>1</th>\n",
       "      <td>Satire</td>\n",
       "      <td>In what football insiders are calling an unex...</td>\n",
       "    </tr>\n",
       "    <tr>\n",
       "      <th>2</th>\n",
       "      <td>Satire</td>\n",
       "      <td>In a freak accident following Game 3 of the N....</td>\n",
       "    </tr>\n",
       "    <tr>\n",
       "      <th>3</th>\n",
       "      <td>Satire</td>\n",
       "      <td>North Koreas official news agency announced to...</td>\n",
       "    </tr>\n",
       "    <tr>\n",
       "      <th>4</th>\n",
       "      <td>Satire</td>\n",
       "      <td>The former Alaska Governor Sarah Palin would b...</td>\n",
       "    </tr>\n",
       "    <tr>\n",
       "      <th>5</th>\n",
       "      <td>Satire</td>\n",
       "      <td>With the first Presidential debate just two da...</td>\n",
       "    </tr>\n",
       "    <tr>\n",
       "      <th>6</th>\n",
       "      <td>Satire</td>\n",
       "      <td>There are fans, and then there are super-fans....</td>\n",
       "    </tr>\n",
       "    <tr>\n",
       "      <th>7</th>\n",
       "      <td>Satire</td>\n",
       "      <td>With its landmark decisions this week, the Uni...</td>\n",
       "    </tr>\n",
       "    <tr>\n",
       "      <th>8</th>\n",
       "      <td>Satire</td>\n",
       "      <td>Koch Industries is defending its acquisition o...</td>\n",
       "    </tr>\n",
       "    <tr>\n",
       "      <th>9</th>\n",
       "      <td>Satire</td>\n",
       "      <td>Republican lawmakers asked increasingly tough ...</td>\n",
       "    </tr>\n",
       "  </tbody>\n",
       "</table>\n",
       "</div>"
      ],
      "text/plain": [
       "    label                                               text\n",
       "0  Satire  When so many actors seem content to churn out ...\n",
       "1  Satire   In what football insiders are calling an unex...\n",
       "2  Satire  In a freak accident following Game 3 of the N....\n",
       "3  Satire  North Koreas official news agency announced to...\n",
       "4  Satire  The former Alaska Governor Sarah Palin would b...\n",
       "5  Satire  With the first Presidential debate just two da...\n",
       "6  Satire  There are fans, and then there are super-fans....\n",
       "7  Satire  With its landmark decisions this week, the Uni...\n",
       "8  Satire  Koch Industries is defending its acquisition o...\n",
       "9  Satire  Republican lawmakers asked increasingly tough ..."
      ]
     },
     "execution_count": 86,
     "metadata": {},
     "output_type": "execute_result"
    }
   ],
   "source": [
    "df_test.head(10) # Test set"
   ]
  },
  {
   "cell_type": "markdown",
   "id": "f421818d-53c0-434d-8e8d-e6c225ebe20c",
   "metadata": {},
   "source": [
    "# Label distribution"
   ]
  },
  {
   "cell_type": "code",
   "execution_count": 87,
   "id": "e143c8e5-b9de-47e1-9144-48dfd7f79957",
   "metadata": {},
   "outputs": [
    {
     "data": {
      "image/png": "[encoded data removed]",
      "text/plain": [
       "<Figure size 640x480 with 1 Axes>"
      ]
     },
     "metadata": {},
     "output_type": "display_data"
    },
    {
     "data": {
      "text/plain": [
       "label\n",
       "Propaganda       17870\n",
       "Satire           14047\n",
       "Reliable News     9995\n",
       "Hoax              6942\n",
       "Name: count, dtype: int64"
      ]
     },
     "execution_count": 87,
     "metadata": {},
     "output_type": "execute_result"
    }
   ],
   "source": [
    "sns.countplot(x='label', data=df_train)\n",
    "plt.title('Training Label Distribution')\n",
    "plt.xlabel('Label')\n",
    "plt.ylabel('Frequency')\n",
    "plt.show()\n",
    "df_train[\"label\"].value_counts()"
   ]
  },
  {
   "cell_type": "code",
   "execution_count": 88,
   "id": "7d8988d0-ade3-43ec-a981-f7994fd2f031",
   "metadata": {},
   "outputs": [
    {
     "data": {
      "image/png": "[encoded data removed]",
      "text/plain": [
       "<Figure size 640x480 with 1 Axes>"
      ]
     },
     "metadata": {},
     "output_type": "display_data"
    },
    {
     "data": {
      "text/plain": [
       "label\n",
       "Satire           750\n",
       "Hoax             750\n",
       "Propaganda       750\n",
       "Reliable News    750\n",
       "Name: count, dtype: int64"
      ]
     },
     "execution_count": 88,
     "metadata": {},
     "output_type": "execute_result"
    }
   ],
   "source": [
    "sns.countplot(x='label', data=df_test)\n",
    "plt.title('Test Data Distribution')\n",
    "plt.xlabel('Label')\n",
    "plt.ylabel('Frequency')\n",
    "plt.show()\n",
    "df_test[\"label\"].value_counts()"
   ]
  },
  {
   "cell_type": "markdown",
   "id": "3c2b3027-ef1b-4669-aa6a-de9b10beea8a",
   "metadata": {},
   "source": [
    "# Basic Text Preprocessing"
   ]
  },
  {
   "cell_type": "markdown",
   "id": "571046ba-cd45-4cce-bf80-19d6d5ca3584",
   "metadata": {},
   "source": [
    "## Expand Contractions"
   ]
  },
  {
   "cell_type": "code",
   "execution_count": 89,
   "id": "2c137fdf-b142-4b28-ba96-916235dc124c",
   "metadata": {},
   "outputs": [],
   "source": [
    "def expand_contractions(corpus):\n",
    "    return contractions.fix(corpus)"
   ]
  },
  {
   "cell_type": "markdown",
   "id": "2bd5f9ba-1d14-4e92-8576-f0209f99010b",
   "metadata": {},
   "source": [
    "## Removal of Stop Words"
   ]
  },
  {
   "cell_type": "code",
   "execution_count": 90,
   "id": "19f323ce-89bb-417b-95d3-bdb993db2b09",
   "metadata": {},
   "outputs": [],
   "source": [
    "def remove_stopwords(corpus):\n",
    "    stop = nltk.corpus.stopwords.words('english')\n",
    "    sentence = \"\"\n",
    "    for word in corpus.split():\n",
    "        if word not in stop:\n",
    "            sentence += word\n",
    "            sentence += \" \"\n",
    "    return sentence.strip()"
   ]
  },
  {
   "cell_type": "markdown",
   "id": "5dc648e2-0f01-4c8e-8dc5-5666c545860f",
   "metadata": {},
   "source": [
    "## Lemmitization with WordNetLemmitizer"
   ]
  },
  {
   "cell_type": "code",
   "execution_count": 91,
   "id": "6dab770f-38a0-42fb-98f8-7c00796d9dd4",
   "metadata": {},
   "outputs": [],
   "source": [
    "def lemmatize_word(corpus):\n",
    "    lemma = WordNetLemmatizer()\n",
    "    sentence = \"\"\n",
    "    for word in corpus.split():\n",
    "        sentence += lemma.lemmatize(word)\n",
    "        sentence += \" \"\n",
    "    return sentence.strip()"
   ]
  },
  {
   "cell_type": "markdown",
   "id": "67d87076-dd12-41aa-ac78-c617cdcba512",
   "metadata": {},
   "source": [
    "## Preprocess the text"
   ]
  },
  {
   "cell_type": "code",
   "execution_count": 92,
   "id": "0f1c5679-63a8-491f-9dca-0a200474499f",
   "metadata": {},
   "outputs": [],
   "source": [
    "def preprocess_text(text):\n",
    "    text_contractions_expanded = expand_contractions(text)\n",
    "    text_no_stopwords = remove_stopwords(text_contractions_expanded)\n",
    "    text_processed = lemmatize_word( text_no_stopwords)\n",
    "    return text_processed"
   ]
  },
  {
   "cell_type": "code",
   "execution_count": 93,
   "id": "ed9c7294-ba99-4aee-8f40-c2d14165acf0",
   "metadata": {},
   "outputs": [
    {
     "name": "stdout",
     "output_type": "stream",
     "text": [
      "Processing dataset: df_train\n",
      "Finished processing dataset: df_train\n",
      "Processing dataset: df_test\n",
      "Finished processing dataset: df_test\n"
     ]
    }
   ],
   "source": [
    "# Processing datasets\n",
    "print(\"Processing dataset: df_train\")\n",
    "df_train['processed_text'] = df_train['text'].apply(preprocess_text)\n",
    "print(\"Finished processing dataset: df_train\")\n",
    "\n",
    "print(\"Processing dataset: df_test\")\n",
    "df_test['processed_text'] = df_test['text'].apply(preprocess_text)\n",
    "print(\"Finished processing dataset: df_test\")"
   ]
  },
  {
   "cell_type": "markdown",
   "id": "4dcc9011-af25-419e-a8c4-8326b03cf591",
   "metadata": {},
   "source": [
    "# Feature Engineering"
   ]
  },
  {
   "cell_type": "markdown",
   "id": "21bf036a-d8e2-4688-b942-6256c60cd3b1",
   "metadata": {},
   "source": [
    "## Word Count"
   ]
  },
  {
   "cell_type": "code",
   "execution_count": 111,
   "id": "8852afaa-5c90-47f8-b275-54d7a2fcd902",
   "metadata": {},
   "outputs": [],
   "source": [
    "def count_words(text):\n",
    "    words = word_tokenize(text)\n",
    "    return len(words)\n",
    "\n",
    "# Assuming df_train and df_test are already defined and have a column 'processed_text'\n",
    "df_train['word_count'] = df_train['processed_text'].apply(count_words)\n",
    "df_test['word_count'] = df_test['processed_text'].apply(count_words)\n",
    "\n",
    "# Convert DataFrame columns to NumPy arrays\n",
    "word_count_train = df_train['word_count'].to_numpy()\n",
    "word_count_test = df_test['word_count'].to_numpy()\n",
    "\n",
    "# Save the arrays to .npy files\n",
    "np.save('word_count_train.npy', word_count_train)\n",
    "np.save('word_count_test.npy', word_count_test)"
   ]
  },
  {
   "cell_type": "markdown",
   "id": "66c91ca3-4891-456f-80b4-c0242ecc8a6f",
   "metadata": {},
   "source": [
    "## Named Entity Recognition"
   ]
  },
  {
   "cell_type": "code",
   "execution_count": 112,
   "id": "8837f485-2d7c-46ff-ba88-2e55f6a14a2f",
   "metadata": {},
   "outputs": [],
   "source": [
    "def count_named_entities(corpus):\n",
    "    count = 0\n",
    "    tagged_corpus = pos_tag(word_tokenize(corpus))\n",
    "    named_entities = ne_chunk(tagged_corpus)\n",
    "    for elem in named_entities:\n",
    "        if hasattr(elem, 'label'):\n",
    "            count += 1\n",
    "    return count\n",
    "\n",
    "df_train['named_entity_count'] = df_train['processed_text'].apply(count_named_entities)\n",
    "df_test['named_entity_count'] = df_test['processed_text'].apply(count_named_entities)\n",
    "\n",
    "# Convert DataFrame columns to NumPy arrays\n",
    "named_entity_count_train = df_train['named_entity_count'].to_numpy()\n",
    "named_entity_count_test = df_test['named_entity_count'].to_numpy()\n",
    "\n",
    "# Save the arrays to .npy files\n",
    "np.save('named_entity_count_train.npy', named_entity_count_train)\n",
    "np.save('named_entity_count_test.npy', named_entity_count_test)"
   ]
  },
  {
   "cell_type": "markdown",
   "id": "87bfcf2d-b414-4672-af88-fd5db87f6fb0",
   "metadata": {},
   "source": [
    "## Pronoun counts"
   ]
  },
  {
   "cell_type": "code",
   "execution_count": 113,
   "id": "d5434ac0-d13f-41a2-8f8b-957f7391615d",
   "metadata": {},
   "outputs": [],
   "source": [
    "def count_pronouns_per_word(text, pronoun_list):\n",
    "    words = word_tokenize(text)\n",
    "    total_words = len(words)\n",
    "    pronoun_count = 0\n",
    "    \n",
    "    for word in words:\n",
    "        if word.lower() in pronoun_list:\n",
    "            pronoun_count += 1\n",
    "    \n",
    "    if total_words > 0:\n",
    "        return pronoun_count / total_words\n",
    "    else:\n",
    "        return 0 \n",
    "\n",
    "# Lists of pronouns by person\n",
    "first_person_pronouns = ['i', 'me', 'my', 'mine', 'we', 'us', 'our', 'ours']\n",
    "second_person_pronouns = ['you', 'your', 'yours']\n",
    "third_person_pronouns = ['he', 'him', 'his', 'she', 'her', 'hers', 'it', 'its', 'they', 'them', 'their', 'theirs']\n",
    "\n",
    "# Adding average pronoun counts to the DataFrame for training data\n",
    "df_train['avg_first_person_pronouns'] = df_train['text'].apply(count_pronouns_per_word, args=(first_person_pronouns,))\n",
    "df_train['avg_second_person_pronouns'] = df_train['text'].apply(count_pronouns_per_word, args=(second_person_pronouns,))\n",
    "df_train['avg_third_person_pronouns'] = df_train['text'].apply(count_pronouns_per_word, args=(third_person_pronouns,))\n",
    "\n",
    "# Adding average pronoun counts to the DataFrame for testing data\n",
    "df_test['avg_first_person_pronouns'] = df_test['text'].apply(count_pronouns_per_word, args=(first_person_pronouns,))\n",
    "df_test['avg_second_person_pronouns'] = df_test['text'].apply(count_pronouns_per_word, args=(second_person_pronouns,))\n",
    "df_test['avg_third_person_pronouns'] = df_test['text'].apply(count_pronouns_per_word, args=(third_person_pronouns,))\n",
    "\n",
    "avg_first_person_pronouns_train = df_train['avg_first_person_pronouns'].to_numpy()\n",
    "avg_second_person_pronouns_train = df_train['avg_second_person_pronouns'].to_numpy()\n",
    "avg_third_person_pronouns_train = df_train['avg_third_person_pronouns'].to_numpy()\n",
    "\n",
    "# Converting the necessary columns from df_test to NumPy arrays\n",
    "avg_first_person_pronouns_test = df_test['avg_first_person_pronouns'].to_numpy()\n",
    "avg_second_person_pronouns_test = df_test['avg_second_person_pronouns'].to_numpy()\n",
    "avg_third_person_pronouns_test = df_test['avg_third_person_pronouns'].to_numpy()\n",
    "\n",
    "\n",
    "# Save the arrays to .npy files for training data\n",
    "np.save('avg_first_person_pronouns_train.npy', avg_first_person_pronouns_train)\n",
    "np.save('avg_second_person_pronouns_train.npy', avg_second_person_pronouns_train)\n",
    "np.save('avg_third_person_pronouns_train.npy', avg_third_person_pronouns_train)\n",
    "\n",
    "# Save the arrays to .npy files for testing data\n",
    "np.save('avg_first_person_pronouns_test.npy', avg_first_person_pronouns_test)\n",
    "np.save('avg_second_person_pronouns_test.npy', avg_second_person_pronouns_test)\n",
    "np.save('avg_third_person_pronouns_test.npy', avg_third_person_pronouns_test)\n"
   ]
  },
  {
   "cell_type": "markdown",
   "id": "427136b2-aa85-4733-b17c-851381ff3230",
   "metadata": {},
   "source": [
    "## Sentiment Analysis"
   ]
  },
  {
   "cell_type": "code",
   "execution_count": 114,
   "id": "0c41b75a-1d46-448d-a03a-046555f0616c",
   "metadata": {},
   "outputs": [],
   "source": [
    "# Function to compute sentiment polarity\n",
    "def get_sentiment(text):\n",
    "    return TextBlob(text).sentiment.polarity\n",
    "\n",
    "# Computing sentiment for each article\n",
    "df_train['sentiment'] = df_train['processed_text'].apply(get_sentiment)\n",
    "df_test['sentiment'] = df_test['processed_text'].apply(get_sentiment)\n",
    "\n"
   ]
  },
  {
   "cell_type": "markdown",
   "id": "53b09fef-b84d-48bd-bf8e-55d1bbe592e0",
   "metadata": {},
   "source": [
    "## Subjectivity Analysis"
   ]
  },
  {
   "cell_type": "code",
   "execution_count": 116,
   "id": "a1d0c17b-8e5b-4705-bf2b-ef45b640696f",
   "metadata": {},
   "outputs": [],
   "source": [
    "# Function to compute subjectivity\n",
    "def get_subjectivity(text):\n",
    "    return TextBlob(text).sentiment.subjectivity\n",
    "\n",
    "# Computing subjectivity for each article\n",
    "df_train['subjectivity'] = df_train['processed_text'].apply(get_subjectivity)\n",
    "df_test['subjectivity'] = df_test['processed_text'].apply(get_subjectivity)\n"
   ]
  },
  {
   "cell_type": "markdown",
   "id": "35a50929-8d5f-43ff-9cb7-787d80251924",
   "metadata": {},
   "source": [
    "## Readability analysis"
   ]
  },
  {
   "cell_type": "code",
   "execution_count": 117,
   "id": "548c814c-7af5-4f1c-a714-a966e7834cfe",
   "metadata": {},
   "outputs": [],
   "source": [
    "import textstat\n",
    "# Function to compute readability score\n",
    "def get_readability(text):\n",
    "    return textstat.flesch_reading_ease(text)\n",
    "\n",
    "# Computing readability score for each article\n",
    "df_train['readability'] = df_train['text'].apply(get_readability)\n",
    "df_test['readability'] = df_test['text'].apply(get_readability)\n",
    "\n"
   ]
  },
  {
   "cell_type": "code",
   "execution_count": 118,
   "id": "caf4078b-3b90-4b3b-85e1-89064cfe7008",
   "metadata": {},
   "outputs": [],
   "source": [
    "# Convert the sentiment, subjectivity, and readability columns to NumPy arrays\n",
    "sentiment_train = df_train['sentiment'].to_numpy()\n",
    "sentiment_test = df_test['sentiment'].to_numpy()\n",
    "\n",
    "subjectivity_train = df_train['subjectivity'].to_numpy()\n",
    "subjectivity_test = df_test['subjectivity'].to_numpy()\n",
    "\n",
    "readability_train = df_train['readability'].to_numpy()\n",
    "readability_test = df_test['readability'].to_numpy()\n",
    "\n",
    "# Save the arrays to .npy files for sentiment\n",
    "np.save('sentiment_train.npy', sentiment_train)\n",
    "np.save('sentiment_test.npy', sentiment_test)\n",
    "\n",
    "# Save the arrays to .npy files for subjectivity\n",
    "np.save('subjectivity_train.npy', subjectivity_train)\n",
    "np.save('subjectivity_test.npy', subjectivity_test)\n",
    "\n",
    "# Save the arrays to .npy files for readability\n",
    "np.save('readability_train.npy', readability_train)\n",
    "np.save('readability_test.npy', readability_test)\n"
   ]
  },
  {
   "cell_type": "markdown",
   "id": "fa42dd4c-528e-4454-bbbd-ad8e78afc6a5",
   "metadata": {},
   "source": [
    "## Low frequency collocations"
   ]
  },
  {
   "cell_type": "code",
   "execution_count": 125,
   "id": "5b62c2c5-5a0b-4c61-8cda-3fb9fb9ed7b6",
   "metadata": {},
   "outputs": [],
   "source": [
    "from nltk.collocations import BigramCollocationFinder\n",
    "from nltk.metrics import BigramAssocMeasures\n",
    "from nltk.probability import FreqDist\n",
    "from nltk.tokenize import word_tokenize\n",
    "\n",
    "def find_low_freq_collocations(texts, freq_threshold=2): #threshold is how rare the coll has to be, if appear < thres -> rare\n",
    "    all_bigrams = []\n",
    "    for text in texts:\n",
    "        tokens = word_tokenize(text)\n",
    "        bigram_finder = BigramCollocationFinder.from_words(tokens)\n",
    "        all_bigrams.extend(list(bigram_finder.ngram_fd.items()))\n",
    "\n",
    "    bigram_freq = FreqDist()\n",
    "    for bigram, freq in all_bigrams:\n",
    "        bigram_freq[bigram] += freq\n",
    "\n",
    "    low_freq_collocations = [bigram for bigram, freq in bigram_freq.items() if freq == freq_threshold]\n",
    "    return low_freq_collocations\n",
    "\n",
    "def flag_collocations(text, collocations):\n",
    "    tokens = word_tokenize(text)\n",
    "    bigrams_existing = set(nltk.bigrams(tokens))\n",
    "    f = {}\n",
    "    for c in collocations:\n",
    "        feature = f\"colloc_{'_'.join(c)}\"\n",
    "        f[feature] = int(c in bigrams_existing)\n",
    "    return pd.Series(f)"
   ]
  },
  {
   "cell_type": "code",
   "execution_count": 126,
   "id": "ac6938a3-22c7-43d4-83be-1694b00868c9",
   "metadata": {},
   "outputs": [],
   "source": [
    "def process_batches(dataframe, collocations, batch_size=100):\n",
    "    # Create an empty DataFrame to store results\n",
    "    results = pd.DataFrame()\n",
    "\n",
    "    # Process the DataFrame in batches\n",
    "    for start in range(0, len(dataframe), batch_size):\n",
    "        end = start + batch_size\n",
    "        batch = dataframe.iloc[start:end]\n",
    "        \n",
    "        # Apply the flag_collocations to each text in the batch\n",
    "        batch_results = batch['processed_text'].apply(flag_collocations, args=(collocations,))\n",
    "        \n",
    "        # Append the results of this batch to the main results DataFrame\n",
    "        results = pd.concat([results, batch_results], ignore_index=True)\n",
    "    \n",
    "    return results"
   ]
  },
  {
   "cell_type": "code",
   "execution_count": 127,
   "id": "d25f87a1-e97c-43d9-8350-859fafeaf7ff",
   "metadata": {},
   "outputs": [
    {
     "ename": "MemoryError",
     "evalue": "Unable to allocate 22.9 GiB for an array with shape (788346, 3900) and data type int64",
     "output_type": "error",
     "traceback": [
      "\u001b[1;31m---------------------------------------------------------------------------\u001b[0m",
      "\u001b[1;31mMemoryError\u001b[0m                               Traceback (most recent call last)",
      "Cell \u001b[1;32mIn[127], line 5\u001b[0m\n\u001b[0;32m      2\u001b[0m rare_collocations \u001b[38;5;241m=\u001b[39m find_low_freq_collocations(df_train[\u001b[38;5;124m'\u001b[39m\u001b[38;5;124mprocessed_text\u001b[39m\u001b[38;5;124m'\u001b[39m], freq_threshold\u001b[38;5;241m=\u001b[39m\u001b[38;5;241m2\u001b[39m)\n\u001b[0;32m      4\u001b[0m \u001b[38;5;66;03m# Process training data in batches\u001b[39;00m\n\u001b[1;32m----> 5\u001b[0m train_collocations \u001b[38;5;241m=\u001b[39m process_batches(df_train, rare_collocations, batch_size\u001b[38;5;241m=\u001b[39m\u001b[38;5;241m100\u001b[39m)\n\u001b[0;32m      7\u001b[0m \u001b[38;5;66;03m# Process testing data in batches\u001b[39;00m\n\u001b[0;32m      8\u001b[0m test_collocations \u001b[38;5;241m=\u001b[39m process_batches(df_test, rare_collocations, batch_size\u001b[38;5;241m=\u001b[39m\u001b[38;5;241m100\u001b[39m)\n",
      "Cell \u001b[1;32mIn[126], line 14\u001b[0m, in \u001b[0;36mprocess_batches\u001b[1;34m(dataframe, collocations, batch_size)\u001b[0m\n\u001b[0;32m     11\u001b[0m     batch_results \u001b[38;5;241m=\u001b[39m batch[\u001b[38;5;124m'\u001b[39m\u001b[38;5;124mprocessed_text\u001b[39m\u001b[38;5;124m'\u001b[39m]\u001b[38;5;241m.\u001b[39mapply(flag_collocations, args\u001b[38;5;241m=\u001b[39m(collocations,))\n\u001b[0;32m     13\u001b[0m     \u001b[38;5;66;03m# Append the results of this batch to the main results DataFrame\u001b[39;00m\n\u001b[1;32m---> 14\u001b[0m     results \u001b[38;5;241m=\u001b[39m pd\u001b[38;5;241m.\u001b[39mconcat([results, batch_results], ignore_index\u001b[38;5;241m=\u001b[39m\u001b[38;5;28;01mTrue\u001b[39;00m)\n\u001b[0;32m     16\u001b[0m \u001b[38;5;28;01mreturn\u001b[39;00m results\n",
      "File \u001b[1;32m~\\anaconda3\\envs\\CS4248\\Lib\\site-packages\\pandas\\core\\reshape\\concat.py:395\u001b[0m, in \u001b[0;36mconcat\u001b[1;34m(objs, axis, join, ignore_index, keys, levels, names, verify_integrity, sort, copy)\u001b[0m\n\u001b[0;32m    380\u001b[0m     copy \u001b[38;5;241m=\u001b[39m \u001b[38;5;28;01mFalse\u001b[39;00m\n\u001b[0;32m    382\u001b[0m op \u001b[38;5;241m=\u001b[39m _Concatenator(\n\u001b[0;32m    383\u001b[0m     objs,\n\u001b[0;32m    384\u001b[0m     axis\u001b[38;5;241m=\u001b[39maxis,\n\u001b[1;32m   (...)\u001b[0m\n\u001b[0;32m    392\u001b[0m     sort\u001b[38;5;241m=\u001b[39msort,\n\u001b[0;32m    393\u001b[0m )\n\u001b[1;32m--> 395\u001b[0m \u001b[38;5;28;01mreturn\u001b[39;00m op\u001b[38;5;241m.\u001b[39mget_result()\n",
      "File \u001b[1;32m~\\anaconda3\\envs\\CS4248\\Lib\\site-packages\\pandas\\core\\reshape\\concat.py:684\u001b[0m, in \u001b[0;36m_Concatenator.get_result\u001b[1;34m(self)\u001b[0m\n\u001b[0;32m    680\u001b[0m             indexers[ax] \u001b[38;5;241m=\u001b[39m obj_labels\u001b[38;5;241m.\u001b[39mget_indexer(new_labels)\n\u001b[0;32m    682\u001b[0m     mgrs_indexers\u001b[38;5;241m.\u001b[39mappend((obj\u001b[38;5;241m.\u001b[39m_mgr, indexers))\n\u001b[1;32m--> 684\u001b[0m new_data \u001b[38;5;241m=\u001b[39m concatenate_managers(\n\u001b[0;32m    685\u001b[0m     mgrs_indexers, \u001b[38;5;28mself\u001b[39m\u001b[38;5;241m.\u001b[39mnew_axes, concat_axis\u001b[38;5;241m=\u001b[39m\u001b[38;5;28mself\u001b[39m\u001b[38;5;241m.\u001b[39mbm_axis, copy\u001b[38;5;241m=\u001b[39m\u001b[38;5;28mself\u001b[39m\u001b[38;5;241m.\u001b[39mcopy\n\u001b[0;32m    686\u001b[0m )\n\u001b[0;32m    687\u001b[0m \u001b[38;5;28;01mif\u001b[39;00m \u001b[38;5;129;01mnot\u001b[39;00m \u001b[38;5;28mself\u001b[39m\u001b[38;5;241m.\u001b[39mcopy \u001b[38;5;129;01mand\u001b[39;00m \u001b[38;5;129;01mnot\u001b[39;00m using_copy_on_write():\n\u001b[0;32m    688\u001b[0m     new_data\u001b[38;5;241m.\u001b[39m_consolidate_inplace()\n",
      "File \u001b[1;32m~\\anaconda3\\envs\\CS4248\\Lib\\site-packages\\pandas\\core\\internals\\concat.py:177\u001b[0m, in \u001b[0;36mconcatenate_managers\u001b[1;34m(mgrs_indexers, axes, concat_axis, copy)\u001b[0m\n\u001b[0;32m    167\u001b[0m vals \u001b[38;5;241m=\u001b[39m [ju\u001b[38;5;241m.\u001b[39mblock\u001b[38;5;241m.\u001b[39mvalues \u001b[38;5;28;01mfor\u001b[39;00m ju \u001b[38;5;129;01min\u001b[39;00m join_units]\n\u001b[0;32m    169\u001b[0m \u001b[38;5;28;01mif\u001b[39;00m \u001b[38;5;129;01mnot\u001b[39;00m blk\u001b[38;5;241m.\u001b[39mis_extension:\n\u001b[0;32m    170\u001b[0m     \u001b[38;5;66;03m# _is_uniform_join_units ensures a single dtype, so\u001b[39;00m\n\u001b[0;32m    171\u001b[0m     \u001b[38;5;66;03m#  we can use np.concatenate, which is more performant\u001b[39;00m\n\u001b[1;32m   (...)\u001b[0m\n\u001b[0;32m    175\u001b[0m     \u001b[38;5;66;03m# expected \"Union[_SupportsArray[dtype[Any]],\u001b[39;00m\n\u001b[0;32m    176\u001b[0m     \u001b[38;5;66;03m# _NestedSequence[_SupportsArray[dtype[Any]]]]\"\u001b[39;00m\n\u001b[1;32m--> 177\u001b[0m     values \u001b[38;5;241m=\u001b[39m np\u001b[38;5;241m.\u001b[39mconcatenate(vals, axis\u001b[38;5;241m=\u001b[39m\u001b[38;5;241m1\u001b[39m)  \u001b[38;5;66;03m# type: ignore[arg-type]\u001b[39;00m\n\u001b[0;32m    178\u001b[0m \u001b[38;5;28;01melif\u001b[39;00m is_1d_only_ea_dtype(blk\u001b[38;5;241m.\u001b[39mdtype):\n\u001b[0;32m    179\u001b[0m     \u001b[38;5;66;03m# TODO(EA2D): special-casing not needed with 2D EAs\u001b[39;00m\n\u001b[0;32m    180\u001b[0m     values \u001b[38;5;241m=\u001b[39m concat_compat(vals, axis\u001b[38;5;241m=\u001b[39m\u001b[38;5;241m0\u001b[39m, ea_compat_axis\u001b[38;5;241m=\u001b[39m\u001b[38;5;28;01mTrue\u001b[39;00m)\n",
      "\u001b[1;31mMemoryError\u001b[0m: Unable to allocate 22.9 GiB for an array with shape (788346, 3900) and data type int64"
     ]
    }
   ],
   "source": [
    "# Assuming rare_collocations is a list of tuples obtained from find_low_freq_collocations\n",
    "rare_collocations = find_low_freq_collocations(df_train['processed_text'], freq_threshold=2)\n",
    "\n",
    "# Process training data in batches\n",
    "train_collocations = process_batches(df_train, rare_collocations, batch_size=100)\n",
    "\n",
    "# Process testing data in batches\n",
    "test_collocations = process_batches(df_test, rare_collocations, batch_size=100)\n",
    "\n",
    "train_collocations_array = train_collocations.to_numpy()\n",
    "test_collocations_array = test_collocations.to_numpy()\n",
    "\n",
    "np.save('train_collocations.npy', train_collocations_array)\n",
    "np.save('test_collocations.npy', test_collocations_array)"
   ]
  },
  {
   "cell_type": "code",
   "execution_count": null,
   "id": "921dca83-e9ca-4168-9573-3eaa8f029902",
   "metadata": {},
   "outputs": [],
   "source": []
  },
  {
   "cell_type": "code",
   "execution_count": null,
   "id": "4213611c-51e6-4e48-b522-10c563ce59c0",
   "metadata": {},
   "outputs": [],
   "source": [
    "train_sem_dis = df_train['processed_text'].apply(semantic_dispersion)\n",
    "np.save('train_semantic_dispersion.npy', train_sem_dis)\n",
    "\n",
    "test_sem_dis = df_test['processed_text'].apply(semantic_dispersion)\n",
    "np.save('test_semantic_dispersion.npy', test_sem_dis)"
   ]
  },
  {
   "cell_type": "markdown",
   "id": "2fb499d8-a9f8-495f-8113-838ca06ccfdd",
   "metadata": {},
   "source": [
    "## POS Distribution"
   ]
  },
  {
   "cell_type": "code",
   "execution_count": null,
   "id": "aad93c5e-3b04-43e3-b011-0fde1f241b08",
   "metadata": {},
   "outputs": [],
   "source": []
  },
  {
   "cell_type": "code",
   "execution_count": null,
   "id": "cf6ec9c9-7aae-454c-9d8c-c5b9b2b1a42b",
   "metadata": {},
   "outputs": [],
   "source": []
  },
  {
   "cell_type": "markdown",
   "id": "6e7ded17-d527-4a75-be95-24f331a906cb",
   "metadata": {},
   "source": [
    "## Word2Vec"
   ]
  },
  {
   "cell_type": "code",
   "execution_count": 40,
   "id": "85cd007e-d1af-4494-8ab9-d00f08fb5949",
   "metadata": {},
   "outputs": [
    {
     "ename": "KeyError",
     "evalue": "\"Column(s) ['readability', 'sentiment', 'subjectivity'] do not exist\"",
     "output_type": "error",
     "traceback": [
      "\u001b[1;31m---------------------------------------------------------------------------\u001b[0m",
      "\u001b[1;31mKeyError\u001b[0m                                  Traceback (most recent call last)",
      "Cell \u001b[1;32mIn[40], line 2\u001b[0m\n\u001b[0;32m      1\u001b[0m \u001b[38;5;66;03m# Calculate mean values for sentiment, readability, and subjectivity by news category\u001b[39;00m\n\u001b[1;32m----> 2\u001b[0m mean_values \u001b[38;5;241m=\u001b[39m df_train\u001b[38;5;241m.\u001b[39mgroupby(\u001b[38;5;124m'\u001b[39m\u001b[38;5;124mlabel\u001b[39m\u001b[38;5;124m'\u001b[39m)\u001b[38;5;241m.\u001b[39magg({\n\u001b[0;32m      3\u001b[0m     \u001b[38;5;124m'\u001b[39m\u001b[38;5;124msentiment\u001b[39m\u001b[38;5;124m'\u001b[39m: \u001b[38;5;124m'\u001b[39m\u001b[38;5;124mmean\u001b[39m\u001b[38;5;124m'\u001b[39m,\n\u001b[0;32m      4\u001b[0m     \u001b[38;5;124m'\u001b[39m\u001b[38;5;124mreadability\u001b[39m\u001b[38;5;124m'\u001b[39m: \u001b[38;5;124m'\u001b[39m\u001b[38;5;124mmean\u001b[39m\u001b[38;5;124m'\u001b[39m,\n\u001b[0;32m      5\u001b[0m     \u001b[38;5;124m'\u001b[39m\u001b[38;5;124msubjectivity\u001b[39m\u001b[38;5;124m'\u001b[39m: \u001b[38;5;124m'\u001b[39m\u001b[38;5;124mmean\u001b[39m\u001b[38;5;124m'\u001b[39m\n\u001b[0;32m      6\u001b[0m })\u001b[38;5;241m.\u001b[39mreset_index()\n\u001b[0;32m      8\u001b[0m \u001b[38;5;66;03m# Plotting\u001b[39;00m\n\u001b[0;32m      9\u001b[0m plt\u001b[38;5;241m.\u001b[39mfigure(figsize\u001b[38;5;241m=\u001b[39m(\u001b[38;5;241m18\u001b[39m, \u001b[38;5;241m6\u001b[39m))\n",
      "File \u001b[1;32m~\\anaconda3\\envs\\CS4248\\Lib\\site-packages\\pandas\\core\\groupby\\generic.py:1432\u001b[0m, in \u001b[0;36mDataFrameGroupBy.aggregate\u001b[1;34m(self, func, engine, engine_kwargs, *args, **kwargs)\u001b[0m\n\u001b[0;32m   1429\u001b[0m     kwargs[\u001b[38;5;124m\"\u001b[39m\u001b[38;5;124mengine_kwargs\u001b[39m\u001b[38;5;124m\"\u001b[39m] \u001b[38;5;241m=\u001b[39m engine_kwargs\n\u001b[0;32m   1431\u001b[0m op \u001b[38;5;241m=\u001b[39m GroupByApply(\u001b[38;5;28mself\u001b[39m, func, args\u001b[38;5;241m=\u001b[39margs, kwargs\u001b[38;5;241m=\u001b[39mkwargs)\n\u001b[1;32m-> 1432\u001b[0m result \u001b[38;5;241m=\u001b[39m op\u001b[38;5;241m.\u001b[39magg()\n\u001b[0;32m   1433\u001b[0m \u001b[38;5;28;01mif\u001b[39;00m \u001b[38;5;129;01mnot\u001b[39;00m is_dict_like(func) \u001b[38;5;129;01mand\u001b[39;00m result \u001b[38;5;129;01mis\u001b[39;00m \u001b[38;5;129;01mnot\u001b[39;00m \u001b[38;5;28;01mNone\u001b[39;00m:\n\u001b[0;32m   1434\u001b[0m     \u001b[38;5;66;03m# GH #52849\u001b[39;00m\n\u001b[0;32m   1435\u001b[0m     \u001b[38;5;28;01mif\u001b[39;00m \u001b[38;5;129;01mnot\u001b[39;00m \u001b[38;5;28mself\u001b[39m\u001b[38;5;241m.\u001b[39mas_index \u001b[38;5;129;01mand\u001b[39;00m is_list_like(func):\n",
      "File \u001b[1;32m~\\anaconda3\\envs\\CS4248\\Lib\\site-packages\\pandas\\core\\apply.py:190\u001b[0m, in \u001b[0;36mApply.agg\u001b[1;34m(self)\u001b[0m\n\u001b[0;32m    187\u001b[0m     \u001b[38;5;28;01mreturn\u001b[39;00m \u001b[38;5;28mself\u001b[39m\u001b[38;5;241m.\u001b[39mapply_str()\n\u001b[0;32m    189\u001b[0m \u001b[38;5;28;01mif\u001b[39;00m is_dict_like(func):\n\u001b[1;32m--> 190\u001b[0m     \u001b[38;5;28;01mreturn\u001b[39;00m \u001b[38;5;28mself\u001b[39m\u001b[38;5;241m.\u001b[39magg_dict_like()\n\u001b[0;32m    191\u001b[0m \u001b[38;5;28;01melif\u001b[39;00m is_list_like(func):\n\u001b[0;32m    192\u001b[0m     \u001b[38;5;66;03m# we require a list, but not a 'str'\u001b[39;00m\n\u001b[0;32m    193\u001b[0m     \u001b[38;5;28;01mreturn\u001b[39;00m \u001b[38;5;28mself\u001b[39m\u001b[38;5;241m.\u001b[39magg_list_like()\n",
      "File \u001b[1;32m~\\anaconda3\\envs\\CS4248\\Lib\\site-packages\\pandas\\core\\apply.py:423\u001b[0m, in \u001b[0;36mApply.agg_dict_like\u001b[1;34m(self)\u001b[0m\n\u001b[0;32m    415\u001b[0m \u001b[38;5;28;01mdef\u001b[39;00m \u001b[38;5;21magg_dict_like\u001b[39m(\u001b[38;5;28mself\u001b[39m) \u001b[38;5;241m-\u001b[39m\u001b[38;5;241m>\u001b[39m DataFrame \u001b[38;5;241m|\u001b[39m Series:\n\u001b[0;32m    416\u001b[0m \u001b[38;5;250m    \u001b[39m\u001b[38;5;124;03m\"\"\"\u001b[39;00m\n\u001b[0;32m    417\u001b[0m \u001b[38;5;124;03m    Compute aggregation in the case of a dict-like argument.\u001b[39;00m\n\u001b[0;32m    418\u001b[0m \n\u001b[1;32m   (...)\u001b[0m\n\u001b[0;32m    421\u001b[0m \u001b[38;5;124;03m    Result of aggregation.\u001b[39;00m\n\u001b[0;32m    422\u001b[0m \u001b[38;5;124;03m    \"\"\"\u001b[39;00m\n\u001b[1;32m--> 423\u001b[0m     \u001b[38;5;28;01mreturn\u001b[39;00m \u001b[38;5;28mself\u001b[39m\u001b[38;5;241m.\u001b[39magg_or_apply_dict_like(op_name\u001b[38;5;241m=\u001b[39m\u001b[38;5;124m\"\u001b[39m\u001b[38;5;124magg\u001b[39m\u001b[38;5;124m\"\u001b[39m)\n",
      "File \u001b[1;32m~\\anaconda3\\envs\\CS4248\\Lib\\site-packages\\pandas\\core\\apply.py:1608\u001b[0m, in \u001b[0;36mGroupByApply.agg_or_apply_dict_like\u001b[1;34m(self, op_name)\u001b[0m\n\u001b[0;32m   1603\u001b[0m     kwargs\u001b[38;5;241m.\u001b[39mupdate({\u001b[38;5;124m\"\u001b[39m\u001b[38;5;124mengine\u001b[39m\u001b[38;5;124m\"\u001b[39m: engine, \u001b[38;5;124m\"\u001b[39m\u001b[38;5;124mengine_kwargs\u001b[39m\u001b[38;5;124m\"\u001b[39m: engine_kwargs})\n\u001b[0;32m   1605\u001b[0m \u001b[38;5;28;01mwith\u001b[39;00m com\u001b[38;5;241m.\u001b[39mtemp_setattr(\n\u001b[0;32m   1606\u001b[0m     obj, \u001b[38;5;124m\"\u001b[39m\u001b[38;5;124mas_index\u001b[39m\u001b[38;5;124m\"\u001b[39m, \u001b[38;5;28;01mTrue\u001b[39;00m, condition\u001b[38;5;241m=\u001b[39m\u001b[38;5;28mhasattr\u001b[39m(obj, \u001b[38;5;124m\"\u001b[39m\u001b[38;5;124mas_index\u001b[39m\u001b[38;5;124m\"\u001b[39m)\n\u001b[0;32m   1607\u001b[0m ):\n\u001b[1;32m-> 1608\u001b[0m     result_index, result_data \u001b[38;5;241m=\u001b[39m \u001b[38;5;28mself\u001b[39m\u001b[38;5;241m.\u001b[39mcompute_dict_like(\n\u001b[0;32m   1609\u001b[0m         op_name, selected_obj, selection, kwargs\n\u001b[0;32m   1610\u001b[0m     )\n\u001b[0;32m   1611\u001b[0m result \u001b[38;5;241m=\u001b[39m \u001b[38;5;28mself\u001b[39m\u001b[38;5;241m.\u001b[39mwrap_results_dict_like(selected_obj, result_index, result_data)\n\u001b[0;32m   1612\u001b[0m \u001b[38;5;28;01mreturn\u001b[39;00m result\n",
      "File \u001b[1;32m~\\anaconda3\\envs\\CS4248\\Lib\\site-packages\\pandas\\core\\apply.py:462\u001b[0m, in \u001b[0;36mApply.compute_dict_like\u001b[1;34m(self, op_name, selected_obj, selection, kwargs)\u001b[0m\n\u001b[0;32m    460\u001b[0m is_groupby \u001b[38;5;241m=\u001b[39m \u001b[38;5;28misinstance\u001b[39m(obj, (DataFrameGroupBy, SeriesGroupBy))\n\u001b[0;32m    461\u001b[0m func \u001b[38;5;241m=\u001b[39m cast(AggFuncTypeDict, \u001b[38;5;28mself\u001b[39m\u001b[38;5;241m.\u001b[39mfunc)\n\u001b[1;32m--> 462\u001b[0m func \u001b[38;5;241m=\u001b[39m \u001b[38;5;28mself\u001b[39m\u001b[38;5;241m.\u001b[39mnormalize_dictlike_arg(op_name, selected_obj, func)\n\u001b[0;32m    464\u001b[0m is_non_unique_col \u001b[38;5;241m=\u001b[39m (\n\u001b[0;32m    465\u001b[0m     selected_obj\u001b[38;5;241m.\u001b[39mndim \u001b[38;5;241m==\u001b[39m \u001b[38;5;241m2\u001b[39m\n\u001b[0;32m    466\u001b[0m     \u001b[38;5;129;01mand\u001b[39;00m selected_obj\u001b[38;5;241m.\u001b[39mcolumns\u001b[38;5;241m.\u001b[39mnunique() \u001b[38;5;241m<\u001b[39m \u001b[38;5;28mlen\u001b[39m(selected_obj\u001b[38;5;241m.\u001b[39mcolumns)\n\u001b[0;32m    467\u001b[0m )\n\u001b[0;32m    469\u001b[0m \u001b[38;5;28;01mif\u001b[39;00m selected_obj\u001b[38;5;241m.\u001b[39mndim \u001b[38;5;241m==\u001b[39m \u001b[38;5;241m1\u001b[39m:\n\u001b[0;32m    470\u001b[0m     \u001b[38;5;66;03m# key only used for output\u001b[39;00m\n",
      "File \u001b[1;32m~\\anaconda3\\envs\\CS4248\\Lib\\site-packages\\pandas\\core\\apply.py:663\u001b[0m, in \u001b[0;36mApply.normalize_dictlike_arg\u001b[1;34m(self, how, obj, func)\u001b[0m\n\u001b[0;32m    661\u001b[0m     cols \u001b[38;5;241m=\u001b[39m Index(\u001b[38;5;28mlist\u001b[39m(func\u001b[38;5;241m.\u001b[39mkeys()))\u001b[38;5;241m.\u001b[39mdifference(obj\u001b[38;5;241m.\u001b[39mcolumns, sort\u001b[38;5;241m=\u001b[39m\u001b[38;5;28;01mTrue\u001b[39;00m)\n\u001b[0;32m    662\u001b[0m     \u001b[38;5;28;01mif\u001b[39;00m \u001b[38;5;28mlen\u001b[39m(cols) \u001b[38;5;241m>\u001b[39m \u001b[38;5;241m0\u001b[39m:\n\u001b[1;32m--> 663\u001b[0m         \u001b[38;5;28;01mraise\u001b[39;00m \u001b[38;5;167;01mKeyError\u001b[39;00m(\u001b[38;5;124mf\u001b[39m\u001b[38;5;124m\"\u001b[39m\u001b[38;5;124mColumn(s) \u001b[39m\u001b[38;5;132;01m{\u001b[39;00m\u001b[38;5;28mlist\u001b[39m(cols)\u001b[38;5;132;01m}\u001b[39;00m\u001b[38;5;124m do not exist\u001b[39m\u001b[38;5;124m\"\u001b[39m)\n\u001b[0;32m    665\u001b[0m aggregator_types \u001b[38;5;241m=\u001b[39m (\u001b[38;5;28mlist\u001b[39m, \u001b[38;5;28mtuple\u001b[39m, \u001b[38;5;28mdict\u001b[39m)\n\u001b[0;32m    667\u001b[0m \u001b[38;5;66;03m# if we have a dict of any non-scalars\u001b[39;00m\n\u001b[0;32m    668\u001b[0m \u001b[38;5;66;03m# eg. {'A' : ['mean']}, normalize all to\u001b[39;00m\n\u001b[0;32m    669\u001b[0m \u001b[38;5;66;03m# be list-likes\u001b[39;00m\n\u001b[0;32m    670\u001b[0m \u001b[38;5;66;03m# Cannot use func.values() because arg may be a Series\u001b[39;00m\n",
      "\u001b[1;31mKeyError\u001b[0m: \"Column(s) ['readability', 'sentiment', 'subjectivity'] do not exist\""
     ]
    }
   ],
   "source": [
    "# Calculate mean values for sentiment, readability, and subjectivity by news category\n",
    "mean_values = df_train.groupby('label').agg({\n",
    "    'sentiment': 'mean',\n",
    "    'readability': 'mean',\n",
    "    'subjectivity': 'mean'\n",
    "}).reset_index()\n",
    "\n",
    "# Plotting\n",
    "plt.figure(figsize=(18, 6))\n",
    "\n",
    "# Sentiment\n",
    "plt.subplot(1, 3, 1)\n",
    "sns.barplot(x='label', y='sentiment', data=mean_values)\n",
    "plt.title('Average Sentiment by News Category')\n",
    "plt.xticks(rotation=45)\n",
    "\n",
    "# Readability\n",
    "plt.subplot(1, 3, 2)\n",
    "sns.barplot(x='label', y='readability', data=mean_values)\n",
    "plt.title('Average Readability by News Category')\n",
    "plt.xticks(rotation=45)\n",
    "\n",
    "# Subjectivity\n",
    "plt.subplot(1, 3, 3)\n",
    "sns.barplot(x='label', y='subjectivity', data=mean_values)\n",
    "plt.title('Average Subjectivity by News Category')\n",
    "plt.xticks(rotation=45)\n",
    "\n",
    "plt.tight_layout()\n",
    "plt.show()\n"
   ]
  },
  {
   "cell_type": "code",
   "execution_count": 71,
   "id": "2d33e51e-0953-4ca2-bd0d-aa0bef9237ee",
   "metadata": {},
   "outputs": [
    {
     "data": {
      "text/html": [
       "<div>\n",
       "<style scoped>\n",
       "    .dataframe tbody tr th:only-of-type {\n",
       "        vertical-align: middle;\n",
       "    }\n",
       "\n",
       "    .dataframe tbody tr th {\n",
       "        vertical-align: top;\n",
       "    }\n",
       "\n",
       "    .dataframe thead th {\n",
       "        text-align: right;\n",
       "    }\n",
       "</style>\n",
       "<table border=\"1\" class=\"dataframe\">\n",
       "  <thead>\n",
       "    <tr style=\"text-align: right;\">\n",
       "      <th></th>\n",
       "      <th>label</th>\n",
       "      <th>text</th>\n",
       "      <th>processed_text</th>\n",
       "      <th>num_clauses</th>\n",
       "      <th>word_count</th>\n",
       "      <th>clause_to_word_ratio</th>\n",
       "      <th>sentence_count</th>\n",
       "      <th>clauses_per_sentence</th>\n",
       "      <th>pos_feature_1</th>\n",
       "      <th>pos_feature_2</th>\n",
       "      <th>...</th>\n",
       "      <th>pos_feature_8</th>\n",
       "      <th>pos_feature_9</th>\n",
       "      <th>pos_feature_10</th>\n",
       "      <th>pos_feature_11</th>\n",
       "      <th>pos_feature_12</th>\n",
       "      <th>pos_feature_13</th>\n",
       "      <th>pos_feature_14</th>\n",
       "      <th>pos_feature_15</th>\n",
       "      <th>pos_feature_16</th>\n",
       "      <th>pos_feature_17</th>\n",
       "    </tr>\n",
       "  </thead>\n",
       "  <tbody>\n",
       "    <tr>\n",
       "      <th>0</th>\n",
       "      <td>Satire</td>\n",
       "      <td>When so many actors seem content to churn out ...</td>\n",
       "      <td>When many actor seem content churn performance...</td>\n",
       "      <td>33</td>\n",
       "      <td>251</td>\n",
       "      <td>0.131474</td>\n",
       "      <td>16</td>\n",
       "      <td>2.062500</td>\n",
       "      <td>0.044068</td>\n",
       "      <td>0.057627</td>\n",
       "      <td>...</td>\n",
       "      <td>0.057627</td>\n",
       "      <td>0.111864</td>\n",
       "      <td>0.138983</td>\n",
       "      <td>0.057627</td>\n",
       "      <td>0.033898</td>\n",
       "      <td>0.013559</td>\n",
       "      <td>0.003390</td>\n",
       "      <td>0.003390</td>\n",
       "      <td>NaN</td>\n",
       "      <td>NaN</td>\n",
       "    </tr>\n",
       "    <tr>\n",
       "      <th>1</th>\n",
       "      <td>Satire</td>\n",
       "      <td>In what football insiders are calling an unex...</td>\n",
       "      <td>In football insider calling unexpectedly sever...</td>\n",
       "      <td>18</td>\n",
       "      <td>202</td>\n",
       "      <td>0.089109</td>\n",
       "      <td>12</td>\n",
       "      <td>1.500000</td>\n",
       "      <td>0.013274</td>\n",
       "      <td>0.035398</td>\n",
       "      <td>...</td>\n",
       "      <td>0.128319</td>\n",
       "      <td>0.092920</td>\n",
       "      <td>0.070796</td>\n",
       "      <td>0.026549</td>\n",
       "      <td>0.119469</td>\n",
       "      <td>0.017699</td>\n",
       "      <td>0.008850</td>\n",
       "      <td>0.008850</td>\n",
       "      <td>0.004425</td>\n",
       "      <td>NaN</td>\n",
       "    </tr>\n",
       "    <tr>\n",
       "      <th>2</th>\n",
       "      <td>Satire</td>\n",
       "      <td>In a freak accident following Game 3 of the N....</td>\n",
       "      <td>In freak accident following Game 3 N.B.A. Fina...</td>\n",
       "      <td>15</td>\n",
       "      <td>167</td>\n",
       "      <td>0.089820</td>\n",
       "      <td>6</td>\n",
       "      <td>2.500000</td>\n",
       "      <td>0.031579</td>\n",
       "      <td>0.010526</td>\n",
       "      <td>...</td>\n",
       "      <td>0.078947</td>\n",
       "      <td>0.089474</td>\n",
       "      <td>0.078947</td>\n",
       "      <td>0.036842</td>\n",
       "      <td>0.115789</td>\n",
       "      <td>0.021053</td>\n",
       "      <td>0.026316</td>\n",
       "      <td>NaN</td>\n",
       "      <td>NaN</td>\n",
       "      <td>NaN</td>\n",
       "    </tr>\n",
       "    <tr>\n",
       "      <th>3</th>\n",
       "      <td>Satire</td>\n",
       "      <td>North Koreas official news agency announced to...</td>\n",
       "      <td>North Koreas official news agency announced to...</td>\n",
       "      <td>11</td>\n",
       "      <td>134</td>\n",
       "      <td>0.082090</td>\n",
       "      <td>5</td>\n",
       "      <td>2.200000</td>\n",
       "      <td>0.034014</td>\n",
       "      <td>0.013605</td>\n",
       "      <td>...</td>\n",
       "      <td>0.095238</td>\n",
       "      <td>0.081633</td>\n",
       "      <td>0.020408</td>\n",
       "      <td>0.061224</td>\n",
       "      <td>0.129252</td>\n",
       "      <td>0.006803</td>\n",
       "      <td>0.034014</td>\n",
       "      <td>NaN</td>\n",
       "      <td>NaN</td>\n",
       "      <td>NaN</td>\n",
       "    </tr>\n",
       "    <tr>\n",
       "      <th>4</th>\n",
       "      <td>Satire</td>\n",
       "      <td>The former Alaska Governor Sarah Palin would b...</td>\n",
       "      <td>The former Alaska Governor Sarah Palin would b...</td>\n",
       "      <td>19</td>\n",
       "      <td>177</td>\n",
       "      <td>0.107345</td>\n",
       "      <td>9</td>\n",
       "      <td>2.111111</td>\n",
       "      <td>0.024876</td>\n",
       "      <td>0.029851</td>\n",
       "      <td>...</td>\n",
       "      <td>0.084577</td>\n",
       "      <td>0.114428</td>\n",
       "      <td>0.054726</td>\n",
       "      <td>0.059701</td>\n",
       "      <td>0.099502</td>\n",
       "      <td>0.029851</td>\n",
       "      <td>0.009950</td>\n",
       "      <td>NaN</td>\n",
       "      <td>NaN</td>\n",
       "      <td>NaN</td>\n",
       "    </tr>\n",
       "    <tr>\n",
       "      <th>5</th>\n",
       "      <td>Satire</td>\n",
       "      <td>With the first Presidential debate just two da...</td>\n",
       "      <td>With first Presidential debate two day away, G...</td>\n",
       "      <td>16</td>\n",
       "      <td>221</td>\n",
       "      <td>0.072398</td>\n",
       "      <td>10</td>\n",
       "      <td>1.600000</td>\n",
       "      <td>0.011905</td>\n",
       "      <td>0.047619</td>\n",
       "      <td>...</td>\n",
       "      <td>0.079365</td>\n",
       "      <td>0.103175</td>\n",
       "      <td>0.075397</td>\n",
       "      <td>0.039683</td>\n",
       "      <td>0.111111</td>\n",
       "      <td>0.015873</td>\n",
       "      <td>0.011905</td>\n",
       "      <td>0.011905</td>\n",
       "      <td>NaN</td>\n",
       "      <td>NaN</td>\n",
       "    </tr>\n",
       "    <tr>\n",
       "      <th>6</th>\n",
       "      <td>Satire</td>\n",
       "      <td>There are fans, and then there are super-fans....</td>\n",
       "      <td>There fans, super-fans. And 26-year-old Ricky ...</td>\n",
       "      <td>41</td>\n",
       "      <td>296</td>\n",
       "      <td>0.138514</td>\n",
       "      <td>21</td>\n",
       "      <td>1.952381</td>\n",
       "      <td>0.025140</td>\n",
       "      <td>0.061453</td>\n",
       "      <td>...</td>\n",
       "      <td>0.067039</td>\n",
       "      <td>0.125698</td>\n",
       "      <td>0.075419</td>\n",
       "      <td>0.030726</td>\n",
       "      <td>0.055866</td>\n",
       "      <td>0.027933</td>\n",
       "      <td>0.027933</td>\n",
       "      <td>0.013966</td>\n",
       "      <td>NaN</td>\n",
       "      <td>0.005587</td>\n",
       "    </tr>\n",
       "    <tr>\n",
       "      <th>7</th>\n",
       "      <td>Satire</td>\n",
       "      <td>With its landmark decisions this week, the Uni...</td>\n",
       "      <td>With landmark decision week, United States Sup...</td>\n",
       "      <td>17</td>\n",
       "      <td>192</td>\n",
       "      <td>0.088542</td>\n",
       "      <td>11</td>\n",
       "      <td>1.545455</td>\n",
       "      <td>0.009050</td>\n",
       "      <td>0.058824</td>\n",
       "      <td>...</td>\n",
       "      <td>0.095023</td>\n",
       "      <td>0.104072</td>\n",
       "      <td>0.049774</td>\n",
       "      <td>0.031674</td>\n",
       "      <td>0.122172</td>\n",
       "      <td>0.022624</td>\n",
       "      <td>0.022624</td>\n",
       "      <td>0.004525</td>\n",
       "      <td>NaN</td>\n",
       "      <td>NaN</td>\n",
       "    </tr>\n",
       "    <tr>\n",
       "      <th>8</th>\n",
       "      <td>Satire</td>\n",
       "      <td>Koch Industries is defending its acquisition o...</td>\n",
       "      <td>Koch Industries defending acquisition Wisconsi...</td>\n",
       "      <td>15</td>\n",
       "      <td>158</td>\n",
       "      <td>0.094937</td>\n",
       "      <td>6</td>\n",
       "      <td>2.500000</td>\n",
       "      <td>0.039773</td>\n",
       "      <td>0.028409</td>\n",
       "      <td>...</td>\n",
       "      <td>0.096591</td>\n",
       "      <td>0.090909</td>\n",
       "      <td>0.051136</td>\n",
       "      <td>0.045455</td>\n",
       "      <td>0.147727</td>\n",
       "      <td>0.011364</td>\n",
       "      <td>0.022727</td>\n",
       "      <td>NaN</td>\n",
       "      <td>NaN</td>\n",
       "      <td>NaN</td>\n",
       "    </tr>\n",
       "    <tr>\n",
       "      <th>9</th>\n",
       "      <td>Satire</td>\n",
       "      <td>Republican lawmakers asked increasingly tough ...</td>\n",
       "      <td>Republican lawmaker asked increasingly tough q...</td>\n",
       "      <td>21</td>\n",
       "      <td>209</td>\n",
       "      <td>0.100478</td>\n",
       "      <td>11</td>\n",
       "      <td>1.909091</td>\n",
       "      <td>0.025105</td>\n",
       "      <td>0.041841</td>\n",
       "      <td>...</td>\n",
       "      <td>0.071130</td>\n",
       "      <td>0.112971</td>\n",
       "      <td>0.100418</td>\n",
       "      <td>0.037657</td>\n",
       "      <td>0.146444</td>\n",
       "      <td>0.012552</td>\n",
       "      <td>0.004184</td>\n",
       "      <td>NaN</td>\n",
       "      <td>NaN</td>\n",
       "      <td>NaN</td>\n",
       "    </tr>\n",
       "  </tbody>\n",
       "</table>\n",
       "<p>10 rows × 25 columns</p>\n",
       "</div>"
      ],
      "text/plain": [
       "    label                                               text  \\\n",
       "0  Satire  When so many actors seem content to churn out ...   \n",
       "1  Satire   In what football insiders are calling an unex...   \n",
       "2  Satire  In a freak accident following Game 3 of the N....   \n",
       "3  Satire  North Koreas official news agency announced to...   \n",
       "4  Satire  The former Alaska Governor Sarah Palin would b...   \n",
       "5  Satire  With the first Presidential debate just two da...   \n",
       "6  Satire  There are fans, and then there are super-fans....   \n",
       "7  Satire  With its landmark decisions this week, the Uni...   \n",
       "8  Satire  Koch Industries is defending its acquisition o...   \n",
       "9  Satire  Republican lawmakers asked increasingly tough ...   \n",
       "\n",
       "                                      processed_text  num_clauses  word_count  \\\n",
       "0  When many actor seem content churn performance...           33         251   \n",
       "1  In football insider calling unexpectedly sever...           18         202   \n",
       "2  In freak accident following Game 3 N.B.A. Fina...           15         167   \n",
       "3  North Koreas official news agency announced to...           11         134   \n",
       "4  The former Alaska Governor Sarah Palin would b...           19         177   \n",
       "5  With first Presidential debate two day away, G...           16         221   \n",
       "6  There fans, super-fans. And 26-year-old Ricky ...           41         296   \n",
       "7  With landmark decision week, United States Sup...           17         192   \n",
       "8  Koch Industries defending acquisition Wisconsi...           15         158   \n",
       "9  Republican lawmaker asked increasingly tough q...           21         209   \n",
       "\n",
       "   clause_to_word_ratio  sentence_count  clauses_per_sentence  pos_feature_1  \\\n",
       "0              0.131474              16              2.062500       0.044068   \n",
       "1              0.089109              12              1.500000       0.013274   \n",
       "2              0.089820               6              2.500000       0.031579   \n",
       "3              0.082090               5              2.200000       0.034014   \n",
       "4              0.107345               9              2.111111       0.024876   \n",
       "5              0.072398              10              1.600000       0.011905   \n",
       "6              0.138514              21              1.952381       0.025140   \n",
       "7              0.088542              11              1.545455       0.009050   \n",
       "8              0.094937               6              2.500000       0.039773   \n",
       "9              0.100478              11              1.909091       0.025105   \n",
       "\n",
       "   pos_feature_2  ...  pos_feature_8  pos_feature_9  pos_feature_10  \\\n",
       "0       0.057627  ...       0.057627       0.111864        0.138983   \n",
       "1       0.035398  ...       0.128319       0.092920        0.070796   \n",
       "2       0.010526  ...       0.078947       0.089474        0.078947   \n",
       "3       0.013605  ...       0.095238       0.081633        0.020408   \n",
       "4       0.029851  ...       0.084577       0.114428        0.054726   \n",
       "5       0.047619  ...       0.079365       0.103175        0.075397   \n",
       "6       0.061453  ...       0.067039       0.125698        0.075419   \n",
       "7       0.058824  ...       0.095023       0.104072        0.049774   \n",
       "8       0.028409  ...       0.096591       0.090909        0.051136   \n",
       "9       0.041841  ...       0.071130       0.112971        0.100418   \n",
       "\n",
       "   pos_feature_11  pos_feature_12  pos_feature_13  pos_feature_14  \\\n",
       "0        0.057627        0.033898        0.013559        0.003390   \n",
       "1        0.026549        0.119469        0.017699        0.008850   \n",
       "2        0.036842        0.115789        0.021053        0.026316   \n",
       "3        0.061224        0.129252        0.006803        0.034014   \n",
       "4        0.059701        0.099502        0.029851        0.009950   \n",
       "5        0.039683        0.111111        0.015873        0.011905   \n",
       "6        0.030726        0.055866        0.027933        0.027933   \n",
       "7        0.031674        0.122172        0.022624        0.022624   \n",
       "8        0.045455        0.147727        0.011364        0.022727   \n",
       "9        0.037657        0.146444        0.012552        0.004184   \n",
       "\n",
       "   pos_feature_15  pos_feature_16  pos_feature_17  \n",
       "0        0.003390             NaN             NaN  \n",
       "1        0.008850        0.004425             NaN  \n",
       "2             NaN             NaN             NaN  \n",
       "3             NaN             NaN             NaN  \n",
       "4             NaN             NaN             NaN  \n",
       "5        0.011905             NaN             NaN  \n",
       "6        0.013966             NaN        0.005587  \n",
       "7        0.004525             NaN             NaN  \n",
       "8             NaN             NaN             NaN  \n",
       "9             NaN             NaN             NaN  \n",
       "\n",
       "[10 rows x 25 columns]"
      ]
     },
     "execution_count": 71,
     "metadata": {},
     "output_type": "execute_result"
    }
   ],
   "source": [
    "df_test.head(10)"
   ]
  },
  {
   "cell_type": "markdown",
   "id": "d85f061b-3749-4ef8-b875-958b505afe5d",
   "metadata": {},
   "source": [
    "# Model training and evaluation"
   ]
  },
  {
   "cell_type": "code",
   "execution_count": 17,
   "id": "4a3dd05b-2b3a-4fe0-93a2-8108316991a6",
   "metadata": {},
   "outputs": [],
   "source": [
    "# Training set\n",
    "X_train = df_train['processed_text']\n",
    "y_train = df_train['label']\n",
    "\n",
    "# Testing set\n",
    "X_test = df_test['processed_text']\n",
    "y_test = df_test['label']"
   ]
  },
  {
   "cell_type": "markdown",
   "id": "661f5a15-1d59-4ed2-b45e-1fa758e0be2a",
   "metadata": {},
   "source": [
    "## Choose a Vectorizer"
   ]
  },
  {
   "cell_type": "code",
   "execution_count": 34,
   "id": "f827932d-929d-42f8-836b-c3876d89925b",
   "metadata": {},
   "outputs": [],
   "source": [
    "# Choose the appropriate vectorizer here\n",
    "# vectorizer = CountVectorizer(max_features = 10000)\n",
    "vectorizer = TfidfVectorizer(max_features = 10000)\n",
    "# vectorizer = TfidfVectorizer(ngram_range = (1, 2), max_features = 10000)"
   ]
  },
  {
   "cell_type": "markdown",
   "id": "4d848f97-c7a9-4c3f-b123-d5ac4c37bdb1",
   "metadata": {},
   "source": [
    "## Vectorize"
   ]
  },
  {
   "cell_type": "code",
   "execution_count": 35,
   "id": "3ca33446-9fec-4768-af26-3edec30fa3c7",
   "metadata": {},
   "outputs": [],
   "source": [
    "X_train_counts = vectorizer.fit_transform(X_train)\n",
    "X_test_counts = vectorizer.transform(X_test)"
   ]
  },
  {
   "cell_type": "markdown",
   "id": "eddfcf79-f16b-4336-934b-ddd5c05ce47f",
   "metadata": {},
   "source": [
    "## Oversampling"
   ]
  },
  {
   "cell_type": "markdown",
   "id": "68307ca3-1ac1-41ea-9a89-0c5a7a073ed9",
   "metadata": {},
   "source": [
    "### For generating new files"
   ]
  },
  {
   "cell_type": "code",
   "execution_count": null,
   "id": "f41c5802-7659-443e-98d1-8cd700873f26",
   "metadata": {},
   "outputs": [],
   "source": [
    "# Only use this when you need to generate new files\n",
    "\n",
    "# smote = SMOTE(random_state=42)\n",
    "# X_train_oversampled, y_train_oversampled = smote.fit_resample(X_train_counts, y_train)\n",
    "\n",
    "# Saving the sparse matrix (X_train_oversampled) to an NPZ file\n",
    "# save_npz('X_train_ioversampled_nsert_type_here.npz', X_train_oversampled)\n",
    "\n",
    "# # If y_train_oversampled is a pandas Series, convert it to a numpy array before saving\n",
    "# # This step ensures compatibility and space efficiency\n",
    "# y_train_oversampled_np = y_train_oversampled.to_numpy() if hasattr(y_train_oversampled, 'to_numpy') else y_train_oversampled\n",
    "\n",
    "# # Saving the labels (y_train_oversampled) to an NPY file\n",
    "# np.save('y_train_oversampled_insert_type_here.npy', y_train_oversampled_np)\n"
   ]
  },
  {
   "cell_type": "markdown",
   "id": "45470fa4-8dd3-4211-8706-315411346ed0",
   "metadata": {},
   "source": [
    "## Load in pre-oversampled data"
   ]
  },
  {
   "cell_type": "code",
   "execution_count": null,
   "id": "c0674bc5-c8a4-4f96-8fa8-05c432ca44c0",
   "metadata": {},
   "outputs": [],
   "source": [
    "# # Bow \n",
    "# X_train_oversampled_bow = load_npz('raw_data/X_train_oversampled_bow.npz')\n",
    "# y_train_oversampled_bow = np.load('raw_data/y_train_oversampled_bow.npy', allow_pickle=True)\n",
    "\n",
    "# # TfIdf\n",
    "# X_train_oversampled_tfidf = load_npz('raw_data/X_train_oversampled_tfidf.npz')\n",
    "# y_train_oversampled_tfidf= np.load('raw_data/y_train_oversampled_tfidf.npy', allow_pickle=True)\n",
    "\n",
    "# # # TfIdf with n_grams\n",
    "# X_train_oversampled_tfidf_ngrams = load_npz('raw_data/X_train_oversampled_tfidf_ngrams.npz')\n",
    "# y_train_oversampled_tfidf_ngrams = np.load('raw_data/y_train_oversampled_tfidf_ngrams.npy', allow_pickle=True)"
   ]
  },
  {
   "cell_type": "markdown",
   "id": "622acf47-dd25-456b-a1f6-01db258bca67",
   "metadata": {},
   "source": [
    "## Multinomial Naive Bayes baseline"
   ]
  },
  {
   "cell_type": "code",
   "execution_count": 56,
   "id": "b755b8e7-7f4a-4c9d-acac-3703b13e4120",
   "metadata": {},
   "outputs": [
    {
     "name": "stdout",
     "output_type": "stream",
     "text": [
      "               precision    recall  f1-score   support\n",
      "\n",
      "         Hoax       0.85      0.41      0.55       750\n",
      "   Propaganda       0.58      0.85      0.69       750\n",
      "Reliable News       0.82      0.90      0.86       750\n",
      "       Satire       0.85      0.83      0.84       750\n",
      "\n",
      "     accuracy                           0.75      3000\n",
      "    macro avg       0.78      0.75      0.74      3000\n",
      " weighted avg       0.78      0.75      0.74      3000\n",
      "\n",
      "Macro F1 Score: 0.735\n"
     ]
    }
   ],
   "source": [
    "# Naive Bayes classifier\n",
    "clf = LogisticRegression(max_iter = 1000)\n",
    "\n",
    "# Fit the correct oversampled training set depending on your vectorizer\n",
    "clf.fit(X_train_counts, y_train)\n",
    "\n",
    "# Predict\n",
    "y_pred = clf.predict(X_test_counts)\n",
    "\n",
    "# Score\n",
    "print(classification_report(y_test, y_pred))\n",
    "\n",
    "macro_f1 = f1_score(y_test, y_pred, average='macro')\n",
    "\n",
    "print(f'Macro F1 Score: {macro_f1:.3f}')"
   ]
  },
  {
   "cell_type": "code",
   "execution_count": null,
   "id": "bd2947e7-6c54-40c5-b793-d45e3931e3d7",
   "metadata": {},
   "outputs": [],
   "source": [
    "df_train.head(10)"
   ]
  },
  {
   "cell_type": "markdown",
   "id": "221b1790-ee6f-4fe5-80df-0d4895228acc",
   "metadata": {},
   "source": [
    "# Try the new features"
   ]
  },
  {
   "cell_type": "code",
   "execution_count": 55,
   "id": "a99a6a12-1586-47bf-a921-cf27cfd9e9d6",
   "metadata": {},
   "outputs": [
    {
     "name": "stdout",
     "output_type": "stream",
     "text": [
      "               precision    recall  f1-score   support\n",
      "\n",
      "         Hoax       0.85      0.41      0.55       750\n",
      "   Propaganda       0.58      0.84      0.69       750\n",
      "Reliable News       0.81      0.91      0.86       750\n",
      "       Satire       0.84      0.82      0.83       750\n",
      "\n",
      "     accuracy                           0.74      3000\n",
      "    macro avg       0.77      0.74      0.73      3000\n",
      " weighted avg       0.77      0.74      0.73      3000\n",
      "\n",
      "Macro F1 Score: 0.731\n"
     ]
    }
   ],
   "source": [
    "from scipy.sparse import hstack\n",
    "from sklearn.feature_extraction.text import TfidfVectorizer\n",
    "from sklearn.metrics import classification_report, f1_score\n",
    "from sklearn.naive_bayes import MultinomialNB\n",
    "from sklearn.preprocessing import MinMaxScaler\n",
    "\n",
    "vectorizer = TfidfVectorizer(max_features = 10000)\n",
    "X_train_bow = vectorizer.fit_transform(X_train)\n",
    "X_test_bow = vectorizer.transform(X_test)\n",
    "\n",
    "additional_features_train = df_train[[\"clauses_per_sentence\"]]\n",
    "additional_features_test = df_test[[\"clauses_per_sentence\"]]\n",
    "\n",
    "X_train_combined = hstack([X_train_bow, additional_features_train])\n",
    "X_test_combined = hstack([X_test_bow, additional_features_test])\n",
    "\n",
    "# Fitting the Naive Bayes classifier\n",
    "clf = LogisticRegression(max_iter = 1000)\n",
    "clf.fit(X_train_combined, y_train)\n",
    "\n",
    "# Predicting and Scoring\n",
    "y_pred = clf.predict(X_test_combined)\n",
    "print(classification_report(y_test, y_pred))\n",
    "macro_f1 = f1_score(y_test, y_pred, average='macro')\n",
    "print(f'Macro F1 Score: {macro_f1:.3f}')\n"
   ]
  },
  {
   "cell_type": "code",
   "execution_count": 25,
   "id": "be0dc507-b030-4e4c-ab28-9745f4c4be4c",
   "metadata": {},
   "outputs": [
    {
     "data": {
      "image/png": "[encoded data removed]",
      "text/plain": [
       "<Figure size 640x480 with 2 Axes>"
      ]
     },
     "metadata": {},
     "output_type": "display_data"
    }
   ],
   "source": [
    "cm = confusion_matrix(y_test, y_pred)\n",
    "disp = ConfusionMatrixDisplay(confusion_matrix=cm)\n",
    "disp.plot(cmap=plt.cm.Blues)\n",
    "plt.title('Confusion Matrix')\n",
    "plt.show()"
   ]
  }
 ],
 "metadata": {
  "kernelspec": {
   "display_name": "Python 3 (ipykernel)",
   "language": "python",
   "name": "python3"
  },
  "language_info": {
   "codemirror_mode": {
    "name": "ipython",
    "version": 3
   },
   "file_extension": ".py",
   "mimetype": "text/x-python",
   "name": "python",
   "nbconvert_exporter": "python",
   "pygments_lexer": "ipython3",
   "version": "3.11.8"
  }
 },
 "nbformat": 4,
 "nbformat_minor": 5
}
